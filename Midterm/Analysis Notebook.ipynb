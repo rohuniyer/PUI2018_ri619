{
 "cells": [
  {
   "cell_type": "markdown",
   "metadata": {},
   "source": [
    "# Null/Alternative Hypotheses\n",
    "\n",
    "* One tail\n",
    "   \n",
    "   * Null: Test whether a phenomenon measures more/less for one group than for the other \n",
    "       * If you have a test control sample: test sample is the same or better than the control sample\n",
    "        \n",
    "       * Falsify the null hypothesis: Do you see an improvement? Is your test sample better/worse?\n",
    "       \n",
    "* Two Tail\n",
    "    \n",
    "    * Null: No relationship between two measured phenomena, or no difference among groups\n",
    "        * If you have a test control sample: test sample and control sample are the same\n",
    "        \n",
    "        * Falsify the null hypothesis: Do you see an effect? Do you see a difference between sample. \n",
    "        \n",
    "        \n",
    "        \n",
    "* P-Value\n",
    "\n",
    "    * The P-value is the probability that a test statistic at least as significant as the one observed would be obtained assuming that the null hypothesis were true.\n",
    "    \n",
    "* Z-Score\n",
    "    * How many standard deviations away from the mean"
   ]
  },
  {
   "cell_type": "markdown",
   "metadata": {},
   "source": [
    "# Statistical Tests\n",
    "\n",
    "* Z-Statistic\n",
    "    * Is there a difference between means or population and sample, difference between proportion in 2 samples?\n",
    "        * Need a population (or close enough to it in order to do test)\n",
    "        * Need a standard deviation in order to perform this test\n",
    "    * The Z-score will give you the distribution of the test statistic under the null hypothesis. \n",
    "\n",
    "* Student's T\n",
    "    * Is there a difference between the mean of 2 samples?\n",
    "    * t is distributed according to a t-distribution with v degrees of freedom of the problem\n",
    "    * Use if you dont have the population i.e. you dont have the standard deviation\n",
    "\n",
    "* F Statistic\n",
    "    * \n",
    "\n",
    "* Chi Squared\n",
    "    * Distributed according to a Chi Squared Distribution with k degrees of freedom\n",
    "    \n",
    "    \n",
    "### https://home.ubalt.edu/ntsbarsh/Business-stat/StatistialTables.pdf\n",
    "\n",
    "Statistical Table values\n"
   ]
  },
  {
   "cell_type": "markdown",
   "metadata": {},
   "source": [
    "# Distributions \n",
    "\n",
    "## Gaussian\n",
    "* \n",
    "\n",
    "## Poisson\n",
    "* \n",
    "\n",
    "## Chi-Squared\n",
    "* Distribution of a sum of the squares of independent standard normal variables\n",
    "\n",
    "## Binomial \n",
    "* \n",
    "\n"
   ]
  },
  {
   "cell_type": "markdown",
   "metadata": {},
   "source": [
    "# Correlation Tests\n",
    "\n",
    "## KS Test\n",
    "* Null: The samples come from the same parent distribution\n",
    "    * Null rejected based on the max difference between the two distributions. In this test, we are testing if the two samples come from the same population. \n",
    "    \n",
    "    * If you get a low KS stat AND low p-value, test against cheatsheet value to see whether or not to reject Null.\n",
    "\n",
    "## Pearson's\n",
    "* Analysis\n",
    "    * -1 anticorrelated\n",
    "    * 0 uncorrelated\n",
    "    * 1 perfectly correlated\n",
    "    \n",
    "* This test looks at linear correlation. So a nonlinear correlation will give a low uncorrelated value. \n",
    "    \n",
    "\n",
    "## Spearman's \n",
    "* Rank correlation test. The Spearman correlation is equal to the Pearson correlation but it is the rank values rather than the actual values.\n",
    "    * \n",
    "\n",
    "* Spearman's analysis gives correlation for any monotonic relationship\n",
    "    \n",
    "\n",
    "\n",
    "### Cheatsheet\n",
    "\n",
    "(insert image)"
   ]
  },
  {
   "cell_type": "code",
   "execution_count": null,
   "metadata": {},
   "outputs": [],
   "source": []
  }
 ],
 "metadata": {
  "kernelspec": {
   "display_name": "PUI2016_Python3",
   "language": "python",
   "name": "pui2016_python3"
  },
  "language_info": {
   "codemirror_mode": {
    "name": "ipython",
    "version": 3
   },
   "file_extension": ".py",
   "mimetype": "text/x-python",
   "name": "python",
   "nbconvert_exporter": "python",
   "pygments_lexer": "ipython3",
   "version": "3.5.4"
  }
 },
 "nbformat": 4,
 "nbformat_minor": 2
}
