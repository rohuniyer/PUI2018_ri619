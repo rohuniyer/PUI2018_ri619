{
 "cells": [
  {
   "cell_type": "code",
   "execution_count": 1,
   "metadata": {},
   "outputs": [],
   "source": [
    "import os\n",
    "puidata = os.getenv(\"PUIDATA\")\n",
    "if puidata is None:\n",
    "    os.environ[\"PUIDATA\"] = \"%s/PUIdata\"%os.getenv(\"HOME\")\n",
    "    puidata = os.getenv(\"PUIDATA\")"
   ]
  },
  {
   "cell_type": "code",
   "execution_count": 2,
   "metadata": {},
   "outputs": [],
   "source": [
    "import pandas as pd\n",
    "import numpy as np\n",
    "from datetime import datetime"
   ]
  },
  {
   "cell_type": "code",
   "execution_count": 5,
   "metadata": {},
   "outputs": [
    {
     "name": "stderr",
     "output_type": "stream",
     "text": [
      "/usr/local/Anaconda3-5.0.0-Linux-x86_64/envs/PUI2016_Python3/lib/python3.5/site-packages/IPython/core/interactiveshell.py:2717: DtypeWarning: Columns (6) have mixed types. Specify dtype option on import or set low_memory=False.\n",
      "  interactivity=interactivity, compiler=compiler, result=result)\n"
     ]
    }
   ],
   "source": [
    "# Downloading Citywide Payroll Data through NYC OpenData Portal\n",
    "## https://data.cityofnewyork.us/City-Government/Citywide-Payroll-Data-Fiscal-Year-/k397-673e\n",
    "# Unhash the below in order to run the data\n",
    "\n",
    "data = os.path.join(puidata,'Payroll.csv')\n",
    "payroll = pd.read_csv(data)"
   ]
  },
  {
   "cell_type": "code",
   "execution_count": 8,
   "metadata": {},
   "outputs": [
    {
     "data": {
      "text/html": [
       "<div>\n",
       "<table border=\"1\" class=\"dataframe\">\n",
       "  <thead>\n",
       "    <tr style=\"text-align: right;\">\n",
       "      <th></th>\n",
       "      <th>Fiscal Year</th>\n",
       "      <th>Agency Name</th>\n",
       "      <th>Last Name</th>\n",
       "      <th>First Name</th>\n",
       "      <th>Mid Init</th>\n",
       "      <th>Agency Start Date</th>\n",
       "      <th>Work Location Borough</th>\n",
       "      <th>Title Description</th>\n",
       "      <th>Leave Status as of June 30</th>\n",
       "      <th>Base Salary</th>\n",
       "      <th>Pay Basis</th>\n",
       "      <th>Regular Hours</th>\n",
       "      <th>Regular Gross Paid</th>\n",
       "      <th>OT Hours</th>\n",
       "      <th>Total OT Paid</th>\n",
       "      <th>Total Other Pay</th>\n",
       "    </tr>\n",
       "  </thead>\n",
       "  <tbody>\n",
       "    <tr>\n",
       "      <th>0</th>\n",
       "      <td>2016</td>\n",
       "      <td>DISTRICT ATTORNEY-MANHATTAN</td>\n",
       "      <td>ABA'AHMID</td>\n",
       "      <td>RAHASHEEM</td>\n",
       "      <td>E</td>\n",
       "      <td>07/14/2003</td>\n",
       "      <td>MANHATTAN</td>\n",
       "      <td>COMMUNITY ASSOCIATE                           ...</td>\n",
       "      <td>ACTIVE</td>\n",
       "      <td>47678.0</td>\n",
       "      <td>per Annum</td>\n",
       "      <td>1830.00</td>\n",
       "      <td>47166.03</td>\n",
       "      <td>2.25</td>\n",
       "      <td>57.28</td>\n",
       "      <td>0.0</td>\n",
       "    </tr>\n",
       "    <tr>\n",
       "      <th>1</th>\n",
       "      <td>2016</td>\n",
       "      <td>DISTRICT ATTORNEY-MANHATTAN</td>\n",
       "      <td>ABENSUR</td>\n",
       "      <td>MARGARET</td>\n",
       "      <td>NaN</td>\n",
       "      <td>06/12/1995</td>\n",
       "      <td>MANHATTAN</td>\n",
       "      <td>ADMINISTRATIVE ACCOUNTANT                     ...</td>\n",
       "      <td>ACTIVE</td>\n",
       "      <td>119959.0</td>\n",
       "      <td>per Annum</td>\n",
       "      <td>1831.00</td>\n",
       "      <td>119042.50</td>\n",
       "      <td>0.00</td>\n",
       "      <td>0.00</td>\n",
       "      <td>0.0</td>\n",
       "    </tr>\n",
       "    <tr>\n",
       "      <th>2</th>\n",
       "      <td>2016</td>\n",
       "      <td>DISTRICT ATTORNEY-MANHATTAN</td>\n",
       "      <td>ABOUNAOUM</td>\n",
       "      <td>ANDREA</td>\n",
       "      <td>L</td>\n",
       "      <td>10/11/2011</td>\n",
       "      <td>MANHATTAN</td>\n",
       "      <td>COMMUNITY ASSOCIATE                           ...</td>\n",
       "      <td>ON LEAVE</td>\n",
       "      <td>39966.0</td>\n",
       "      <td>per Annum</td>\n",
       "      <td>1181.68</td>\n",
       "      <td>27452.62</td>\n",
       "      <td>1.00</td>\n",
       "      <td>21.34</td>\n",
       "      <td>33.0</td>\n",
       "    </tr>\n",
       "    <tr>\n",
       "      <th>3</th>\n",
       "      <td>2016</td>\n",
       "      <td>DISTRICT ATTORNEY-MANHATTAN</td>\n",
       "      <td>ABRAHAM</td>\n",
       "      <td>JONATHAN</td>\n",
       "      <td>J</td>\n",
       "      <td>12/01/2014</td>\n",
       "      <td>MANHATTAN</td>\n",
       "      <td>COMPUTER SYSTEMS MANAGER                      ...</td>\n",
       "      <td>ACTIVE</td>\n",
       "      <td>116000.0</td>\n",
       "      <td>per Annum</td>\n",
       "      <td>1831.00</td>\n",
       "      <td>115104.57</td>\n",
       "      <td>0.00</td>\n",
       "      <td>0.00</td>\n",
       "      <td>0.0</td>\n",
       "    </tr>\n",
       "    <tr>\n",
       "      <th>4</th>\n",
       "      <td>2016</td>\n",
       "      <td>DISTRICT ATTORNEY-MANHATTAN</td>\n",
       "      <td>ABRAMS</td>\n",
       "      <td>JOSEPH</td>\n",
       "      <td>NaN</td>\n",
       "      <td>05/21/2015</td>\n",
       "      <td>MANHATTAN</td>\n",
       "      <td>COLLEGE AIDE                                  ...</td>\n",
       "      <td>CEASED</td>\n",
       "      <td>1.0</td>\n",
       "      <td>per Hour</td>\n",
       "      <td>0.00</td>\n",
       "      <td>3500.00</td>\n",
       "      <td>0.00</td>\n",
       "      <td>0.00</td>\n",
       "      <td>0.0</td>\n",
       "    </tr>\n",
       "    <tr>\n",
       "      <th>5</th>\n",
       "      <td>2016</td>\n",
       "      <td>DISTRICT ATTORNEY-MANHATTAN</td>\n",
       "      <td>ABREU</td>\n",
       "      <td>JENNIFER</td>\n",
       "      <td>NaN</td>\n",
       "      <td>09/04/2012</td>\n",
       "      <td>MANHATTAN</td>\n",
       "      <td>ASSISTANT DISTRICT ATTORNEY                   ...</td>\n",
       "      <td>ACTIVE</td>\n",
       "      <td>71500.0</td>\n",
       "      <td>per Annum</td>\n",
       "      <td>1831.00</td>\n",
       "      <td>71967.34</td>\n",
       "      <td>0.00</td>\n",
       "      <td>0.00</td>\n",
       "      <td>0.0</td>\n",
       "    </tr>\n",
       "    <tr>\n",
       "      <th>6</th>\n",
       "      <td>2016</td>\n",
       "      <td>DISTRICT ATTORNEY-MANHATTAN</td>\n",
       "      <td>ABREU</td>\n",
       "      <td>JUAN</td>\n",
       "      <td>D</td>\n",
       "      <td>09/04/2007</td>\n",
       "      <td>MANHATTAN</td>\n",
       "      <td>ASSISTANT DISTRICT ATTORNEY                   ...</td>\n",
       "      <td>ACTIVE</td>\n",
       "      <td>88000.0</td>\n",
       "      <td>per Annum</td>\n",
       "      <td>1831.00</td>\n",
       "      <td>87614.01</td>\n",
       "      <td>0.00</td>\n",
       "      <td>0.00</td>\n",
       "      <td>750.0</td>\n",
       "    </tr>\n",
       "  </tbody>\n",
       "</table>\n",
       "</div>"
      ],
      "text/plain": [
       "   Fiscal Year                     Agency Name  Last Name First Name Mid Init  \\\n",
       "0         2016  DISTRICT ATTORNEY-MANHATTAN     ABA'AHMID  RAHASHEEM        E   \n",
       "1         2016  DISTRICT ATTORNEY-MANHATTAN       ABENSUR   MARGARET      NaN   \n",
       "2         2016  DISTRICT ATTORNEY-MANHATTAN     ABOUNAOUM     ANDREA        L   \n",
       "3         2016  DISTRICT ATTORNEY-MANHATTAN       ABRAHAM   JONATHAN        J   \n",
       "4         2016  DISTRICT ATTORNEY-MANHATTAN        ABRAMS     JOSEPH      NaN   \n",
       "5         2016  DISTRICT ATTORNEY-MANHATTAN         ABREU   JENNIFER      NaN   \n",
       "6         2016  DISTRICT ATTORNEY-MANHATTAN         ABREU       JUAN        D   \n",
       "\n",
       "  Agency Start Date Work Location Borough  \\\n",
       "0        07/14/2003         MANHATTAN       \n",
       "1        06/12/1995         MANHATTAN       \n",
       "2        10/11/2011         MANHATTAN       \n",
       "3        12/01/2014         MANHATTAN       \n",
       "4        05/21/2015         MANHATTAN       \n",
       "5        09/04/2012         MANHATTAN       \n",
       "6        09/04/2007         MANHATTAN       \n",
       "\n",
       "                                   Title Description  \\\n",
       "0  COMMUNITY ASSOCIATE                           ...   \n",
       "1  ADMINISTRATIVE ACCOUNTANT                     ...   \n",
       "2  COMMUNITY ASSOCIATE                           ...   \n",
       "3  COMPUTER SYSTEMS MANAGER                      ...   \n",
       "4  COLLEGE AIDE                                  ...   \n",
       "5  ASSISTANT DISTRICT ATTORNEY                   ...   \n",
       "6  ASSISTANT DISTRICT ATTORNEY                   ...   \n",
       "\n",
       "  Leave Status as of June 30  Base Salary   Pay Basis  Regular Hours  \\\n",
       "0                     ACTIVE      47678.0   per Annum        1830.00   \n",
       "1                     ACTIVE     119959.0   per Annum        1831.00   \n",
       "2                   ON LEAVE      39966.0   per Annum        1181.68   \n",
       "3                     ACTIVE     116000.0   per Annum        1831.00   \n",
       "4                     CEASED          1.0    per Hour           0.00   \n",
       "5                     ACTIVE      71500.0   per Annum        1831.00   \n",
       "6                     ACTIVE      88000.0   per Annum        1831.00   \n",
       "\n",
       "   Regular Gross Paid  OT Hours  Total OT Paid  Total Other Pay  \n",
       "0            47166.03      2.25          57.28              0.0  \n",
       "1           119042.50      0.00           0.00              0.0  \n",
       "2            27452.62      1.00          21.34             33.0  \n",
       "3           115104.57      0.00           0.00              0.0  \n",
       "4             3500.00      0.00           0.00              0.0  \n",
       "5            71967.34      0.00           0.00              0.0  \n",
       "6            87614.01      0.00           0.00            750.0  "
      ]
     },
     "execution_count": 8,
     "metadata": {},
     "output_type": "execute_result"
    }
   ],
   "source": [
    "payroll.head(7)"
   ]
  },
  {
   "cell_type": "code",
   "execution_count": 9,
   "metadata": {},
   "outputs": [],
   "source": [
    "#Only keeping 'base salary' and 'regular hours' fields\n",
    "payroll_simple = payroll[['Base Salary','Regular Hours']]"
   ]
  },
  {
   "cell_type": "code",
   "execution_count": 10,
   "metadata": {},
   "outputs": [
    {
     "name": "stderr",
     "output_type": "stream",
     "text": [
      "/usr/local/Anaconda3-5.0.0-Linux-x86_64/envs/PUI2016_Python3/lib/python3.5/site-packages/IPython/html.py:14: ShimWarning: The `IPython.html` package has been deprecated. You should import from `notebook` instead. `IPython.html.widgets` has moved to `ipywidgets`.\n",
      "  \"`IPython.html.widgets` has moved to `ipywidgets`.\", ShimWarning)\n"
     ]
    }
   ],
   "source": [
    "import matplotlib.pyplot as plt\n",
    "%matplotlib inline\n",
    "import seaborn as sns\n",
    "sns.set(context='notebook', style='whitegrid',palette='deep', font='sans-serif', font_scale=1, rc=None)"
   ]
  },
  {
   "cell_type": "code",
   "execution_count": 11,
   "metadata": {},
   "outputs": [
    {
     "data": {
      "text/plain": [
       "Text(0,0.5,'Base Salary')"
      ]
     },
     "execution_count": 11,
     "metadata": {},
     "output_type": "execute_result"
    },
    {
     "data": {
      "text/plain": [
       "<matplotlib.figure.Figure at 0x7f2a3245d160>"
      ]
     },
     "metadata": {},
     "output_type": "display_data"
    },
    {
     "name": "stderr",
     "output_type": "stream",
     "text": [
      "/usr/local/Anaconda3-5.0.0-Linux-x86_64/envs/PUI2016_Python3/lib/python3.5/site-packages/matplotlib/font_manager.py:1316: UserWarning: findfont: Font family ['sans-serif'] not found. Falling back to DejaVu Sans\n",
      "  (prop.get_family(), self.defaultFamily[fontext]))\n"
     ]
    },
    {
     "data": {
      "image/png": "[encoded data removed]",
      "text/plain": [
       "<matplotlib.figure.Figure at 0x7f2a32454400>"
      ]
     },
     "metadata": {},
     "output_type": "display_data"
    }
   ],
   "source": [
    "#will treat hours worked as independent variable and base salary as dependent variable\n",
    "plt.figure(figsize=(12,10))\n",
    "payroll_simple.plot(x='Regular Hours',y='Base Salary',kind='scatter',alpha=0.3)\n",
    "plt.title('Pay by Hours Worked')\n",
    "plt.xlabel('Hours Worked')\n",
    "plt.ylabel('Base Salary')"
   ]
  },
  {
   "cell_type": "markdown",
   "metadata": {},
   "source": [
    "__Figure 1:__ The graph shows the __Base Salary__ (dependent variable) plotted against the __Number of Hours__ Worked (Independent Variable). Intuitively, one can see a slightly positive relationship between the two variables. "
   ]
  },
  {
   "cell_type": "markdown",
   "metadata": {},
   "source": [
    "## Extra Credit: Using datetime fileds with *Film Permit* Data"
   ]
  },
  {
   "cell_type": "code",
   "execution_count": 12,
   "metadata": {},
   "outputs": [],
   "source": [
    "import urllib.request as urllib\n",
    "import json"
   ]
  },
  {
   "cell_type": "code",
   "execution_count": 18,
   "metadata": {},
   "outputs": [],
   "source": [
    "url = 'https://data.cityofnewyork.us/resource/6aka-uima.json'\n",
    "response = urllib.urlopen(url)\n",
    "permits = pd.read_json(response,convert_dates=['enddatetime','startdatetime'])"
   ]
  },
  {
   "cell_type": "code",
   "execution_count": 22,
   "metadata": {},
   "outputs": [
    {
     "data": {
      "text/html": [
       "<div>\n",
       "<table border=\"1\" class=\"dataframe\">\n",
       "  <thead>\n",
       "    <tr style=\"text-align: right;\">\n",
       "      <th></th>\n",
       "      <th>borough</th>\n",
       "      <th>category</th>\n",
       "      <th>communityboard_s</th>\n",
       "      <th>country</th>\n",
       "      <th>enddatetime</th>\n",
       "      <th>enteredon</th>\n",
       "      <th>eventagency</th>\n",
       "      <th>eventid</th>\n",
       "      <th>eventtype</th>\n",
       "      <th>parkingheld</th>\n",
       "      <th>policeprecinct_s</th>\n",
       "      <th>startdatetime</th>\n",
       "      <th>subcategoryname</th>\n",
       "      <th>zipcode_s</th>\n",
       "    </tr>\n",
       "  </thead>\n",
       "  <tbody>\n",
       "    <tr>\n",
       "      <th>0</th>\n",
       "      <td>Bronx</td>\n",
       "      <td>Television</td>\n",
       "      <td>1</td>\n",
       "      <td>United States of America</td>\n",
       "      <td>2016-11-29 23:00:00</td>\n",
       "      <td>2016-11-28T13:03:14.000</td>\n",
       "      <td>Mayor's Office of Film, Theatre &amp; Broadcasting</td>\n",
       "      <td>321148</td>\n",
       "      <td>Shooting Permit</td>\n",
       "      <td>LOCUST AVENUE between EAST  139 STREET and EAS...</td>\n",
       "      <td>40</td>\n",
       "      <td>2016-11-29 07:00:00</td>\n",
       "      <td>Episodic series</td>\n",
       "      <td>10454</td>\n",
       "    </tr>\n",
       "    <tr>\n",
       "      <th>1</th>\n",
       "      <td>Brooklyn</td>\n",
       "      <td>Television</td>\n",
       "      <td>1</td>\n",
       "      <td>United States of America</td>\n",
       "      <td>2016-03-29 22:00:00</td>\n",
       "      <td>2016-03-23T18:38:02.000</td>\n",
       "      <td>Mayor's Office of Film, Theatre &amp; Broadcasting</td>\n",
       "      <td>275460</td>\n",
       "      <td>Shooting Permit</td>\n",
       "      <td>KINGSLAND AVENUE between KINGSLAND AVENUE FORK...</td>\n",
       "      <td>94</td>\n",
       "      <td>2016-03-29 07:00:00</td>\n",
       "      <td>Episodic series</td>\n",
       "      <td>11222</td>\n",
       "    </tr>\n",
       "    <tr>\n",
       "      <th>2</th>\n",
       "      <td>Queens</td>\n",
       "      <td>Television</td>\n",
       "      <td>2, 5</td>\n",
       "      <td>United States of America</td>\n",
       "      <td>2014-10-31 02:00:00</td>\n",
       "      <td>2014-10-27T12:14:15.000</td>\n",
       "      <td>Mayor's Office of Film, Theatre &amp; Broadcasting</td>\n",
       "      <td>186438</td>\n",
       "      <td>Shooting Permit</td>\n",
       "      <td>LAUREL HILL BLVD between REVIEW AVENUE and RUS...</td>\n",
       "      <td>104, 108</td>\n",
       "      <td>2014-10-30 07:00:00</td>\n",
       "      <td>Episodic series</td>\n",
       "      <td>11378</td>\n",
       "    </tr>\n",
       "    <tr>\n",
       "      <th>3</th>\n",
       "      <td>Manhattan</td>\n",
       "      <td>Student</td>\n",
       "      <td>2</td>\n",
       "      <td>United States of America</td>\n",
       "      <td>2016-11-28 21:00:00</td>\n",
       "      <td>2016-11-21T15:24:42.000</td>\n",
       "      <td>Mayor's Office of Film, Theatre &amp; Broadcasting</td>\n",
       "      <td>320268</td>\n",
       "      <td>Rigging Permit</td>\n",
       "      <td>WASHINGTON PLACE between BROADWAY and MERCER S...</td>\n",
       "      <td>6</td>\n",
       "      <td>2016-11-28 18:00:00</td>\n",
       "      <td>Not Applicable</td>\n",
       "      <td>10003</td>\n",
       "    </tr>\n",
       "    <tr>\n",
       "      <th>4</th>\n",
       "      <td>Manhattan</td>\n",
       "      <td>Theater</td>\n",
       "      <td>4, 5</td>\n",
       "      <td>United States of America</td>\n",
       "      <td>2013-11-17 06:00:00</td>\n",
       "      <td>2013-11-07T15:48:28.000</td>\n",
       "      <td>Mayor's Office of Film, Theatre &amp; Broadcasting</td>\n",
       "      <td>128794</td>\n",
       "      <td>Theater Load in and Load Outs</td>\n",
       "      <td>WEST   31 STREET between 7 AVENUE and 8 AVENUE...</td>\n",
       "      <td>14</td>\n",
       "      <td>2013-11-16 00:01:00</td>\n",
       "      <td>Theater</td>\n",
       "      <td>10001, 10121</td>\n",
       "    </tr>\n",
       "    <tr>\n",
       "      <th>5</th>\n",
       "      <td>Brooklyn</td>\n",
       "      <td>Television</td>\n",
       "      <td>1, 2</td>\n",
       "      <td>United States of America</td>\n",
       "      <td>2012-01-10 19:00:00</td>\n",
       "      <td>2012-01-04T12:25:37.000</td>\n",
       "      <td>Mayor's Office of Film, Theatre &amp; Broadcasting</td>\n",
       "      <td>43547</td>\n",
       "      <td>Shooting Permit</td>\n",
       "      <td>EAGLE STREET between FRANKLIN STREET and WEST ...</td>\n",
       "      <td>108, 94</td>\n",
       "      <td>2012-01-10 07:00:00</td>\n",
       "      <td>Episodic series</td>\n",
       "      <td>11101, 11222</td>\n",
       "    </tr>\n",
       "    <tr>\n",
       "      <th>6</th>\n",
       "      <td>Brooklyn</td>\n",
       "      <td>Film</td>\n",
       "      <td>6</td>\n",
       "      <td>United States of America</td>\n",
       "      <td>2012-07-27 19:00:00</td>\n",
       "      <td>2012-07-23T19:26:03.000</td>\n",
       "      <td>Mayor's Office of Film, Theatre &amp; Broadcasting</td>\n",
       "      <td>66846</td>\n",
       "      <td>Shooting Permit</td>\n",
       "      <td>8 AVENUE between LINCOLN PLACE and BERKELEY PLACE</td>\n",
       "      <td>78</td>\n",
       "      <td>2012-07-27 07:00:00</td>\n",
       "      <td>Feature</td>\n",
       "      <td>11217</td>\n",
       "    </tr>\n",
       "  </tbody>\n",
       "</table>\n",
       "</div>"
      ],
      "text/plain": [
       "     borough    category communityboard_s                   country  \\\n",
       "0      Bronx  Television                1  United States of America   \n",
       "1   Brooklyn  Television                1  United States of America   \n",
       "2     Queens  Television             2, 5  United States of America   \n",
       "3  Manhattan     Student                2  United States of America   \n",
       "4  Manhattan     Theater             4, 5  United States of America   \n",
       "5   Brooklyn  Television             1, 2  United States of America   \n",
       "6   Brooklyn        Film                6  United States of America   \n",
       "\n",
       "          enddatetime                enteredon  \\\n",
       "0 2016-11-29 23:00:00  2016-11-28T13:03:14.000   \n",
       "1 2016-03-29 22:00:00  2016-03-23T18:38:02.000   \n",
       "2 2014-10-31 02:00:00  2014-10-27T12:14:15.000   \n",
       "3 2016-11-28 21:00:00  2016-11-21T15:24:42.000   \n",
       "4 2013-11-17 06:00:00  2013-11-07T15:48:28.000   \n",
       "5 2012-01-10 19:00:00  2012-01-04T12:25:37.000   \n",
       "6 2012-07-27 19:00:00  2012-07-23T19:26:03.000   \n",
       "\n",
       "                                      eventagency  eventid  \\\n",
       "0  Mayor's Office of Film, Theatre & Broadcasting   321148   \n",
       "1  Mayor's Office of Film, Theatre & Broadcasting   275460   \n",
       "2  Mayor's Office of Film, Theatre & Broadcasting   186438   \n",
       "3  Mayor's Office of Film, Theatre & Broadcasting   320268   \n",
       "4  Mayor's Office of Film, Theatre & Broadcasting   128794   \n",
       "5  Mayor's Office of Film, Theatre & Broadcasting    43547   \n",
       "6  Mayor's Office of Film, Theatre & Broadcasting    66846   \n",
       "\n",
       "                       eventtype  \\\n",
       "0                Shooting Permit   \n",
       "1                Shooting Permit   \n",
       "2                Shooting Permit   \n",
       "3                 Rigging Permit   \n",
       "4  Theater Load in and Load Outs   \n",
       "5                Shooting Permit   \n",
       "6                Shooting Permit   \n",
       "\n",
       "                                         parkingheld policeprecinct_s  \\\n",
       "0  LOCUST AVENUE between EAST  139 STREET and EAS...               40   \n",
       "1  KINGSLAND AVENUE between KINGSLAND AVENUE FORK...               94   \n",
       "2  LAUREL HILL BLVD between REVIEW AVENUE and RUS...         104, 108   \n",
       "3  WASHINGTON PLACE between BROADWAY and MERCER S...                6   \n",
       "4  WEST   31 STREET between 7 AVENUE and 8 AVENUE...               14   \n",
       "5  EAGLE STREET between FRANKLIN STREET and WEST ...          108, 94   \n",
       "6  8 AVENUE between LINCOLN PLACE and BERKELEY PLACE               78   \n",
       "\n",
       "        startdatetime  subcategoryname     zipcode_s  \n",
       "0 2016-11-29 07:00:00  Episodic series         10454  \n",
       "1 2016-03-29 07:00:00  Episodic series         11222  \n",
       "2 2014-10-30 07:00:00  Episodic series         11378  \n",
       "3 2016-11-28 18:00:00   Not Applicable         10003  \n",
       "4 2013-11-16 00:01:00          Theater  10001, 10121  \n",
       "5 2012-01-10 07:00:00  Episodic series  11101, 11222  \n",
       "6 2012-07-27 07:00:00          Feature         11217  "
      ]
     },
     "execution_count": 22,
     "metadata": {},
     "output_type": "execute_result"
    }
   ],
   "source": [
    "permits.head(7)"
   ]
  },
  {
   "cell_type": "code",
   "execution_count": 24,
   "metadata": {},
   "outputs": [
    {
     "data": {
      "text/html": [
       "<div>\n",
       "<table border=\"1\" class=\"dataframe\">\n",
       "  <thead>\n",
       "    <tr style=\"text-align: right;\">\n",
       "      <th></th>\n",
       "      <th>Permit_Length</th>\n",
       "      <th>startdatetime</th>\n",
       "    </tr>\n",
       "  </thead>\n",
       "  <tbody>\n",
       "    <tr>\n",
       "      <th>0</th>\n",
       "      <td>16.0</td>\n",
       "      <td>2016-11-29 07:00:00</td>\n",
       "    </tr>\n",
       "    <tr>\n",
       "      <th>1</th>\n",
       "      <td>15.0</td>\n",
       "      <td>2016-03-29 07:00:00</td>\n",
       "    </tr>\n",
       "    <tr>\n",
       "      <th>3</th>\n",
       "      <td>3.0</td>\n",
       "      <td>2016-11-28 18:00:00</td>\n",
       "    </tr>\n",
       "    <tr>\n",
       "      <th>9</th>\n",
       "      <td>17.0</td>\n",
       "      <td>2016-11-29 06:00:00</td>\n",
       "    </tr>\n",
       "    <tr>\n",
       "      <th>10</th>\n",
       "      <td>14.0</td>\n",
       "      <td>2016-11-29 07:00:00</td>\n",
       "    </tr>\n",
       "    <tr>\n",
       "      <th>12</th>\n",
       "      <td>6.0</td>\n",
       "      <td>2016-04-29 04:00:00</td>\n",
       "    </tr>\n",
       "    <tr>\n",
       "      <th>13</th>\n",
       "      <td>17.0</td>\n",
       "      <td>2016-04-28 06:00:00</td>\n",
       "    </tr>\n",
       "  </tbody>\n",
       "</table>\n",
       "</div>"
      ],
      "text/plain": [
       "    Permit_Length       startdatetime\n",
       "0            16.0 2016-11-29 07:00:00\n",
       "1            15.0 2016-03-29 07:00:00\n",
       "3             3.0 2016-11-28 18:00:00\n",
       "9            17.0 2016-11-29 06:00:00\n",
       "10           14.0 2016-11-29 07:00:00\n",
       "12            6.0 2016-04-29 04:00:00\n",
       "13           17.0 2016-04-28 06:00:00"
      ]
     },
     "execution_count": 24,
     "metadata": {},
     "output_type": "execute_result"
    }
   ],
   "source": [
    "#Next step is to calculate the total length (in hours) of each film permit\n",
    "permits['Permit_Length'] = permits['enddatetime'] - permits['startdatetime']\n",
    "permits['Year'] = permits['startdatetime'].apply(lambda x:x.year)\n",
    "permits['Permit_Length'] = permits['Permit_Length'].apply(lambda x:x.total_seconds()/3600)\n",
    "\n",
    "permits_clean = permits[['Permit_Length','startdatetime','Year']]\n",
    "permits_clean = permits_clean[permits_clean['Year']==2016]\n",
    "permits_clean = permits_clean.drop(['Year'],axis=1)\n",
    "\n",
    "permits_clean.head(7)"
   ]
  },
  {
   "cell_type": "code",
   "execution_count": 25,
   "metadata": {},
   "outputs": [
    {
     "data": {
      "text/plain": [
       "(0, 1000)"
      ]
     },
     "execution_count": 25,
     "metadata": {},
     "output_type": "execute_result"
    },
    {
     "name": "stderr",
     "output_type": "stream",
     "text": [
      "/usr/local/Anaconda3-5.0.0-Linux-x86_64/envs/PUI2016_Python3/lib/python3.5/site-packages/matplotlib/font_manager.py:1316: UserWarning: findfont: Font family ['sans-serif'] not found. Falling back to DejaVu Sans\n",
      "  (prop.get_family(), self.defaultFamily[fontext]))\n"
     ]
    },
    {
     "data": {
      "image/png": "[encoded data removed]",
      "text/plain": [
       "<matplotlib.figure.Figure at 0x7f2a127e1240>"
      ]
     },
     "metadata": {},
     "output_type": "display_data"
    }
   ],
   "source": [
    "plt.figure(figsize=(12,10))\n",
    "plt.plot(permits_clean['startdatetime'],permits_clean['Permit_Length'],'.',alpha=0.8)\n",
    "plt.title('Permit Length by Day')\n",
    "plt.xlabel('Date',fontsize=20)\n",
    "plt.ylabel('Length of Permit (Hours)',fontsize=20)\n",
    "plt.ylim(0,1000)"
   ]
  },
  {
   "cell_type": "markdown",
   "metadata": {},
   "source": [
    "Figure 2: This figure shows the __Permit Length__ against the __Date__"
   ]
  }
 ],
 "metadata": {
  "kernelspec": {
   "display_name": "PUI2016_Python3",
   "language": "python",
   "name": "pui2016_python3"
  },
  "language_info": {
   "codemirror_mode": {
    "name": "ipython",
    "version": 3
   },
   "file_extension": ".py",
   "mimetype": "text/x-python",
   "name": "python",
   "nbconvert_exporter": "python",
   "pygments_lexer": "ipython3",
   "version": "3.5.4"
  }
 },
 "nbformat": 4,
 "nbformat_minor": 2
}
