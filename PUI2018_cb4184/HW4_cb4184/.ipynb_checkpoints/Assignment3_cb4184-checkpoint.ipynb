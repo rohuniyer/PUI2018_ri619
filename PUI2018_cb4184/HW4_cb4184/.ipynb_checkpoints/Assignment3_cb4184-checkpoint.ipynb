{
 "cells": [
  {
   "cell_type": "markdown",
   "metadata": {},
   "source": [
    "### Question: is the new Bus route improving commute?\n",
    "\n",
    "A new bus route for line X8 is implemented. MTA wants to\n",
    "know if it improves commute time (travel time at peak hours).\n",
    "They know what the mean travel time used to be, and measure\n",
    "the new travel time 100 times. The data is in\n",
    "https://raw.githubusercontent.com/fedhere/PUI2018_fb55/master/Lab4_fb55/times.txt\n",
    "\n",
    "**Told $~N(μ=36, σ=6)$**\n",
    "\n",
    "$H_0:$ The commute time is the same or longer with the new bus route as it was before: Tnew >= Told, $α=0.05$\n",
    "\n",
    "$H_a:$ The commute time is shorter with the new bus route as it was before: Tnew < Told\n",
    "\n",
    "**Note**: This is a one-tailed hypothesis test since there is a directionality inferred by the null Hypothesis\n"
   ]
  },
  {
   "cell_type": "code",
   "execution_count": 3,
   "metadata": {},
   "outputs": [],
   "source": [
    "import numpy as np\n",
    "import pandas as pd\n",
    "from __future__ import print_function\n",
    "import os\n",
    "import matplotlib.pyplot as plt\n",
    "%matplotlib inline\n",
    "PUIDATA = os.getenv(\"PUIDATA\")"
   ]
  },
  {
   "cell_type": "code",
   "execution_count": 10,
   "metadata": {},
   "outputs": [
    {
     "name": "stdout",
     "output_type": "stream",
     "text": [
      "--2018-09-28 10:30:01--  https://raw.githubusercontent.com/fedhere/PUI2018_fb55/master/Lab4_fb55/times.txt\r\n",
      "Resolving raw.githubusercontent.com (raw.githubusercontent.com)... 151.101.200.133\r\n",
      "Connecting to raw.githubusercontent.com (raw.githubusercontent.com)|151.101.200.133|:443... connected.\r\n",
      "HTTP request sent, awaiting response... 200 OK\r\n",
      "Length: 1179 (1.2K) [text/plain]\r\n",
      "Saving to: ‘times.txt’\r\n",
      "\r\n",
      "\r",
      "times.txt             0%[                    ]       0  --.-KB/s               \r",
      "times.txt           100%[===================>]   1.15K  --.-KB/s    in 0s      \r\n",
      "\r\n",
      "2018-09-28 10:30:01 (152 MB/s) - ‘times.txt’ saved [1179/1179]\r\n",
      "\r\n"
     ]
    }
   ],
   "source": [
    "#Download text file and move to home directory\n",
    "!wget https://raw.githubusercontent.com/fedhere/PUI2018_fb55/master/Lab4_fb55/times.txt\n",
    "!mv times.txt $PUIDATA/times.txt"
   ]
  },
  {
   "cell_type": "code",
   "execution_count": 31,
   "metadata": {},
   "outputs": [],
   "source": [
    "file = PUIDATA + '/times.txt'\n",
    "Tnew = pd.read_csv(file, header=None)\n",
    "Tnew_mean = Tnew.describe().iloc[1][0]"
   ]
  },
  {
   "cell_type": "code",
   "execution_count": 37,
   "metadata": {},
   "outputs": [
    {
     "name": "stdout",
     "output_type": "stream",
     "text": [
      "2.55639718617\n"
     ]
    }
   ],
   "source": [
    "#Translate Z Score formula to function\n",
    "def Z_score(mu_pop,mu_new,sigma,N):\n",
    "    return((mu_pop-mu_new)/(sigma/np.sqrt(N)))\n",
    "\n",
    "Z = Z_score(36,Tnew_mean,6,Tnew.size)\n",
    "print(Z)"
   ]
  },
  {
   "cell_type": "markdown",
   "metadata": {},
   "source": [
    "* With a Z-Score of **2.556**, we can reject the null hypothesis.\n",
    "* Such a Z-score means that the mean time of the new bus line fell was *significantly lower* than our population mean, at an alpha level of 0.05. \n",
    "* Consulting a Z table shows us that the probability that this happened by chance was ~0.0054, in other words it is much lower than our *significance threshold*"
   ]
  }
 ],
 "metadata": {
  "kernelspec": {
   "display_name": "PUI2016_Python3",
   "language": "python",
   "name": "pui2016_python3"
  },
  "language_info": {
   "codemirror_mode": {
    "name": "ipython",
    "version": 3
   },
   "file_extension": ".py",
   "mimetype": "text/x-python",
   "name": "python",
   "nbconvert_exporter": "python",
   "pygments_lexer": "ipython3",
   "version": "3.5.4"
  }
 },
 "nbformat": 4,
 "nbformat_minor": 2
}
