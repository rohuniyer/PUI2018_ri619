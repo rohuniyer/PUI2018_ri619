{
 "cells": [
  {
   "cell_type": "markdown",
   "metadata": {},
   "source": [
    "# Overall Question: Is the new Bus route improving commute times?\n",
    "\n",
    "**Scenario**: A new bus route for line X8 is implemented. MTA wants to\n",
    "know if it improves commute time (travel time at peak hours).\n",
    "They know what the mean travel time used to be, and measure\n",
    "the new travel time 100 times. The data is in\n",
    "https://raw.githubusercontent.com/fedhere/PUI2018_fb55/master/Lab4_fb55/times.txt\n",
    "\n",
    "\n",
    "\n",
    "# Null Hypothesis ($H_0$):\n",
    "The commute time is the same or longer with the new bus route as it was before: \n",
    "$T_{new} >= T_{old}$, \n",
    "\n",
    "\n",
    "# Alternative Hypothesis ($H_a$):\n",
    "$H_a:$ The commute time is shorter with the new bus route as it was before: $T_{new} < T_{old}$\n",
    "\n",
    "\n",
    "# Significance Level\n",
    "We will use a sig level of 0.05, **$\\alpha: 0.05$**\n",
    "\n",
    "*Note: This is a one-tailed hypothesis test since there is a directionality inferred by the null Hypothesis*\n",
    "\n",
    "\n",
    "# Formulas Used\n",
    "\n",
    "$N(\\mu=36, \\sigma=6)$**\n",
    "\n",
    "$Z = \\frac{\\mu_{pop}-\\mu_{sample}}{\\sigma/\\sqrt{N}}$\n",
    "\n"
   ]
  },
  {
   "cell_type": "code",
   "execution_count": 44,
   "metadata": {},
   "outputs": [],
   "source": [
    "import numpy as np\n",
    "import pandas as pd\n",
    "from __future__ import print_function\n",
    "import os\n",
    "import matplotlib.pyplot as plt\n",
    "%matplotlib inline\n",
    "PUIDATA = os.getenv(\"PUIDATA\")"
   ]
  },
  {
   "cell_type": "code",
   "execution_count": 49,
   "metadata": {},
   "outputs": [
    {
     "name": "stdout",
     "output_type": "stream",
     "text": [
      "  % Total    % Received % Xferd  Average Speed   Time    Time     Time  Current\n",
      "                                 Dload  Upload   Total   Spent    Left  Speed\n",
      "100  1179  100  1179    0     0   8214      0 --:--:-- --:--:-- --:--:--  8244\n"
     ]
    }
   ],
   "source": [
    "#Download text file and move to home directory\n",
    "!curl https://raw.githubusercontent.com/fedhere/PUI2018_fb55/master/Lab4_fb55/times.txt --output $PUIDATA/times.txt"
   ]
  },
  {
   "cell_type": "code",
   "execution_count": 46,
   "metadata": {},
   "outputs": [],
   "source": [
    "file = PUIDATA + '/times.txt'\n",
    "Tnew = pd.read_csv(file, header=None)\n",
    "Tnew_mean = Tnew.describe().iloc[1][0]"
   ]
  },
  {
   "cell_type": "code",
   "execution_count": 48,
   "metadata": {},
   "outputs": [
    {
     "name": "stdout",
     "output_type": "stream",
     "text": [
      "Z Value: 2.55639718617\n"
     ]
    }
   ],
   "source": [
    "#Translate Z Score formula to function\n",
    "def Z_score(mu_pop,mu_new,sigma,N):\n",
    "    '''Using Z score formula from 1st cell'''\n",
    "    return((mu_pop-mu_new)/(sigma/np.sqrt(N)))\n",
    "\n",
    "Z = Z_score(36,Tnew_mean,6,Tnew.size)\n",
    "print('Z Value: ' + str(Z))"
   ]
  },
  {
   "cell_type": "markdown",
   "metadata": {},
   "source": [
    "* With a Z-Score of **2.556**, we can reject the null hypothesis.\n",
    "* Such a Z-score means that the mean time of the new bus line fell was *significantly lower* than our population mean, at an alpha level of 0.05. \n",
    "* Consulting a Z table shows us that the probability that this happened by chance was ~0.0054, in other words it is much lower than our *significance threshold*"
   ]
  }
 ],
 "metadata": {
  "kernelspec": {
   "display_name": "PUI2016_Python3",
   "language": "python",
   "name": "pui2016_python3"
  },
  "language_info": {
   "codemirror_mode": {
    "name": "ipython",
    "version": 3
   },
   "file_extension": ".py",
   "mimetype": "text/x-python",
   "name": "python",
   "nbconvert_exporter": "python",
   "pygments_lexer": "ipython3",
   "version": "3.5.4"
  }
 },
 "nbformat": 4,
 "nbformat_minor": 2
}
