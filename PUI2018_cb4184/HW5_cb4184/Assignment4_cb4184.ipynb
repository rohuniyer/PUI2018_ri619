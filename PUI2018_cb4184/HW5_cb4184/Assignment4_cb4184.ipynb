{
 "cells": [
  {
   "cell_type": "markdown",
   "metadata": {},
   "source": [
    "# Assignment 4: Trip Duration of CitiBike users during the day vs. night\n",
    "\n",
    "HW is split into two parts. **Part 1** covers data import, cleanup, and sampling. **Part 2** covers the three correlation tests:\n",
    "1. Pearson’s test \n",
    "2. Spearman’s test \n",
    "3. K-S test"
   ]
  },
  {
   "cell_type": "markdown",
   "metadata": {},
   "source": [
    "# Part 1: Data Import, Cleanup, and Sampling"
   ]
  },
  {
   "cell_type": "code",
   "execution_count": 192,
   "metadata": {},
   "outputs": [
    {
     "name": "stdout",
     "output_type": "stream",
     "text": [
      "Populating the interactive namespace from numpy and matplotlib\n"
     ]
    },
    {
     "name": "stderr",
     "output_type": "stream",
     "text": [
      "/usr/local/Anaconda3-5.0.0-Linux-x86_64/envs/PUI2016_Python3/lib/python3.5/site-packages/IPython/core/magics/pylab.py:161: UserWarning: pylab import has clobbered these variables: ['datetime']\n",
      "`%matplotlib` prevents importing * from pylab and numpy\n",
      "  \"\\n`%matplotlib` prevents importing * from pylab and numpy\"\n"
     ]
    }
   ],
   "source": [
    "# my usual imports and setups\n",
    "import pylab as pl\n",
    "import pandas as pd\n",
    "import numpy as np\n",
    "%pylab inline\n",
    "\n",
    "import os\n",
    "from datetime import datetime\n",
    "import scipy.stats"
   ]
  },
  {
   "cell_type": "code",
   "execution_count": 193,
   "metadata": {},
   "outputs": [],
   "source": [
    "def getCitiBikeCSV(date):\n",
    "    ''' \n",
    "    This function returns citi bike data for a given month(s)\n",
    "    \n",
    "    Parameters\n",
    "    ----------\n",
    "    date: string\n",
    "        Pass one month by inputting format <YYYY><MM>; EX: 201801\n",
    "        Pass month range by inputting format <YYYY><M1M1><M2M2>; EX: 20180103\n",
    "        \n",
    "    Returns\n",
    "    ----------\n",
    "    csv: table\n",
    "        dumps it into your PUIDATA folder\n",
    "    '''\n",
    "    path = \"https://s3.amazonaws.com/tripdata/{}-citibike-tripdata.csv.zip\".format(date)\n",
    "    os.system('curl -O ' + path)\n",
    "    currentpath = !pwd\n",
    "    os.system('unzip -u '+currentpath[0]+'/'+ path.split('/')[-1]+ ' -d $PUIDATA')\n",
    "    print('Downloaded',path.split('/')[-1].split('.z')[0], 'to your PUIDATA folder!')"
   ]
  },
  {
   "cell_type": "code",
   "execution_count": 194,
   "metadata": {},
   "outputs": [
    {
     "name": "stdout",
     "output_type": "stream",
     "text": [
      "Downloaded 201801-citibike-tripdata.csv to your PUIDATA folder!\n",
      "Downloaded 201806-citibike-tripdata.csv to your PUIDATA folder!\n"
     ]
    },
    {
     "data": {
      "text/html": [
       "<div>\n",
       "<table border=\"1\" class=\"dataframe\">\n",
       "  <thead>\n",
       "    <tr style=\"text-align: right;\">\n",
       "      <th></th>\n",
       "      <th>tripduration</th>\n",
       "      <th>starttime</th>\n",
       "      <th>stoptime</th>\n",
       "      <th>start station id</th>\n",
       "      <th>start station name</th>\n",
       "      <th>start station latitude</th>\n",
       "      <th>start station longitude</th>\n",
       "      <th>end station id</th>\n",
       "      <th>end station name</th>\n",
       "      <th>end station latitude</th>\n",
       "      <th>end station longitude</th>\n",
       "      <th>bikeid</th>\n",
       "      <th>usertype</th>\n",
       "      <th>birth year</th>\n",
       "      <th>gender</th>\n",
       "    </tr>\n",
       "  </thead>\n",
       "  <tbody>\n",
       "    <tr>\n",
       "      <th>0</th>\n",
       "      <td>970</td>\n",
       "      <td>2018-01-01 13:50:57.434</td>\n",
       "      <td>2018-01-01 14:07:08.186</td>\n",
       "      <td>72</td>\n",
       "      <td>W 52 St &amp; 11 Ave</td>\n",
       "      <td>40.767272</td>\n",
       "      <td>-73.993929</td>\n",
       "      <td>505</td>\n",
       "      <td>6 Ave &amp; W 33 St</td>\n",
       "      <td>40.749013</td>\n",
       "      <td>-73.988484</td>\n",
       "      <td>31956</td>\n",
       "      <td>Subscriber</td>\n",
       "      <td>1992</td>\n",
       "      <td>1</td>\n",
       "    </tr>\n",
       "    <tr>\n",
       "      <th>1</th>\n",
       "      <td>723</td>\n",
       "      <td>2018-01-01 15:33:30.182</td>\n",
       "      <td>2018-01-01 15:45:33.341</td>\n",
       "      <td>72</td>\n",
       "      <td>W 52 St &amp; 11 Ave</td>\n",
       "      <td>40.767272</td>\n",
       "      <td>-73.993929</td>\n",
       "      <td>3255</td>\n",
       "      <td>8 Ave &amp; W 31 St</td>\n",
       "      <td>40.750585</td>\n",
       "      <td>-73.994685</td>\n",
       "      <td>32536</td>\n",
       "      <td>Subscriber</td>\n",
       "      <td>1969</td>\n",
       "      <td>1</td>\n",
       "    </tr>\n",
       "    <tr>\n",
       "      <th>2</th>\n",
       "      <td>496</td>\n",
       "      <td>2018-01-01 15:39:18.337</td>\n",
       "      <td>2018-01-01 15:47:35.172</td>\n",
       "      <td>72</td>\n",
       "      <td>W 52 St &amp; 11 Ave</td>\n",
       "      <td>40.767272</td>\n",
       "      <td>-73.993929</td>\n",
       "      <td>525</td>\n",
       "      <td>W 34 St &amp; 11 Ave</td>\n",
       "      <td>40.755942</td>\n",
       "      <td>-74.002116</td>\n",
       "      <td>16069</td>\n",
       "      <td>Subscriber</td>\n",
       "      <td>1956</td>\n",
       "      <td>1</td>\n",
       "    </tr>\n",
       "  </tbody>\n",
       "</table>\n",
       "</div>"
      ],
      "text/plain": [
       "   tripduration               starttime                stoptime  \\\n",
       "0           970 2018-01-01 13:50:57.434 2018-01-01 14:07:08.186   \n",
       "1           723 2018-01-01 15:33:30.182 2018-01-01 15:45:33.341   \n",
       "2           496 2018-01-01 15:39:18.337 2018-01-01 15:47:35.172   \n",
       "\n",
       "   start station id start station name  start station latitude  \\\n",
       "0                72   W 52 St & 11 Ave               40.767272   \n",
       "1                72   W 52 St & 11 Ave               40.767272   \n",
       "2                72   W 52 St & 11 Ave               40.767272   \n",
       "\n",
       "   start station longitude  end station id  end station name  \\\n",
       "0               -73.993929             505   6 Ave & W 33 St   \n",
       "1               -73.993929            3255   8 Ave & W 31 St   \n",
       "2               -73.993929             525  W 34 St & 11 Ave   \n",
       "\n",
       "   end station latitude  end station longitude  bikeid    usertype  \\\n",
       "0             40.749013             -73.988484   31956  Subscriber   \n",
       "1             40.750585             -73.994685   32536  Subscriber   \n",
       "2             40.755942             -74.002116   16069  Subscriber   \n",
       "\n",
       "   birth year  gender  \n",
       "0        1992       1  \n",
       "1        1969       1  \n",
       "2        1956       1  "
      ]
     },
     "execution_count": 194,
     "metadata": {},
     "output_type": "execute_result"
    }
   ],
   "source": [
    "## Downloading data for January and July\n",
    "datestring = '201801'\n",
    "datestring2 = '201806'\n",
    "getCitiBikeCSV(datestring)\n",
    "getCitiBikeCSV(datestring2)\n",
    "df = pd.read_csv(os.getenv(\"PUIDATA\") + \"/\" + datestring + '-citibike-tripdata.csv', parse_dates=['starttime','stoptime'])\n",
    "df2 = pd.read_csv(os.getenv(\"PUIDATA\") + \"/\" + datestring2 + '-citibike-tripdata.csv', parse_dates=['starttime','stoptime'])\n",
    "df_combined = pd.concat([df,df2])\n",
    "df_combined.head(3)"
   ]
  },
  {
   "cell_type": "code",
   "execution_count": 195,
   "metadata": {},
   "outputs": [
    {
     "name": "stderr",
     "output_type": "stream",
     "text": [
      "/usr/local/Anaconda3-5.0.0-Linux-x86_64/envs/PUI2016_Python3/lib/python3.5/site-packages/ipykernel/__main__.py:5: SettingWithCopyWarning: \n",
      "A value is trying to be set on a copy of a slice from a DataFrame.\n",
      "Try using .loc[row_indexer,col_indexer] = value instead\n",
      "\n",
      "See the caveats in the documentation: http://pandas.pydata.org/pandas-docs/stable/indexing.html#indexing-view-versus-copy\n",
      "/usr/local/Anaconda3-5.0.0-Linux-x86_64/envs/PUI2016_Python3/lib/python3.5/site-packages/ipykernel/__main__.py:6: SettingWithCopyWarning: \n",
      "A value is trying to be set on a copy of a slice from a DataFrame.\n",
      "Try using .loc[row_indexer,col_indexer] = value instead\n",
      "\n",
      "See the caveats in the documentation: http://pandas.pydata.org/pandas-docs/stable/indexing.html#indexing-view-versus-copy\n",
      "/usr/local/Anaconda3-5.0.0-Linux-x86_64/envs/PUI2016_Python3/lib/python3.5/site-packages/numpy/lib/function_base.py:3403: RuntimeWarning: Invalid value encountered in median\n",
      "  RuntimeWarning)\n"
     ]
    },
    {
     "data": {
      "text/html": [
       "<div>\n",
       "<table border=\"1\" class=\"dataframe\">\n",
       "  <thead>\n",
       "    <tr style=\"text-align: right;\">\n",
       "      <th></th>\n",
       "      <th>index</th>\n",
       "      <th>tripduration</th>\n",
       "      <th>meanHour</th>\n",
       "      <th>trip_night</th>\n",
       "      <th>trip_day</th>\n",
       "    </tr>\n",
       "  </thead>\n",
       "  <tbody>\n",
       "    <tr>\n",
       "      <th>count</th>\n",
       "      <td>2.672097e+06</td>\n",
       "      <td>2.672097e+06</td>\n",
       "      <td>2.672097e+06</td>\n",
       "      <td>5.726430e+05</td>\n",
       "      <td>1.833085e+06</td>\n",
       "    </tr>\n",
       "    <tr>\n",
       "      <th>mean</th>\n",
       "      <td>8.105172e+05</td>\n",
       "      <td>1.107858e+03</td>\n",
       "      <td>1.408728e+01</td>\n",
       "      <td>1.328313e+03</td>\n",
       "      <td>1.041987e+03</td>\n",
       "    </tr>\n",
       "    <tr>\n",
       "      <th>std</th>\n",
       "      <td>5.646468e+05</td>\n",
       "      <td>2.772001e+04</td>\n",
       "      <td>4.889679e+00</td>\n",
       "      <td>3.796838e+04</td>\n",
       "      <td>2.482337e+04</td>\n",
       "    </tr>\n",
       "    <tr>\n",
       "      <th>min</th>\n",
       "      <td>0.000000e+00</td>\n",
       "      <td>6.100000e+01</td>\n",
       "      <td>0.000000e+00</td>\n",
       "      <td>6.100000e+01</td>\n",
       "      <td>6.100000e+01</td>\n",
       "    </tr>\n",
       "    <tr>\n",
       "      <th>25%</th>\n",
       "      <td>3.340120e+05</td>\n",
       "      <td>3.640000e+02</td>\n",
       "      <td>1.000000e+01</td>\n",
       "      <td>NaN</td>\n",
       "      <td>NaN</td>\n",
       "    </tr>\n",
       "    <tr>\n",
       "      <th>50%</th>\n",
       "      <td>6.680240e+05</td>\n",
       "      <td>6.120000e+02</td>\n",
       "      <td>1.500000e+01</td>\n",
       "      <td>NaN</td>\n",
       "      <td>NaN</td>\n",
       "    </tr>\n",
       "    <tr>\n",
       "      <th>75%</th>\n",
       "      <td>1.285078e+06</td>\n",
       "      <td>1.071000e+03</td>\n",
       "      <td>1.800000e+01</td>\n",
       "      <td>NaN</td>\n",
       "      <td>NaN</td>\n",
       "    </tr>\n",
       "    <tr>\n",
       "      <th>max</th>\n",
       "      <td>1.953102e+06</td>\n",
       "      <td>1.951005e+07</td>\n",
       "      <td>2.300000e+01</td>\n",
       "      <td>1.169975e+07</td>\n",
       "      <td>1.951005e+07</td>\n",
       "    </tr>\n",
       "  </tbody>\n",
       "</table>\n",
       "</div>"
      ],
      "text/plain": [
       "              index  tripduration      meanHour    trip_night      trip_day\n",
       "count  2.672097e+06  2.672097e+06  2.672097e+06  5.726430e+05  1.833085e+06\n",
       "mean   8.105172e+05  1.107858e+03  1.408728e+01  1.328313e+03  1.041987e+03\n",
       "std    5.646468e+05  2.772001e+04  4.889679e+00  3.796838e+04  2.482337e+04\n",
       "min    0.000000e+00  6.100000e+01  0.000000e+00  6.100000e+01  6.100000e+01\n",
       "25%    3.340120e+05  3.640000e+02  1.000000e+01           NaN           NaN\n",
       "50%    6.680240e+05  6.120000e+02  1.500000e+01           NaN           NaN\n",
       "75%    1.285078e+06  1.071000e+03  1.800000e+01           NaN           NaN\n",
       "max    1.953102e+06  1.951005e+07  2.300000e+01  1.169975e+07  1.951005e+07"
      ]
     },
     "execution_count": 195,
     "metadata": {},
     "output_type": "execute_result"
    }
   ],
   "source": [
    "#Calculate 'Mean_Hour' and separate trip duration into two columns (Day vs Night)\n",
    "df_combined['meanHour'] = (df_combined['starttime'] + (df_combined['stoptime'] - df_combined['starttime'])/2).dt.hour\n",
    "df_clean = df_combined[['tripduration','meanHour']]\n",
    "df_clean.reset_index(inplace=True)\n",
    "df_clean['trip_night'] = df_clean['tripduration'][(df_clean.meanHour<4) | (df_clean.meanHour>18)]\n",
    "df_clean['trip_day'] = df_clean['tripduration'][(df_clean.meanHour>4) & (df_clean.meanHour<18)]\n",
    "df_clean.describe()"
   ]
  },
  {
   "cell_type": "code",
   "execution_count": 207,
   "metadata": {},
   "outputs": [],
   "source": [
    "#selected sample of 200 from each group (day and night)\n",
    "np.random.seed(1992)\n",
    "sample_size = 200\n",
    "\n",
    "#Separate into 2 dataframes\n",
    "df_day = df_clean[df_clean.trip_day.notnull()].reset_index()\n",
    "df_night =  df_clean[df_clean.trip_night.notnull()].reset_index()\n",
    "i = np.random.choice((range(len(df_day))),size=sample_size,replace=True) # returns array of indices\n",
    "i2 = np.random.choice((range(len(df_night))),size=sample_size,replace=True)\n",
    "\n",
    "# use array of indices to select from dataframes\n",
    "sample_day = df_day.ix[i] \n",
    "sample_night = df_night.ix[i2]\n",
    "\n",
    "#sort values by trip duration\n",
    "sample_day.sort_values('tripduration',ascending=True,inplace=True)\n",
    "sample_night.sort_values('tripduration',ascending=True,inplace=True)"
   ]
  },
  {
   "cell_type": "markdown",
   "metadata": {},
   "source": [
    "# Part 2: Correlation Tests"
   ]
  },
  {
   "cell_type": "markdown",
   "metadata": {},
   "source": [
    "## Kolmogorov-Smirnov (KS) Test (for both full population and 200 sample size)\n",
    "\n",
    "### Question: \n",
    "Is there a difference in the duration of night trips vs day trips?\n",
    "\n",
    "### Null Hypothesis:\n",
    "There is no statistical difference in the trip duration of night trips (6pm-4am) vs day trips (4am to 6am), **significance level= 0.05 **\n",
    "\n",
    "$H_0: P_0=P_1$\n",
    "\n",
    "$P_0$: Distribution of riders during the day\n",
    "\n",
    "$P_1$: Distribution of riders at night\n",
    "\n",
    "### Alternative Hypothesis:\n",
    "There is a statistical difference between the two groups\n",
    "$H_a: P_0>P_1;P_0<P_1$"
   ]
  },
  {
   "cell_type": "markdown",
   "metadata": {},
   "source": [
    "### Using Entire Population"
   ]
  },
  {
   "cell_type": "code",
   "execution_count": 208,
   "metadata": {},
   "outputs": [
    {
     "data": {
      "image/png": "[encoded data removed]",
      "text/plain": [
       "<matplotlib.figure.Figure at 0x7efc9647df60>"
      ]
     },
     "metadata": {},
     "output_type": "display_data"
    },
    {
     "data": {
      "image/png": "[encoded data removed]",
      "text/plain": [
       "<matplotlib.figure.Figure at 0x7efcc66618d0>"
      ]
     },
     "metadata": {},
     "output_type": "display_data"
    }
   ],
   "source": [
    "#What do the individual distributions look like for day vs night?                        \n",
    "bins = np.arange(0, 1800, 60)\n",
    "axD = df_clean.trip_day.groupby(pd.cut(df_clean.trip_day, bins)).agg([count_nonzero]).plot(kind='bar', legend=False)\n",
    "axD.set_title(\"Day Trips\")\n",
    "axN = df_clean.trip_night.groupby(pd.cut(df_clean.trip_night, bins)).agg([count_nonzero]).plot(kind='bar',legend=False)\n",
    "axN.set_title(\"Night Trips\");\n"
   ]
  },
  {
   "cell_type": "markdown",
   "metadata": {},
   "source": [
    "**Figure 1: Histogrammed distributions of riders ages by gender**. Notice that both graphs are positively skewed and visually look like similar distributions. I plotted these to see if night rides followed a distribution pattern than day rides (by trip duration). "
   ]
  },
  {
   "cell_type": "code",
   "execution_count": 209,
   "metadata": {},
   "outputs": [
    {
     "name": "stdout",
     "output_type": "stream",
     "text": [
      "              count_nonzero\n",
      "trip_day                   \n",
      "(0, 60]            0.000000\n",
      "(60, 120]          0.003823\n",
      "(120, 180]         0.008081\n",
      "(180, 240]         0.009028\n",
      "(240, 300]         0.008317\n",
      "(300, 360]         0.005190\n",
      "(360, 420]         0.001569\n",
      "(420, 480]         0.002496\n",
      "(480, 540]         0.005127\n",
      "(540, 600]         0.007552\n",
      "(600, 660]         0.009058\n",
      "(660, 720]         0.009461\n",
      "(720, 780]         0.009546\n",
      "(780, 840]         0.009605\n",
      "(840, 900]         0.009166\n",
      "(900, 960]         0.008453\n",
      "(960, 1020]        0.007608\n",
      "(1020, 1080]       0.006966\n",
      "(1080, 1140]       0.005856\n",
      "(1140, 1200]       0.005393\n",
      "(1200, 1260]       0.004866\n",
      "(1260, 1320]       0.003849\n",
      "(1320, 1380]       0.003318\n",
      "(1380, 1440]       0.002827\n",
      "(1440, 1500]       0.002422\n",
      "(1500, 1560]       0.001782\n",
      "(1560, 1620]       0.001113\n",
      "(1620, 1680]       0.000479\n",
      "(1680, 1740]       0.000000\n"
     ]
    },
    {
     "data": {
      "text/plain": [
       "<matplotlib.legend.Legend at 0x7efc99102128>"
      ]
     },
     "execution_count": 209,
     "metadata": {},
     "output_type": "execute_result"
    },
    {
     "data": {
      "image/png": "[encoded data removed]",
      "text/plain": [
       "<matplotlib.figure.Figure at 0x7efc9fa9c4a8>"
      ]
     },
     "metadata": {},
     "output_type": "display_data"
    }
   ],
   "source": [
    "csD = df_clean.trip_day.groupby(pd.cut(df_clean.trip_day, bins)).agg([count_nonzero]).cumsum()\n",
    "csN = df_clean.trip_night.groupby(pd.cut(df_clean.trip_night, bins)).agg([count_nonzero]).cumsum()\n",
    "print(np.abs(csD/csD.max() - csN/csN.max()))\n",
    "pl.plot(bins[:-1]+60, csD/csD.max(),label='Day')\n",
    "pl.plot(bins[:-1]+60, csN/csN.max(),label='Night')\n",
    "pl.plot(bins[:-1] + 60, np.abs(csD/csD.max() - csN/csN.max()), 'k-', #plot absolute value of difference\n",
    "        label = \"difference\")\n",
    "pl.xlabel('Trip Duration (Seconds)')\n",
    "pl.ylabel('Normalized cumulative number')\n",
    "pl.legend()"
   ]
  },
  {
   "cell_type": "markdown",
   "metadata": {},
   "source": [
    "**Figure 2: Cumulative distribution of CitiBike Trip Durations by Day/Night**. Notice that they look very similar but the difference gets to 0.96% (from 13 to 14 minutes). "
   ]
  },
  {
   "cell_type": "code",
   "execution_count": 210,
   "metadata": {},
   "outputs": [
    {
     "name": "stdout",
     "output_type": "stream",
     "text": [
      "Ks_2sampResult(statistic=0.47172389325686903, pvalue=0.0)\n"
     ]
    }
   ],
   "source": [
    "ks = scipy.stats.ks_2samp(df_clean.trip_day,df_clean.trip_night)\n",
    "print(ks)"
   ]
  },
  {
   "cell_type": "code",
   "execution_count": 211,
   "metadata": {},
   "outputs": [
    {
     "name": "stdout",
     "output_type": "stream",
     "text": [
      "KS-Statistic:  0.471723893257\n",
      "P-Value:  0.0\n",
      "Comparison value:  0.0011765971619\n",
      "Do We Reject the null:  True\n"
     ]
    }
   ],
   "source": [
    "def calc_CA(x,y):\n",
    "    n_m, n_f, ca = len(x),len(y), 1.36 # n observations for each, 1.36 comes from c(a) table below\n",
    "    return(ca*np.sqrt((n_m+n_f)/(n_m*n_f))) # equation for comparison value\n",
    "CA_val = calc_CA(df_clean.trip_day,df_clean.trip_night)\n",
    "\n",
    "print('KS-Statistic: ',ks.statistic)\n",
    "print('P-Value: ',ks.pvalue)\n",
    "print('Comparison value: ',CA_val)\n",
    "print('Do We Reject the null: ', ks.statistic>CA_val)"
   ]
  },
  {
   "cell_type": "markdown",
   "metadata": {},
   "source": [
    "### KS Testing Conclusions - Entire Population\n",
    "Using an alpha level of 0.05, **we were able to reject the null**. The KS scipy package returned a ks statistic of 0.47 (relatively high), and a p-value of 0.00. When then compare the ks-stat to the result of $c(\\alpha)\\sqrt{\\frac{(n1 + n2)}{n1n2}}$, \n",
    "* $D_{n1,n2} > c(\\alpha) \\sqrt{\\frac{(n1 + n2)}{n1n2}}$; \n",
    "* $0.47>0.0012$\n",
    "\n",
    "Therefore, night time trip durations are **significantly different** than day time trip durations"
   ]
  },
  {
   "cell_type": "markdown",
   "metadata": {},
   "source": [
    "### Using Samples of 200"
   ]
  },
  {
   "cell_type": "code",
   "execution_count": 212,
   "metadata": {},
   "outputs": [
    {
     "name": "stdout",
     "output_type": "stream",
     "text": [
      "KS-Statistic:  0.105\n",
      "P-Value:  0.20781055046\n",
      "Comparison value:  0.136\n",
      "Do We Reject the null:  False\n"
     ]
    }
   ],
   "source": [
    "ks2 = scipy.stats.ks_2samp(sample_day.trip_day,sample_night.trip_night)\n",
    "CA_val2 = calc_CA(sample_day.trip_day,sample_day.trip_night)\n",
    "\n",
    "print('KS-Statistic: ',ks2.statistic)\n",
    "print('P-Value: ',ks2.pvalue)\n",
    "print('Comparison value: ',CA_val2)\n",
    "print('Do We Reject the null: ', ks2.statistic>CA_val2)"
   ]
  },
  {
   "cell_type": "markdown",
   "metadata": {},
   "source": [
    "### KS Testing Conclusions - Samples of 200\n",
    "We **failed to reject the null** using our sample sizes of 200 for day and night. The KS scipy package returned a ks statistic of 0.105, and a p-value of 0.208. When then compare the ks-stat to the result of $c(\\alpha)\\sqrt{\\frac{(n1 + n2)}{n1n2}}$, \n",
    "* $D_{n1,n2} > c(\\alpha) \\sqrt{\\frac{(n1 + n2)}{n1n2}}$; \n",
    "* $0.105<0.136$\n",
    "\n",
    "Therefore, night time trip durations are ** not significantly different** than day time trip durations. **This is the inverse of our KS test using the entire population** and shows that when we reduce our datasets, we are unable to determine differences between the two. "
   ]
  },
  {
   "cell_type": "markdown",
   "metadata": {},
   "source": [
    "# Pearsons Test\n",
    "\n",
    "### Null Hypothesis:\n",
    "There is no linear relationship between the trip duration of night trips (6pm-4am) vs day trips (4am to 6am), **significance level= 0.05 **\n",
    "\n",
    "$H_0: r_{pb}=0$\n",
    "\n",
    "\n",
    "$r_{pb}$: r coefficient of correlation between day and night trips\n",
    "\n",
    "### Alternative Hypothesis:\n",
    "There is a linear relationship between the two groups\n",
    "\n",
    "$H_a: \\mid{r_{pb}}\\mid>0$"
   ]
  },
  {
   "cell_type": "code",
   "execution_count": 213,
   "metadata": {},
   "outputs": [
    {
     "name": "stdout",
     "output_type": "stream",
     "text": [
      "Pearsons R:  0.944419446864 \n",
      "P Value:  1.30376917709e-97\n"
     ]
    }
   ],
   "source": [
    "# use scipy package to calculate pearsons\n",
    "pearsons = scipy.stats.pearsonr(sample_day.tripduration,sample_night.tripduration)\n",
    "print('Pearsons R: ',pearsons[0],'\\nP Value: ',pearsons[1])"
   ]
  },
  {
   "cell_type": "markdown",
   "metadata": {},
   "source": [
    "### Interpretation of Pearsons Test\n",
    "* The correlation coefficient was extremely high at 0.944. This makes sense since both sample sizes are sorted by trip duration.\n",
    "* The p-value was essentially 0.00, but the documentation states that its only reliable at sample sizes of 500+\n",
    "* We therefore can **reject the null** since day trips and night trips are extremely correlated."
   ]
  },
  {
   "cell_type": "markdown",
   "metadata": {},
   "source": [
    "## Spearmans Test for Correlation\n",
    "\n",
    "### Null Hypothesis:\n",
    "There is no monotonic correlation between the trip duration of night trips (6pm-4am) vs day trips (4am to 6am)\n",
    "\n",
    "$H_0: r_{pb}=0$\n",
    "\n",
    "$r_{pb}$: r coefficient of correlation between day and night trips\n",
    "\n",
    "\n",
    "### Alternative Hypothesis:\n",
    "There is a correlation between the two groups\n",
    "\n",
    "$H_a: \\mid{r_{pb}}\\mid>0$"
   ]
  },
  {
   "cell_type": "code",
   "execution_count": 214,
   "metadata": {},
   "outputs": [
    {
     "name": "stdout",
     "output_type": "stream",
     "text": [
      "Spearmans R:  0.999987999568 \n",
      "P Value:  0.0\n"
     ]
    }
   ],
   "source": [
    "spearmans = scipy.stats.spearmanr(sample_day.tripduration,sample_night.tripduration)\n",
    "print('Spearmans R: ',spearmans.correlation,'\\nP Value: ',spearmans.pvalue)"
   ]
  },
  {
   "cell_type": "markdown",
   "metadata": {},
   "source": [
    "### Interpretation of Spearmans Test Results\n",
    "* The correlation coefficient was extremely high at 0.9999. This makes sense since both sample sizes are sorted by trip duration.\n",
    "* Unlike Pearsons, Spearmans test doesn't assume that both samples are normally distributed and doesn't only look at linear relationships\n",
    "* Since Spearmans R is greater than Pearsons R, the relationship between the two groups is non-linear\n",
    "* The p-value was essentially 0.0, meaning there is no uncertainty about the correlation.\n",
    "* We therefore can **reject the null** since day trips and night trips are extremely correlated."
   ]
  }
 ],
 "metadata": {
  "kernelspec": {
   "display_name": "PUI2016_Python3",
   "language": "python",
   "name": "pui2016_python3"
  },
  "language_info": {
   "codemirror_mode": {
    "name": "ipython",
    "version": 3
   },
   "file_extension": ".py",
   "mimetype": "text/x-python",
   "name": "python",
   "nbconvert_exporter": "python",
   "pygments_lexer": "ipython3",
   "version": "3.5.4"
  }
 },
 "nbformat": 4,
 "nbformat_minor": 2
}
