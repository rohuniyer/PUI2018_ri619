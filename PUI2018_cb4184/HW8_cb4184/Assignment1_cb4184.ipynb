{
 "cells": [
  {
   "cell_type": "markdown",
   "metadata": {},
   "source": [
    "# Assignment 1\n",
    "### Tourists vs. New Yorker CitiBike Visualization"
   ]
  },
  {
   "cell_type": "code",
   "execution_count": 62,
   "metadata": {},
   "outputs": [],
   "source": [
    "# my usual imports and setups\n",
    "import matplotlib.pylab as plt \n",
    "import pandas as pd\n",
    "import numpy as np\n",
    "%matplotlib inline\n",
    "\n",
    "import os\n",
    "from datetime import datetime, timedelta\n",
    "import time\n",
    "import scipy.stats\n",
    "from getCitiBike import getCitiBikeCSV #custom script to get citi bike data for a given month"
   ]
  },
  {
   "cell_type": "code",
   "execution_count": 27,
   "metadata": {},
   "outputs": [],
   "source": [
    "def getCitiBikeCSV(date):\n",
    "    ''' \n",
    "    This function returns citi bike data for a given month(s)\n",
    "    \n",
    "    Parameters\n",
    "    ----------\n",
    "    date: string\n",
    "        Pass one month by inputting format <YYYY><MM>; EX: 201801\n",
    "        Pass month range by inputting format <YYYY><M1M1><M2M2>; EX: 20180103\n",
    "        \n",
    "    Returns\n",
    "    ----------\n",
    "    csv: table\n",
    "        dumps it into your PUIDATA folder\n",
    "    '''\n",
    "    path = \"https://s3.amazonaws.com/tripdata/{}-citibike-tripdata.csv.zip\".format(str(date))\n",
    "    os.system('curl -O ' + path)\n",
    "    currentpath = []\n",
    "    currentpath.append(os.getcwd())\n",
    "    os.system('unzip -u '+currentpath[0]+'/'+ path.split('/')[-1]+ ' -d $PUIDATA')\n",
    "    print('Downloaded',path.split('/')[-1].split('.z')[0], 'to your PUIDATA folder!')"
   ]
  },
  {
   "cell_type": "code",
   "execution_count": 28,
   "metadata": {},
   "outputs": [
    {
     "name": "stdout",
     "output_type": "stream",
     "text": [
      "Downloaded 201809-citibike-tripdata.csv to your PUIDATA folder!\n"
     ]
    }
   ],
   "source": [
    "datestring = '201809' # Download September data\n",
    "getCitiBikeCSV(datestring)\n",
    "df = pd.read_csv(os.getenv(\"PUIDATA\") + \"/\" + datestring + '-citibike-tripdata.csv', parse_dates=['starttime','stoptime'])"
   ]
  },
  {
   "cell_type": "code",
   "execution_count": 31,
   "metadata": {},
   "outputs": [],
   "source": [
    "df['time'] = df.starttime.apply(lambda x: x.time()) #get time object from starttime\n",
    "df['day_of_week'] = df.starttime.apply(lambda x: x.weekday()) #Monday is a 0 "
   ]
  },
  {
   "cell_type": "code",
   "execution_count": 113,
   "metadata": {},
   "outputs": [],
   "source": [
    "def get_hour(mytime):\n",
    "    time_str = str(mytime)\n",
    "    h, m, s = time_str.split(':')\n",
    "    return(int(h) * 3600 + int(m) * 60 + float(s))/3600"
   ]
  },
  {
   "cell_type": "code",
   "execution_count": 114,
   "metadata": {},
   "outputs": [
    {
     "data": {
      "text/html": [
       "<div>\n",
       "<table border=\"1\" class=\"dataframe\">\n",
       "  <thead>\n",
       "    <tr style=\"text-align: right;\">\n",
       "      <th></th>\n",
       "      <th>tripduration</th>\n",
       "      <th>starttime</th>\n",
       "      <th>stoptime</th>\n",
       "      <th>start station id</th>\n",
       "      <th>start station name</th>\n",
       "      <th>start station latitude</th>\n",
       "      <th>start station longitude</th>\n",
       "      <th>end station id</th>\n",
       "      <th>end station name</th>\n",
       "      <th>end station latitude</th>\n",
       "      <th>end station longitude</th>\n",
       "      <th>bikeid</th>\n",
       "      <th>usertype</th>\n",
       "      <th>birth year</th>\n",
       "      <th>gender</th>\n",
       "      <th>time</th>\n",
       "      <th>day_of_week</th>\n",
       "      <th>total_hours</th>\n",
       "    </tr>\n",
       "  </thead>\n",
       "  <tbody>\n",
       "    <tr>\n",
       "      <th>0</th>\n",
       "      <td>1635</td>\n",
       "      <td>2018-09-01 00:00:05.269</td>\n",
       "      <td>2018-09-01 00:27:20.634</td>\n",
       "      <td>252.0</td>\n",
       "      <td>MacDougal St &amp; Washington Sq</td>\n",
       "      <td>40.732264</td>\n",
       "      <td>-73.998522</td>\n",
       "      <td>366.0</td>\n",
       "      <td>Clinton Ave &amp; Myrtle Ave</td>\n",
       "      <td>40.693261</td>\n",
       "      <td>-73.968896</td>\n",
       "      <td>25577</td>\n",
       "      <td>Subscriber</td>\n",
       "      <td>1980</td>\n",
       "      <td>1</td>\n",
       "      <td>00:00:05.269000</td>\n",
       "      <td>5</td>\n",
       "      <td>0.001464</td>\n",
       "    </tr>\n",
       "    <tr>\n",
       "      <th>1</th>\n",
       "      <td>132</td>\n",
       "      <td>2018-09-01 00:00:11.281</td>\n",
       "      <td>2018-09-01 00:02:23.481</td>\n",
       "      <td>314.0</td>\n",
       "      <td>Cadman Plaza West &amp; Montague St</td>\n",
       "      <td>40.693830</td>\n",
       "      <td>-73.990539</td>\n",
       "      <td>3242.0</td>\n",
       "      <td>Schermerhorn St &amp; Court St</td>\n",
       "      <td>40.691029</td>\n",
       "      <td>-73.991834</td>\n",
       "      <td>34377</td>\n",
       "      <td>Subscriber</td>\n",
       "      <td>1969</td>\n",
       "      <td>0</td>\n",
       "      <td>00:00:11.281000</td>\n",
       "      <td>5</td>\n",
       "      <td>0.003134</td>\n",
       "    </tr>\n",
       "    <tr>\n",
       "      <th>2</th>\n",
       "      <td>3337</td>\n",
       "      <td>2018-09-01 00:00:20.649</td>\n",
       "      <td>2018-09-01 00:55:58.547</td>\n",
       "      <td>3142.0</td>\n",
       "      <td>1 Ave &amp; E 62 St</td>\n",
       "      <td>40.761227</td>\n",
       "      <td>-73.960940</td>\n",
       "      <td>3384.0</td>\n",
       "      <td>Smith St &amp; 3 St</td>\n",
       "      <td>40.678724</td>\n",
       "      <td>-73.995991</td>\n",
       "      <td>30496</td>\n",
       "      <td>Subscriber</td>\n",
       "      <td>1975</td>\n",
       "      <td>1</td>\n",
       "      <td>00:00:20.649000</td>\n",
       "      <td>5</td>\n",
       "      <td>0.005736</td>\n",
       "    </tr>\n",
       "    <tr>\n",
       "      <th>3</th>\n",
       "      <td>436</td>\n",
       "      <td>2018-09-01 00:00:21.746</td>\n",
       "      <td>2018-09-01 00:07:38.583</td>\n",
       "      <td>308.0</td>\n",
       "      <td>St James Pl &amp; Oliver St</td>\n",
       "      <td>40.713079</td>\n",
       "      <td>-73.998512</td>\n",
       "      <td>3690.0</td>\n",
       "      <td>Park Pl &amp; Church St</td>\n",
       "      <td>40.713342</td>\n",
       "      <td>-74.009355</td>\n",
       "      <td>28866</td>\n",
       "      <td>Subscriber</td>\n",
       "      <td>1984</td>\n",
       "      <td>2</td>\n",
       "      <td>00:00:21.746000</td>\n",
       "      <td>5</td>\n",
       "      <td>0.006041</td>\n",
       "    </tr>\n",
       "    <tr>\n",
       "      <th>4</th>\n",
       "      <td>8457</td>\n",
       "      <td>2018-09-01 00:00:27.315</td>\n",
       "      <td>2018-09-01 02:21:25.308</td>\n",
       "      <td>345.0</td>\n",
       "      <td>W 13 St &amp; 6 Ave</td>\n",
       "      <td>40.736494</td>\n",
       "      <td>-73.997044</td>\n",
       "      <td>380.0</td>\n",
       "      <td>W 4 St &amp; 7 Ave S</td>\n",
       "      <td>40.734011</td>\n",
       "      <td>-74.002939</td>\n",
       "      <td>20943</td>\n",
       "      <td>Customer</td>\n",
       "      <td>1994</td>\n",
       "      <td>1</td>\n",
       "      <td>00:00:27.315000</td>\n",
       "      <td>5</td>\n",
       "      <td>0.007588</td>\n",
       "    </tr>\n",
       "  </tbody>\n",
       "</table>\n",
       "</div>"
      ],
      "text/plain": [
       "   tripduration               starttime                stoptime  \\\n",
       "0          1635 2018-09-01 00:00:05.269 2018-09-01 00:27:20.634   \n",
       "1           132 2018-09-01 00:00:11.281 2018-09-01 00:02:23.481   \n",
       "2          3337 2018-09-01 00:00:20.649 2018-09-01 00:55:58.547   \n",
       "3           436 2018-09-01 00:00:21.746 2018-09-01 00:07:38.583   \n",
       "4          8457 2018-09-01 00:00:27.315 2018-09-01 02:21:25.308   \n",
       "\n",
       "   start station id               start station name  start station latitude  \\\n",
       "0             252.0     MacDougal St & Washington Sq               40.732264   \n",
       "1             314.0  Cadman Plaza West & Montague St               40.693830   \n",
       "2            3142.0                  1 Ave & E 62 St               40.761227   \n",
       "3             308.0          St James Pl & Oliver St               40.713079   \n",
       "4             345.0                  W 13 St & 6 Ave               40.736494   \n",
       "\n",
       "   start station longitude  end station id            end station name  \\\n",
       "0               -73.998522           366.0    Clinton Ave & Myrtle Ave   \n",
       "1               -73.990539          3242.0  Schermerhorn St & Court St   \n",
       "2               -73.960940          3384.0             Smith St & 3 St   \n",
       "3               -73.998512          3690.0         Park Pl & Church St   \n",
       "4               -73.997044           380.0            W 4 St & 7 Ave S   \n",
       "\n",
       "   end station latitude  end station longitude  bikeid    usertype  \\\n",
       "0             40.693261             -73.968896   25577  Subscriber   \n",
       "1             40.691029             -73.991834   34377  Subscriber   \n",
       "2             40.678724             -73.995991   30496  Subscriber   \n",
       "3             40.713342             -74.009355   28866  Subscriber   \n",
       "4             40.734011             -74.002939   20943    Customer   \n",
       "\n",
       "   birth year  gender             time  day_of_week  total_hours  \n",
       "0        1980       1  00:00:05.269000            5     0.001464  \n",
       "1        1969       0  00:00:11.281000            5     0.003134  \n",
       "2        1975       1  00:00:20.649000            5     0.005736  \n",
       "3        1984       2  00:00:21.746000            5     0.006041  \n",
       "4        1994       1  00:00:27.315000            5     0.007588  "
      ]
     },
     "execution_count": 114,
     "metadata": {},
     "output_type": "execute_result"
    }
   ],
   "source": [
    "#convert time to total hours (from start of day)\n",
    "df['total_hours'] = df.time.apply(lambda x: get_hour(x))\n",
    "df.head()"
   ]
  },
  {
   "cell_type": "code",
   "execution_count": 118,
   "metadata": {},
   "outputs": [],
   "source": [
    "#divide into weekend vs. weekday\n",
    "citibikeWeekday = df[df.day_of_week < 5]\n",
    "citibikeWeekend = df[df.day_of_week >= 5]"
   ]
  },
  {
   "cell_type": "code",
   "execution_count": 119,
   "metadata": {},
   "outputs": [],
   "source": [
    "#eliminate unnecessary columns and sort\n",
    "citibikeWeekday = citibikeWeekday[['usertype','total_hours']]\n",
    "citibikeWeekday.sort_values('total_hours', inplace=True)\n",
    "\n",
    "citibikeWeekend = citibikeWeekend[['usertype','total_hours']]\n",
    "citibikeWeekend.sort_values('total_hours', inplace=True)"
   ]
  },
  {
   "cell_type": "code",
   "execution_count": 121,
   "metadata": {},
   "outputs": [],
   "source": [
    "bins = np.linspace(0,24,144) #split it up into 10 minute intervals\n",
    "\n",
    "# Aggregate and sum the WEEKDAY tourists and locals by bin\n",
    "tourists_weekday = citibikeWeekday[citibikeWeekday.usertype != 'Subscriber'].total_hours.groupby(pd.cut(citibikeWeekday[citibikeWeekday.usertype != 'Subscriber'].total_hours, \n",
    "                                                 bins)).agg([np.count_nonzero]).cumsum()\n",
    "NY_locals_weekday = citibikeWeekday[citibikeWeekday.usertype == 'Subscriber'].total_hours.groupby(pd.cut(citibikeWeekday[citibikeWeekday.usertype == 'Subscriber'].total_hours, \n",
    "                                                 bins)).agg([np.count_nonzero]).cumsum()\n",
    "\n",
    "# Aggregate and sum the WEEKEND tourists and locals by bin\n",
    "tourists_weekend = citibikeWeekend[citibikeWeekend.usertype != 'Subscriber'].total_hours.groupby(pd.cut(citibikeWeekend[citibikeWeekend.usertype != 'Subscriber'].total_hours, \n",
    "                                                 bins)).agg([np.count_nonzero]).cumsum()\n",
    "NY_locals_weekend = citibikeWeekend[citibikeWeekend.usertype == 'Subscriber'].total_hours.groupby(pd.cut(citibikeWeekend[citibikeWeekend.usertype == 'Subscriber'].total_hours, \n",
    "                                                 bins)).agg([np.count_nonzero]).cumsum()"
   ]
  },
  {
   "cell_type": "code",
   "execution_count": 162,
   "metadata": {},
   "outputs": [
    {
     "data": {
      "image/png": "[encoded data removed]",
      "text/plain": [
       "<matplotlib.figure.Figure at 0x7f9a96ec7f98>"
      ]
     },
     "metadata": {},
     "output_type": "display_data"
    }
   ],
   "source": [
    "fig = plt.figure(figsize=(14,6))\n",
    "axs = fig.subplots(1,2)\n",
    "ax1 = axs[0]\n",
    "ax2 = axs[1]\n",
    "\n",
    "fig.suptitle('Locals vs. Tourists Start Time CDF', fontsize=16)\n",
    "\n",
    "ax1.plot(bins[:-1], tourists_weekday / tourists_weekday.max(), label = \"Tourists\")\n",
    "ax1.plot(bins[:-1], NY_locals_weekday / NY_locals_weekday.max(), label = \"Locals\")\n",
    "ax1.plot(bins[:-1], np.abs(NY_locals_weekday / NY_locals_weekday.max() - tourists_weekday / tourists_weekday.max()), 'k-',\n",
    "        label = \"difference\")\n",
    "ax1.set_title(\"Weekday\")\n",
    "\n",
    "ax2.plot(bins[:-1], tourists_weekend / tourists_weekend.max(), label = \"Tourists\")\n",
    "ax2.plot(bins[:-1], NY_locals_weekend / NY_locals_weekend.max(), label = \"Locals\")\n",
    "ax2.plot(bins[:-1], np.abs(NY_locals_weekend / NY_locals_weekend.max() - tourists_weekend / tourists_weekend.max()), 'k-',\n",
    "        label = \"difference\")\n",
    "ax2.set_title(\"Weekend\")\n",
    "\n",
    "for ax in axs:\n",
    "    ax.set_xlabel(\"Start Time (hours)\")\n",
    "    ax.set_ylabel(\"Normalized Cumulative Number\")\n",
    "    ax.set_xlim(0,24)\n",
    "    ax.legend();\n",
    "\n",
    "fig.savefig('Locals_vs_Tourists_Start_time.png')"
   ]
  },
  {
   "cell_type": "markdown",
   "metadata": {},
   "source": [
    "**Figure 1:** These figures show that the start time for tourists vs New Yorkers varies differently on the weekdays. The greatest difference between the two groups (~20%) happens right before 10am, which makes sense because it aligns with the morning commute. Likewise, there is another peak around the evening commute (~17 hours). This relationship is minimized during the weekend, as symbolized by the line of difference. "
   ]
  }
 ],
 "metadata": {
  "kernelspec": {
   "display_name": "PUI2016_Python3",
   "language": "python",
   "name": "pui2016_python3"
  },
  "language_info": {
   "codemirror_mode": {
    "name": "ipython",
    "version": 3
   },
   "file_extension": ".py",
   "mimetype": "text/x-python",
   "name": "python",
   "nbconvert_exporter": "python",
   "pygments_lexer": "ipython3",
   "version": "3.5.4"
  }
 },
 "nbformat": 4,
 "nbformat_minor": 2
}
