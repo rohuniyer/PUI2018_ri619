{
 "cells": [
  {
   "cell_type": "markdown",
   "metadata": {},
   "source": [
    "# CitiBike Trip Distance Comparison: Young vs. Old"
   ]
  },
  {
   "cell_type": "markdown",
   "metadata": {},
   "source": [
    "### Null Hypothesis $H_0$:\n",
    "Young adults (ages 18-35) on average ride citi bikes equal or *smaller distances per trip* than adults of other age groups.\n",
    "\n",
    "### Alternative Hypothesis $H_a$:\n",
    "Young adults (ages 18-35) on average ride farther distances per trip than adults of other age groups.\n",
    "\n",
    "#### Testing Strategy:\n",
    "For this analysis, I will use a Z test with an $\\alpha$/__significance level__ of __0.05__ ($\\alpha: 0.05$)\n"
   ]
  },
  {
   "cell_type": "code",
   "execution_count": 60,
   "metadata": {},
   "outputs": [],
   "source": [
    "from __future__ import print_function\n",
    "import os\n",
    "from scipy import stats"
   ]
  },
  {
   "cell_type": "code",
   "execution_count": 4,
   "metadata": {},
   "outputs": [],
   "source": [
    "import pandas as pd\n",
    "import numpy as np\n",
    "import matplotlib.pyplot as plt\n",
    "%matplotlib inline"
   ]
  },
  {
   "cell_type": "code",
   "execution_count": 5,
   "metadata": {},
   "outputs": [
    {
     "name": "stdout",
     "output_type": "stream",
     "text": [
      "  % Total    % Received % Xferd  Average Speed   Time    Time     Time  Current\n",
      "                                 Dload  Upload   Total   Spent    Left  Speed\n",
      "100 22.1M  100 22.1M    0     0  63.2M      0 --:--:-- --:--:-- --:--:-- 63.3M\n",
      "Archive:  201809-citibike-tripdata.csv.zip\n",
      "\n",
      "Archive:  201807-citibike-tripdata.csv.zip\n",
      "\n",
      "Archive:  201801-citibike-tripdata.csv.zip\n",
      "\n",
      "3 archives were successfully processed.\n"
     ]
    }
   ],
   "source": [
    "!curl -O \"https://s3.amazonaws.com/tripdata/201801-citibike-tripdata.csv.zip\"\n",
    "!unzip -u '*.zip' -d $PUIDATA"
   ]
  },
  {
   "cell_type": "code",
   "execution_count": 6,
   "metadata": {},
   "outputs": [],
   "source": [
    "PUIDATA = os.getenv(\"PUIDATA\")\n",
    "df = pd.read_csv(PUIDATA+'/201801-citibike-tripdata.csv', low_memory=False)"
   ]
  },
  {
   "cell_type": "code",
   "execution_count": 7,
   "metadata": {},
   "outputs": [
    {
     "data": {
      "text/html": [
       "<div>\n",
       "<table border=\"1\" class=\"dataframe\">\n",
       "  <thead>\n",
       "    <tr style=\"text-align: right;\">\n",
       "      <th></th>\n",
       "      <th>tripduration</th>\n",
       "      <th>starttime</th>\n",
       "      <th>stoptime</th>\n",
       "      <th>start station id</th>\n",
       "      <th>start station name</th>\n",
       "      <th>start station latitude</th>\n",
       "      <th>start station longitude</th>\n",
       "      <th>end station id</th>\n",
       "      <th>end station name</th>\n",
       "      <th>end station latitude</th>\n",
       "      <th>end station longitude</th>\n",
       "      <th>bikeid</th>\n",
       "      <th>usertype</th>\n",
       "      <th>birth year</th>\n",
       "      <th>gender</th>\n",
       "    </tr>\n",
       "  </thead>\n",
       "  <tbody>\n",
       "    <tr>\n",
       "      <th>0</th>\n",
       "      <td>970</td>\n",
       "      <td>2018-01-01 13:50:57.4340</td>\n",
       "      <td>2018-01-01 14:07:08.1860</td>\n",
       "      <td>72</td>\n",
       "      <td>W 52 St &amp; 11 Ave</td>\n",
       "      <td>40.767272</td>\n",
       "      <td>-73.993929</td>\n",
       "      <td>505</td>\n",
       "      <td>6 Ave &amp; W 33 St</td>\n",
       "      <td>40.749013</td>\n",
       "      <td>-73.988484</td>\n",
       "      <td>31956</td>\n",
       "      <td>Subscriber</td>\n",
       "      <td>1992</td>\n",
       "      <td>1</td>\n",
       "    </tr>\n",
       "    <tr>\n",
       "      <th>1</th>\n",
       "      <td>723</td>\n",
       "      <td>2018-01-01 15:33:30.1820</td>\n",
       "      <td>2018-01-01 15:45:33.3410</td>\n",
       "      <td>72</td>\n",
       "      <td>W 52 St &amp; 11 Ave</td>\n",
       "      <td>40.767272</td>\n",
       "      <td>-73.993929</td>\n",
       "      <td>3255</td>\n",
       "      <td>8 Ave &amp; W 31 St</td>\n",
       "      <td>40.750585</td>\n",
       "      <td>-73.994685</td>\n",
       "      <td>32536</td>\n",
       "      <td>Subscriber</td>\n",
       "      <td>1969</td>\n",
       "      <td>1</td>\n",
       "    </tr>\n",
       "    <tr>\n",
       "      <th>2</th>\n",
       "      <td>496</td>\n",
       "      <td>2018-01-01 15:39:18.3370</td>\n",
       "      <td>2018-01-01 15:47:35.1720</td>\n",
       "      <td>72</td>\n",
       "      <td>W 52 St &amp; 11 Ave</td>\n",
       "      <td>40.767272</td>\n",
       "      <td>-73.993929</td>\n",
       "      <td>525</td>\n",
       "      <td>W 34 St &amp; 11 Ave</td>\n",
       "      <td>40.755942</td>\n",
       "      <td>-74.002116</td>\n",
       "      <td>16069</td>\n",
       "      <td>Subscriber</td>\n",
       "      <td>1956</td>\n",
       "      <td>1</td>\n",
       "    </tr>\n",
       "  </tbody>\n",
       "</table>\n",
       "</div>"
      ],
      "text/plain": [
       "   tripduration                 starttime                  stoptime  \\\n",
       "0           970  2018-01-01 13:50:57.4340  2018-01-01 14:07:08.1860   \n",
       "1           723  2018-01-01 15:33:30.1820  2018-01-01 15:45:33.3410   \n",
       "2           496  2018-01-01 15:39:18.3370  2018-01-01 15:47:35.1720   \n",
       "\n",
       "   start station id start station name  start station latitude  \\\n",
       "0                72   W 52 St & 11 Ave               40.767272   \n",
       "1                72   W 52 St & 11 Ave               40.767272   \n",
       "2                72   W 52 St & 11 Ave               40.767272   \n",
       "\n",
       "   start station longitude  end station id  end station name  \\\n",
       "0               -73.993929             505   6 Ave & W 33 St   \n",
       "1               -73.993929            3255   8 Ave & W 31 St   \n",
       "2               -73.993929             525  W 34 St & 11 Ave   \n",
       "\n",
       "   end station latitude  end station longitude  bikeid    usertype  \\\n",
       "0             40.749013             -73.988484   31956  Subscriber   \n",
       "1             40.750585             -73.994685   32536  Subscriber   \n",
       "2             40.755942             -74.002116   16069  Subscriber   \n",
       "\n",
       "   birth year  gender  \n",
       "0        1992       1  \n",
       "1        1969       1  \n",
       "2        1956       1  "
      ]
     },
     "execution_count": 7,
     "metadata": {},
     "output_type": "execute_result"
    }
   ],
   "source": [
    "df.head(3)"
   ]
  },
  {
   "cell_type": "code",
   "execution_count": 8,
   "metadata": {},
   "outputs": [],
   "source": [
    "# I'm calculating distance to test my hypothesis\n",
    "def CalcDist(lon1, lat1, lon2, lat2):\n",
    "    '''\n",
    "    Will Use this to calculate distance (straight line) from start to stop\n",
    "    '''\n",
    "    \n",
    "    lon1, lat1, lon2, lat2 = map(np.radians, [lon1, lat1, lon2, lat2])\n",
    "    dlon=lon2-lon1\n",
    "    dlat=lat2-lat1\n",
    "    \n",
    "    '''This is the distance formula'''\n",
    "    a = np.sin(dlat/2.0)**2 + np.cos(lat1) * np.cos(lat2) * np.sin(dlon/2.0)**2\n",
    "    \n",
    "    c = 2 * np.arcsin(np.sqrt(a))\n",
    "    km = 6367 * c\n",
    "    return km\n",
    "\n",
    "df['Distance'] = \\\n",
    "    CalcDist(df['start station longitude'], df['start station latitude'], df['end station longitude'], df['end station latitude'])\n",
    "    "
   ]
  },
  {
   "cell_type": "code",
   "execution_count": 9,
   "metadata": {},
   "outputs": [
    {
     "data": {
      "text/html": [
       "<div>\n",
       "<table border=\"1\" class=\"dataframe\">\n",
       "  <thead>\n",
       "    <tr style=\"text-align: right;\">\n",
       "      <th></th>\n",
       "      <th>Age</th>\n",
       "      <th>Distance</th>\n",
       "    </tr>\n",
       "  </thead>\n",
       "  <tbody>\n",
       "    <tr>\n",
       "      <th>0</th>\n",
       "      <td>26</td>\n",
       "      <td>2.080202</td>\n",
       "    </tr>\n",
       "    <tr>\n",
       "      <th>1</th>\n",
       "      <td>49</td>\n",
       "      <td>1.855415</td>\n",
       "    </tr>\n",
       "    <tr>\n",
       "      <th>2</th>\n",
       "      <td>62</td>\n",
       "      <td>1.435362</td>\n",
       "    </tr>\n",
       "  </tbody>\n",
       "</table>\n",
       "</div>"
      ],
      "text/plain": [
       "   Age  Distance\n",
       "0   26  2.080202\n",
       "1   49  1.855415\n",
       "2   62  1.435362"
      ]
     },
     "execution_count": 9,
     "metadata": {},
     "output_type": "execute_result"
    }
   ],
   "source": [
    "#Also need to add an 'Age' column\n",
    "df['Age'] = (2018 - df['birth year']).astype(int)\n",
    "\n",
    "df_reducted = df[['Age','Distance']]\n",
    "df_reducted.head(3)"
   ]
  },
  {
   "cell_type": "code",
   "execution_count": 97,
   "metadata": {},
   "outputs": [
    {
     "data": {
      "text/html": [
       "<div>\n",
       "<table border=\"1\" class=\"dataframe\">\n",
       "  <thead>\n",
       "    <tr style=\"text-align: right;\">\n",
       "      <th></th>\n",
       "      <th>Age</th>\n",
       "      <th>Distance</th>\n",
       "    </tr>\n",
       "  </thead>\n",
       "  <tbody>\n",
       "    <tr>\n",
       "      <th>0</th>\n",
       "      <td>26</td>\n",
       "      <td>2.080202</td>\n",
       "    </tr>\n",
       "    <tr>\n",
       "      <th>4</th>\n",
       "      <td>26</td>\n",
       "      <td>1.130394</td>\n",
       "    </tr>\n",
       "    <tr>\n",
       "      <th>13</th>\n",
       "      <td>27</td>\n",
       "      <td>1.030388</td>\n",
       "    </tr>\n",
       "  </tbody>\n",
       "</table>\n",
       "</div>"
      ],
      "text/plain": [
       "    Age  Distance\n",
       "0    26  2.080202\n",
       "4    26  1.130394\n",
       "13   27  1.030388"
      ]
     },
     "execution_count": 97,
     "metadata": {},
     "output_type": "execute_result"
    }
   ],
   "source": [
    "# Create a subset of the data for 'young people' aged 18 to 30\n",
    "youngpeople = df_reducted[(df_reducted['Age']>18)&(df_reducted['Age']<35)]\n",
    "youngpeople.head(3)"
   ]
  },
  {
   "cell_type": "code",
   "execution_count": 99,
   "metadata": {},
   "outputs": [
    {
     "data": {
      "text/html": [
       "<div>\n",
       "<table border=\"1\" class=\"dataframe\">\n",
       "  <thead>\n",
       "    <tr style=\"text-align: right;\">\n",
       "      <th></th>\n",
       "      <th>Age</th>\n",
       "      <th>Distance</th>\n",
       "    </tr>\n",
       "  </thead>\n",
       "  <tbody>\n",
       "    <tr>\n",
       "      <th>1</th>\n",
       "      <td>49</td>\n",
       "      <td>1.855415</td>\n",
       "    </tr>\n",
       "    <tr>\n",
       "      <th>2</th>\n",
       "      <td>62</td>\n",
       "      <td>1.435362</td>\n",
       "    </tr>\n",
       "    <tr>\n",
       "      <th>3</th>\n",
       "      <td>44</td>\n",
       "      <td>0.837513</td>\n",
       "    </tr>\n",
       "    <tr>\n",
       "      <th>5</th>\n",
       "      <td>50</td>\n",
       "      <td>3.135244</td>\n",
       "    </tr>\n",
       "    <tr>\n",
       "      <th>6</th>\n",
       "      <td>40</td>\n",
       "      <td>2.329651</td>\n",
       "    </tr>\n",
       "  </tbody>\n",
       "</table>\n",
       "</div>"
      ],
      "text/plain": [
       "   Age  Distance\n",
       "1   49  1.855415\n",
       "2   62  1.435362\n",
       "3   44  0.837513\n",
       "5   50  3.135244\n",
       "6   40  2.329651"
      ]
     },
     "execution_count": 99,
     "metadata": {},
     "output_type": "execute_result"
    }
   ],
   "source": [
    "# create a subset for 'old people'\n",
    "oldpeople = df_reducted[df_reducted['Age']>=35]\n",
    "oldpeople.head()"
   ]
  },
  {
   "cell_type": "code",
   "execution_count": 105,
   "metadata": {},
   "outputs": [
    {
     "data": {
      "image/png": "[encoded data removed]",
      "text/plain": [
       "<matplotlib.figure.Figure at 0x7fb3fbdc8fd0>"
      ]
     },
     "metadata": {},
     "output_type": "display_data"
    }
   ],
   "source": [
    "oldsorted = oldpeople.sort_values('Distance')\n",
    "youngsorted = youngpeople.sort_values('Distance')\n",
    "\n",
    "mu1, sigma1 = scipy.stats.norm.fit(oldsorted.Distance)\n",
    "curve1 = scipy.stats.norm.pdf(oldsorted.Distance, mu1, sigma1)\n",
    "\n",
    "mu2, sigma2 = scipy.stats.norm.fit(youngsorted.Distance)\n",
    "curve2 = scipy.stats.norm.pdf(youngsorted.Distance, mu1, sigma1)\n",
    "\n",
    "fig = plt.figure(figsize=(14,7))\n",
    "ax2 = fig.add_subplot(121)\n",
    "ax = fig.add_subplot(122)\n",
    "\n",
    "fig.suptitle('Trip Distance Distribution Per Group', fontsize=16)\n",
    "\n",
    "ax.hist(oldsorted.Distance,bins=40, density=True, edgecolor='black', alpha=0.8)\n",
    "ax.axvline(x=oldsorted.Distance.mean(),color='r')\n",
    "ax.text(4,0.5,'Mean Distance: {:.2f} km'.format(oldsorted.Distance.mean()), fontsize=12)\n",
    "ax.set_xlim(0,10)\n",
    "ax.set_title('Old People', fontsize=12)\n",
    "ax.plot(oldsorted.Distance,curve1,lw=3)\n",
    "\n",
    "ax2.hist(youngsorted.Distance,bins=40, density=True, edgecolor='black', alpha=0.8)\n",
    "ax2.axvline(x=youngsorted.Distance.mean(),color='r')\n",
    "ax2.text(4,0.5,'Mean Distance: {:.2f} km'.format(youngsorted.Distance.mean()), fontsize=12)\n",
    "ax2.set_xlim(0,10)\n",
    "ax2.set_title('Young People', fontsize=12)\n",
    "ax2.plot(youngsorted.Distance,curve2,lw=3)\n",
    "\n",
    "ax.set_ylabel('Distribution %')\n",
    "ax2.set_ylabel('Distribution %')\n",
    "ax.set_xlabel('Distance (km)')\n",
    "ax2.set_xlabel('Distance (km)')\n",
    "\n",
    "fig.savefig('TripDistance.png')\n",
    "# plt.tight_layout()"
   ]
  },
  {
   "cell_type": "markdown",
   "metadata": {},
   "source": [
    "__Figure 1:__ The graphs show that the young and old groups have a similar mean distance. Both groups also follow close to a normal distribution, though they are positively skewed since we cannot have negative values. "
   ]
  },
  {
   "cell_type": "markdown",
   "metadata": {},
   "source": [
    "### Notes:\n",
    "* The formula used for distance is not perfect because it is straight line. It would be better to calculate an actual biking distance using Google's API but you'd reach the API limit looping over all of the records in this dataset"
   ]
  },
  {
   "cell_type": "markdown",
   "metadata": {},
   "source": [
    "## Statistical Testing: Welch's t Test (for 2 sample means), variance and size unequal"
   ]
  },
  {
   "cell_type": "markdown",
   "metadata": {},
   "source": [
    "Because we are testing the means of two sample groups, we will perform a unpaired T Test. Our two dataframes have different variances and different sizes so we will use a Welch's t test; source: https://en.wikipedia.org/wiki/Student%27s_t-test#Independent_two-sample_t-test"
   ]
  },
  {
   "attachments": {},
   "cell_type": "markdown",
   "metadata": {},
   "source": [
    "FORMULA: $t = \\frac{x_1-x_2}{\\sqrt{(s_1^2/n_1+s_2^2/n_2}}$"
   ]
  },
  {
   "cell_type": "code",
   "execution_count": 101,
   "metadata": {},
   "outputs": [
    {
     "data": {
      "text/plain": [
       "'Statistic: 5.109309779616752, Degrees of Freedom: 625539.199955736'"
      ]
     },
     "execution_count": 101,
     "metadata": {},
     "output_type": "execute_result"
    }
   ],
   "source": [
    "# self defined t test for unequal sample sizes, unequal variances\n",
    "def t_Score(young,old):\n",
    "    x1, std1, n1 = young.mean(),young.std(),len(young)\n",
    "    x2, std2, n2 = old.mean(),old.std(),len(old)\n",
    "    stat = (x1-x2)/np.sqrt(std1**2/n1 + std2**2/n2)\n",
    "    df = (std1**2/n1 + std2**2/n2)**2/((std1**4/(n1**2*(n1-1))) + (std2**4/(n2**2*(n2-1))))\n",
    "    return('Statistic: {}, Degrees of Freedom: {}'.format(stat,df))\n",
    "t_Score(oldsorted.Distance,youngsorted.Distance)    "
   ]
  },
  {
   "cell_type": "code",
   "execution_count": 102,
   "metadata": {},
   "outputs": [
    {
     "data": {
      "text/plain": [
       "Ttest_indResult(statistic=5.1093097796167513, pvalue=3.2343256041548496e-07)"
      ]
     },
     "execution_count": 102,
     "metadata": {},
     "output_type": "execute_result"
    }
   ],
   "source": [
    "# matches scipy stats\n",
    "scipy.stats.ttest_ind(oldsorted.Distance,youngsorted.Distance,equal_var=False)"
   ]
  },
  {
   "cell_type": "markdown",
   "metadata": {},
   "source": [
    "## Results"
   ]
  },
  {
   "cell_type": "markdown",
   "metadata": {},
   "source": [
    "Consulting a t-test with a t-stat of 5.11 and an $\\alpha$ of 0.05, you would fail to reject the null if you had only 1 degree of freedom. However, our degrees of freedom is found using the Welch-Satterthwaite Equation and is extremely high, and you can reject the null at decreasing t stat levels as df increases. In addition, by running the independent ttest through scipy.stats, we get a p value of 0.00000. Our two groups are therefore **significantly different**. \n",
    "\n",
    "However, our null hypothesis states that young people have smaller than or equal trip distances to old people. By just looking at the means of each trip distance, we can see that old people in fact travel longer distances. We therefore **fail to reject the null**"
   ]
  }
 ],
 "metadata": {
  "kernelspec": {
   "display_name": "PUI2016_Python3",
   "language": "python",
   "name": "pui2016_python3"
  },
  "language_info": {
   "codemirror_mode": {
    "name": "ipython",
    "version": 3
   },
   "file_extension": ".py",
   "mimetype": "text/x-python",
   "name": "python",
   "nbconvert_exporter": "python",
   "pygments_lexer": "ipython3",
   "version": "3.5.4"
  }
 },
 "nbformat": 4,
 "nbformat_minor": 2
}
