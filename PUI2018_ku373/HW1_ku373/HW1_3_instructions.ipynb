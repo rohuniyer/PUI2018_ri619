{
 "cells": [
  {
   "cell_type": "code",
   "execution_count": 1,
   "metadata": {},
   "outputs": [],
   "source": [
    "from __future__ import print_function\n",
    "__author__ = \"Federica B. Bianco, CUSP NYU 2018\""
   ]
  },
  {
   "cell_type": "markdown",
   "metadata": {},
   "source": [
    "# Create a <i>reproducible research</i> chunk of code\n",
    "\n",
    "That means we want the reader to be able to reproduce every step of the work we do. \n",
    "\n",
    "If our work includes the use of stochastic processes and random variables that gets tricky: how do we assure the random draw gives the same number to the user that it gave to me? That is not random! \n",
    "\n",
    "That becomes possible because computers are unable to poduce truly random numbers. When we ask a computer to generate a random number, it will in fact generate a \"pseudo random\" number. The number will be randon in the sanse that it will be some number between, for example, 0 and 1 if we ask for a **uniform random distribution** or a number near 0 if we aks for a **Gaussian distribution with mean 0**. <i> But the sequence of pseudo-random numbers that a compujter generates will depend on its **seed**: if you know the seed you know all the numbers that are \"randomely\" drawn</i>.  \n",
    "\n",
    "You can read more about pseudorandom number generation in this wikipedia article https://en.wikipedia.org/wiki/Pseudorandom_number_generator\n",
    "\n",
    "Fill in the empty cells below with code, as directed."
   ]
  },
  {
   "cell_type": "code",
   "execution_count": 2,
   "metadata": {},
   "outputs": [],
   "source": [
    "import os\n",
    "import sys\n",
    "\n",
    "# you can use the numpy library for random number generation: \n",
    "# http://docs.scipy.org/doc/numpy/reference/routines.random.html\n",
    "\n",
    "import numpy as np"
   ]
  },
  {
   "cell_type": "markdown",
   "metadata": {},
   "source": [
    "## THIS IS THE MOST IMPORTANT PIECE OF THIS CODE! \n",
    "### give numpy as seed for this code to be reproducible \n",
    "(no points if this is wrong)\n",
    "\n",
    "http://docs.scipy.org/doc/numpy/reference/generated/numpy.random.seed.html"
   ]
  },
  {
   "cell_type": "code",
   "execution_count": 3,
   "metadata": {},
   "outputs": [],
   "source": [
    "# code here...\n",
    "np.random.seed(0)"
   ]
  },
  {
   "cell_type": "markdown",
   "metadata": {},
   "source": [
    "### 1. Generate random distributions. use the function \n",
    "http://docs.scipy.org/doc/numpy/reference/generated/numpy.random.randn.html\n",
    "### to generate 100 2-dimensional random datapoints in a gaussian distribution \n",
    "\n",
    "call the array ReprRand\n"
   ]
  },
  {
   "cell_type": "code",
   "execution_count": 12,
   "metadata": {},
   "outputs": [
    {
     "data": {
      "text/plain": [
       "array([[ 0.55596268,  0.89247389, -0.42231482,  0.10471403,  0.22805333,\n",
       "         0.20147995,  0.54077359, -1.81807763, -0.04932407,  0.2390336 ,\n",
       "        -1.00033035,  1.67398571,  0.16155927,  1.56340475, -0.79052302,\n",
       "        -0.90730012,  0.22425222, -1.67868836,  0.21496559,  0.09721923,\n",
       "         1.01566528,  0.70104134, -0.41747735, -1.09749665,  1.71230522,\n",
       "        -0.79211502, -1.04552456, -1.08485606,  1.11730532, -0.5189002 ,\n",
       "        -0.75370447,  0.13768983, -0.20694471, -0.67809546,  0.75399147,\n",
       "         1.06531549,  0.98531751,  0.76691967,  0.40262553, -1.775888  ,\n",
       "         1.66925081,  0.30198921,  0.60815643,  1.11496232,  1.4333525 ,\n",
       "         0.41839801,  0.43554616, -0.59922428,  0.03308975, -0.85416126,\n",
       "        -0.71994053, -0.8935744 , -0.15602389,  1.04909319,  3.17097477,\n",
       "         0.18949964, -1.34841309,  1.26498333, -0.30078388, -0.66060859,\n",
       "         0.20984948, -1.2406246 ,  0.22246316, -0.08837552,  0.09837791,\n",
       "         0.38141625,  0.06749226,  0.01633808,  0.28431452,  0.41540063,\n",
       "        -1.03148246, -1.42999126, -0.06163805, -1.43273549,  0.08753147,\n",
       "         0.93874688,  0.60711167, -1.04817041, -0.86026245,  0.3283013 ,\n",
       "        -0.40129781, -0.3166553 ,  0.59690648, -0.98728669, -0.40123471,\n",
       "        -0.80008248, -1.0431295 , -0.85707819,  0.67746217,  0.05182039,\n",
       "        -0.87916063, -0.23110161, -1.63880731, -0.73331281,  2.14957453,\n",
       "        -0.09024385,  0.73165893, -0.06548838,  0.34816924,  0.66325809],\n",
       "       [-1.1046166 , -0.03093626,  1.57886519, -0.79550055, -0.56643985,\n",
       "        -0.30769128,  0.26902407,  0.52491786,  1.26741165,  0.49949823,\n",
       "        -0.06205313,  1.25916713,  0.70411102, -1.49567952,  2.52636824,\n",
       "         1.76992139, -0.16821422,  0.3779101 ,  1.32435875, -0.17220079,\n",
       "         0.73035179,  1.10457847, -1.01482591, -0.60233185,  0.9214084 ,\n",
       "         0.46081448,  0.92379656, -0.13256801, -0.28900521, -1.99863948,\n",
       "        -1.14600043,  0.04706609,  0.82455722,  0.53117837, -0.12824197,\n",
       "        -0.27177157,  0.21717963,  0.07821118,  1.40454551,  0.14644077,\n",
       "        -1.48124596, -1.27255814,  1.51875934, -1.17116046,  0.76449745,\n",
       "        -0.26837274, -0.16975829, -0.13413278,  1.22138496, -0.19284183,\n",
       "        -0.03331928, -1.5308035 ,  0.20669051,  0.53104251,  0.23914558,\n",
       "         1.39789626,  0.05517135,  0.29897746,  1.64850401, -1.55001419,\n",
       "        -0.45582535,  1.42615875,  0.93612915,  0.6783801 ,  0.83265074,\n",
       "         0.32706621,  1.63159743,  0.37775917,  0.23986711,  0.15895867,\n",
       "         0.19286396, -1.15701728,  0.77067305, -0.13043973,  1.8219151 ,\n",
       "        -0.07565047,  0.42091828,  0.24660219, -0.62555704,  0.99213683,\n",
       "         1.90506364, -0.01477722, -0.30047879, -0.35502873, -1.89236189,\n",
       "        -0.17781314,  0.25099812,  1.05475793,  0.96004774, -0.41649908,\n",
       "        -0.27682299,  1.12390531, -0.1734639 , -0.51002954,  1.39251845,\n",
       "         1.03758567,  0.01879179, -0.59377745, -2.01188032,  0.58970361]])"
      ]
     },
     "execution_count": 12,
     "metadata": {},
     "output_type": "execute_result"
    }
   ],
   "source": [
    "# code here...\n",
    "ReprRand = np.random.randn(2,100)\n",
    "ReprRand\n"
   ]
  },
  {
   "cell_type": "markdown",
   "metadata": {},
   "source": [
    "#### if you did this correctly the shape of ReprRand will be (2, 100)\n"
   ]
  },
  {
   "cell_type": "code",
   "execution_count": 9,
   "metadata": {},
   "outputs": [
    {
     "data": {
      "text/plain": [
       "(2, 100)"
      ]
     },
     "execution_count": 9,
     "metadata": {},
     "output_type": "execute_result"
    }
   ],
   "source": [
    "# run this cell\n",
    "ReprRand.shape"
   ]
  },
  {
   "cell_type": "markdown",
   "metadata": {},
   "source": [
    "## 2. use the same function to generate 50 more random 2x100 numpy arrays and store them in ReprRandAll, all with different mean.\n",
    "\n",
    "np.random.randn creates a distribution with mean 0 and standard deviation 1 by default.\n",
    "\n",
    "To obtain a gaussian distribution with a mean different than 1 using np.random.randn you must add your new mean (it is explained in the dunction documentation for which I already gave you the link)\n",
    "\n",
    "If you want to change the standard deviation (sigma) as well you multiply the distribution by the new sigma.\n",
    "\n",
    "You can do it in a for loop. The first line of code I included generates an array of zeros that you can fill in with your new numbers. \n",
    "\n",
    "\n"
   ]
  },
  {
   "cell_type": "code",
   "execution_count": 6,
   "metadata": {},
   "outputs": [
    {
     "ename": "IndentationError",
     "evalue": "expected an indented block (<ipython-input-6-7afa69f5bc1d>, line 3)",
     "output_type": "error",
     "traceback": [
      "\u001b[0;36m  File \u001b[0;32m\"<ipython-input-6-7afa69f5bc1d>\"\u001b[0;36m, line \u001b[0;32m3\u001b[0m\n\u001b[0;31m    #code here...\u001b[0m\n\u001b[0m                 ^\u001b[0m\n\u001b[0;31mIndentationError\u001b[0m\u001b[0;31m:\u001b[0m expected an indented block\n"
     ]
    }
   ],
   "source": [
    "ReprRandAll = np.zeros((50, 2, 100))\n",
    "for i in range(50):\n",
    "    #code here..."
   ]
  },
  {
   "cell_type": "code",
   "execution_count": null,
   "metadata": {},
   "outputs": [],
   "source": [
    "# run this cell\n",
    "ReprRandAll.shape"
   ]
  },
  {
   "cell_type": "markdown",
   "metadata": {},
   "source": [
    "## 3. now plot them: \n",
    "\n",
    "you can use the matplotlib library, and the function scatter(), but that would plot everything in the same color unless you ask it not to. For convenience, let's use the function plot() which by default plots lines, and tell it to plot points (in addition plot is actually more efficient, so if you have a large dataset you may want to consider using plot with points for it anyways)\n",
    "\n",
    "https://scipy-lectures.github.io/intro/matplotlib/matplotlib.html#scatter-plots\n",
    "\n",
    "http://matplotlib.org/users/pyplot_tutorial.html\n"
   ]
  },
  {
   "cell_type": "code",
   "execution_count": null,
   "metadata": {},
   "outputs": [],
   "source": [
    "import pylab as pl\n",
    "%pylab inline\n",
    "# the last line of code makes the plot show up within the notebook. \n",
    "# Always include it so that your homework notebooks are rendered and we can see\n",
    "# what you wanted your results to be. \n",
    "\n",
    "# code here"
   ]
  },
  {
   "cell_type": "markdown",
   "metadata": {},
   "source": [
    "Always add a caption to each of your homework figures. \n",
    "And remember to give your labels some names! \n",
    "This is a general rule. Without the caption or axis labels this portion of the HW will not get points. Make sure the font in the labels is large enough to be readable.  \n",
    "\n",
    "## Figure 1: \n",
    "\n",
    "[write a caption here]"
   ]
  },
  {
   "cell_type": "markdown",
   "metadata": {},
   "source": [
    "## Challenge\n",
    "\n",
    "It is easier to give the same mean and standard deviation to each dimension. Can you give two different values for the mean along the x- and the mean along the y- axis for each of the 50 distributions if you have not done so? If you are an experienced coder, can you do it in a single line?\n",
    "\n",
    "\n"
   ]
  },
  {
   "cell_type": "code",
   "execution_count": null,
   "metadata": {},
   "outputs": [],
   "source": [
    "# code here..."
   ]
  },
  {
   "cell_type": "code",
   "execution_count": null,
   "metadata": {},
   "outputs": [],
   "source": [
    "# plot here..."
   ]
  },
  {
   "cell_type": "code",
   "execution_count": null,
   "metadata": {},
   "outputs": [],
   "source": []
  }
 ],
 "metadata": {
  "anaconda-cloud": {},
  "kernelspec": {
   "display_name": "PUI2016_Python2",
   "language": "python",
   "name": "pui2016_python2"
  },
  "language_info": {
   "codemirror_mode": {
    "name": "ipython",
    "version": 2
   },
   "file_extension": ".py",
   "mimetype": "text/x-python",
   "name": "python",
   "nbconvert_exporter": "python",
   "pygments_lexer": "ipython2",
   "version": "2.7.12"
  }
 },
 "nbformat": 4,
 "nbformat_minor": 1
}
