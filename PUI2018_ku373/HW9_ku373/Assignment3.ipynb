{
 "cells": [
  {
   "cell_type": "markdown",
   "metadata": {
    "run_control": {
     "frozen": false,
     "read_only": false
    },
    "toc": "true"
   },
   "source": [
    "# Table of Contents\n",
    " <p><div class=\"lev1 toc-item\"><a href=\"#DATA:\" data-toc-modified-id=\"DATA:-1\"><span class=\"toc-item-num\">1&nbsp;&nbsp;</span>DATA:</a></div><div class=\"lev1 toc-item\"><a href=\"#exploration\" data-toc-modified-id=\"exploration-2\"><span class=\"toc-item-num\">2&nbsp;&nbsp;</span>exploration</a></div><div class=\"lev2 toc-item\"><a href=\"#plot-mass-shooting-vs-gdp-in-absolute-numbers,-and-per-person.-Show-the-errorbars-(y-errors)\" data-toc-modified-id=\"plot-mass-shooting-vs-gdp-in-absolute-numbers,-and-per-person.-Show-the-errorbars-(y-errors)-21\"><span class=\"toc-item-num\">2.1&nbsp;&nbsp;</span>plot mass shooting vs gdp in absolute numbers, and per person. Show the errorbars (y errors)</a></div><div class=\"lev2 toc-item\"><a href=\"#plot-the-average-number-of-civilian-fire-arms-per-person\" data-toc-modified-id=\"plot-the-average-number-of-civilian-fire-arms-per-person-22\"><span class=\"toc-item-num\">2.2&nbsp;&nbsp;</span>plot the average number of civilian fire arms per person</a></div><div class=\"lev2 toc-item\"><a href=\"#plot-the-average-number-of-homicide-by-fire-arms-per-person\" data-toc-modified-id=\"plot-the-average-number-of-homicide-by-fire-arms-per-person-23\"><span class=\"toc-item-num\">2.3&nbsp;&nbsp;</span>plot the average number of homicide by fire arms per person</a></div><div class=\"lev2 toc-item\"><a href=\"#plot-the-number-of--homicides-by-fire-arm-against-the-number-of-civilian-firearms.-plot-the--US-in-a-different-color\" data-toc-modified-id=\"plot-the-number-of--homicides-by-fire-arm-against-the-number-of-civilian-firearms.-plot-the--US-in-a-different-color-24\"><span class=\"toc-item-num\">2.4&nbsp;&nbsp;</span>plot the number of  homicides by fire arm against the number of civilian firearms. plot the  US in a different color</a></div><div class=\"lev2 toc-item\"><a href=\"#plot-the-number-of--mass-shootings-against-the-number-of-civilian-firearms.-plot-the--US-in-a-different-color\" data-toc-modified-id=\"plot-the-number-of--mass-shootings-against-the-number-of-civilian-firearms.-plot-the--US-in-a-different-color-25\"><span class=\"toc-item-num\">2.5&nbsp;&nbsp;</span>plot the number of  mass shootings against the number of civilian firearms. plot the  US in a different color</a></div><div class=\"lev1 toc-item\"><a href=\"#Modeling\" data-toc-modified-id=\"Modeling-3\"><span class=\"toc-item-num\">3&nbsp;&nbsp;</span>Modeling</a></div><div class=\"lev2 toc-item\"><a href=\"#fit-a-line-to-the-Number-of-mass-shootings--per-person-as-a-function-of-Average-total-all-civilian-firearms-per-person.\" data-toc-modified-id=\"fit-a-line-to-the-Number-of-mass-shootings--per-person-as-a-function-of-Average-total-all-civilian-firearms-per-person.-31\"><span class=\"toc-item-num\">3.1&nbsp;&nbsp;</span>fit a line to the Number of mass shootings  per person as a function of Average total all civilian firearms per person.</a></div><div class=\"lev2 toc-item\"><a href=\"#Outlier-removal:\" data-toc-modified-id=\"Outlier-removal:-32\"><span class=\"toc-item-num\">3.2&nbsp;&nbsp;</span>Outlier removal:</a></div><div class=\"lev2 toc-item\"><a href=\"#Extra-credit:-calculate-the-confidence-interval-by-hand-and-also-plot-them\" data-toc-modified-id=\"Extra-credit:-calculate-the-confidence-interval-by-hand-and-also-plot-them-33\"><span class=\"toc-item-num\">3.3&nbsp;&nbsp;</span>Extra credit: calculate the confidence interval by hand and also plot them</a></div><div class=\"lev2 toc-item\"><a href=\"#Use-the-stsatsmodels.gaphics-package-to-plot-the-influence-plot.\" data-toc-modified-id=\"Use-the-stsatsmodels.gaphics-package-to-plot-the-influence-plot.-34\"><span class=\"toc-item-num\">3.4&nbsp;&nbsp;</span>Use the stsatsmodels.gaphics package to plot the influence plot.</a></div><div class=\"lev2 toc-item\"><a href=\"#Extra-credit:-calculate-from-scratch-the-stanrdardized-residuals-and-the-H-leverage-for-the-WLS-model-and-discuss-if-there-are-any-differences\" data-toc-modified-id=\"Extra-credit:-calculate-from-scratch-the-stanrdardized-residuals-and-the-H-leverage-for-the-WLS-model-and-discuss-if-there-are-any-differences-35\"><span class=\"toc-item-num\">3.5&nbsp;&nbsp;</span>Extra credit: calculate from scratch the stanrdardized residuals and the H leverage for the WLS model and discuss if there are any differences</a></div><div class=\"lev2 toc-item\"><a href=\"#Discuss-your-findings\" data-toc-modified-id=\"Discuss-your-findings-36\"><span class=\"toc-item-num\">3.6&nbsp;&nbsp;</span>Discuss your findings</a></div>"
   ]
  },
  {
   "cell_type": "markdown",
   "metadata": {
    "run_control": {
     "frozen": false,
     "read_only": false
    }
   },
   "source": [
    "**investigate linear relationships between fire arm possession, homicides by fire arms, and mass shootings for different countries, considering also the country GDP**"
   ]
  },
  {
   "cell_type": "markdown",
   "metadata": {
    "run_control": {
     "frozen": false,
     "read_only": false
    }
   },
   "source": [
    "# DATA: \n",
    "\n",
    "The Guardian firearms murders and ownership data. The relevans sheet is uploaded in the github repository as a csv file. Download it from there. Note: this dataset is from 2012.\n",
    "\n",
    "**Extra credit**: download directly from google docs with a google API\n",
    "\n",
    "https://docs.google.com/spreadsheets/d/1chqUZHuY6cXYrRYkuE0uwXisGaYvr7durZHJhpLGycs/edit#gid=0\n",
    "\n",
    "Number of mass shootings: find the link here https://datawrapper.dwcdn.net/pvLFI/4/\n",
    "\n",
    "The world population by country find the download link here :\n",
    "https://data.worldbank.org/indicator/SP.POP.TOTL\n",
    "\n",
    "Remember that all read or downloads have to me reproducible.\n",
    "\n",
    "Merge all datasets. After throwing away the irrelevant data it should look something like this (I renamed the GDP and the population as gdp\" and \"pop\")\n",
    "\n",
    "Throughout, when I ask you to include errors in plots or models, use Poisson statistics: the error is the square root of the number you are considering (e.g. this country has N fire arms +/- square root of N, or this country has Np [= N/population +/- (square root of N) / population] fire arms per person)."
   ]
  },
  {
   "cell_type": "code",
   "execution_count": 46,
   "metadata": {},
   "outputs": [
    {
     "name": "stdout",
     "output_type": "stream",
     "text": [
      "Populating the interactive namespace from numpy and matplotlib\n"
     ]
    },
    {
     "name": "stderr",
     "output_type": "stream",
     "text": [
      "/nfshome/ku373/.conda/envs/myenv3.7/lib/python3.7/site-packages/IPython/core/magics/pylab.py:160: UserWarning: pylab import has clobbered these variables: ['random', 'scatter', 'f', 'e']\n",
      "`%matplotlib` prevents importing * from pylab and numpy\n",
      "  \"\\n`%matplotlib` prevents importing * from pylab and numpy\"\n"
     ]
    }
   ],
   "source": [
    "import pylab as pl\n",
    "import pandas as pd\n",
    "import numpy as np\n",
    "import scipy.stats\n",
    "import random\n",
    "import datetime as dt\n",
    "%pylab inline\n",
    "import urllib\n",
    "import json\n",
    "import gspread\n",
    "from oauth2client.service_account import ServiceAccountCredentials \n",
    "import os\n",
    "import glob\n",
    "import statsmodels.api as sm\n",
    "import statsmodels.formula.api as smf\n",
    "from statsmodels.sandbox.regression.predstd import wls_prediction_std\n"
   ]
  },
  {
   "cell_type": "markdown",
   "metadata": {},
   "source": [
    "# For extra credit, I pick up the data from google doc with API."
   ]
  },
  {
   "cell_type": "code",
   "execution_count": 2,
   "metadata": {},
   "outputs": [
    {
     "data": {
      "text/plain": [
       "'/nfshome/ku373/PUIdata'"
      ]
     },
     "execution_count": 2,
     "metadata": {},
     "output_type": "execute_result"
    }
   ],
   "source": [
    "os.environ[\"PUIDATA\"] = \"%s/PUIdata\"%os.getenv(\"HOME\")\n",
    "os.chdir(os.getenv(\"PUIDATA\"))\n",
    "os.getcwd()"
   ]
  },
  {
   "cell_type": "code",
   "execution_count": 3,
   "metadata": {},
   "outputs": [],
   "source": [
    "scope = ['https://spreadsheets.google.com/feeds','https://www.googleapis.com/auth/drive']\n",
    "credentials = ServiceAccountCredentials.from_json_keyfile_name('My Project-998626e8cb7b.json', scope)"
   ]
  },
  {
   "cell_type": "code",
   "execution_count": 4,
   "metadata": {},
   "outputs": [],
   "source": [
    "gc = gspread.authorize(credentials)"
   ]
  },
  {
   "cell_type": "code",
   "execution_count": 5,
   "metadata": {},
   "outputs": [],
   "source": [
    "# I picked up the spreadsheet key from the linked google spreadsheet. \n",
    "#If you change the sheet location, it will be expired.\n",
    "\n",
    "SPREADSHEET_KEY = '1chqUZHuY6cXYrRYkuE0uwXisGaYvr7durZHJhpLGycs'\n",
    "worksheet = gc.open_by_key(SPREADSHEET_KEY).sheet1"
   ]
  },
  {
   "cell_type": "code",
   "execution_count": 6,
   "metadata": {},
   "outputs": [],
   "source": [
    "list_of_lists = worksheet.get_all_values()"
   ]
  },
  {
   "cell_type": "code",
   "execution_count": 7,
   "metadata": {},
   "outputs": [],
   "source": [
    "data = []\n",
    "for i in range(1,10):\n",
    "    values_list = worksheet.col_values(i)\n",
    "    data.append(values_list)\n"
   ]
  },
  {
   "cell_type": "code",
   "execution_count": 37,
   "metadata": {},
   "outputs": [],
   "source": [
    "df = pd.DataFrame(data).T\n",
    "df.columns = df.iloc[0]\n",
    "df.drop([0],inplace=True)\n",
    "df.rename(columns={'Country/Territory': 'Country'},inplace=True)\n"
   ]
  },
  {
   "cell_type": "code",
   "execution_count": 9,
   "metadata": {},
   "outputs": [
    {
     "data": {
      "text/plain": [
       "512"
      ]
     },
     "execution_count": 9,
     "metadata": {},
     "output_type": "execute_result"
    }
   ],
   "source": [
    "os.getcwd()\n",
    "os.system(\"wget \" + \"data:application/octet-stream;charset=utf-8,Country%2CGuns%20per%20100%20inhabitants%2CNumber%20of%20mass%20shootings%20(1983-2013)%0AAustralia%2C15%2C4%0AAustria%2C30.4%2C1%0ABelgium%2C17.2%2C2%0ACanada%2C30.8%2C4%0ADenmark%2C12%2C0%0AFinland%2C45.3%2C2%0AFrance%2C31.2%2C6%0AGermany%2C30.3%2C7%0AGreece%2C22.5%2C0%0AHolland%2C3.9%2C2%0AHungary%2C5.5%2C0%0AIceland%2C30.3%2C0%0AIreland%2C8.6%2C0%0AItaly%2C11.9%2C0%0AJapan%2C0.6%2C0%0ALuxembourg%2C15.3%2C0%0ANew%20Zealand%2C22.6%2C3%0ANorway%2C31.3%2C1%0APoland%2C1.3%2C0%0APortugal%2C8.5%2C1%0ASpain%2C10.4%2C1%0ASweden%2C31.6%2C2%0ASwitzerland%2C45.7%2C2%0AUnited%20Kingdom%2C6.2%2C3%0AUnited%20States%2C88.8%2C78 \")\n"
   ]
  },
  {
   "cell_type": "code",
   "execution_count": 10,
   "metadata": {},
   "outputs": [
    {
     "data": {
      "text/plain": [
       "('file1.csv', <email.message.Message at 0x7fe50a238c18>)"
      ]
     },
     "execution_count": 10,
     "metadata": {},
     "output_type": "execute_result"
    }
   ],
   "source": [
    "urllib.request.urlretrieve(\"data:application/octet-stream;charset=utf-8,Country%2CGuns%20per%20100%20inhabitants%2CNumber%20of%20mass%20shootings%20(1983-2013)%0AAustralia%2C15%2C4%0AAustria%2C30.4%2C1%0ABelgium%2C17.2%2C2%0ACanada%2C30.8%2C4%0ADenmark%2C12%2C0%0AFinland%2C45.3%2C2%0AFrance%2C31.2%2C6%0AGermany%2C30.3%2C7%0AGreece%2C22.5%2C0%0AHolland%2C3.9%2C2%0AHungary%2C5.5%2C0%0AIceland%2C30.3%2C0%0AIreland%2C8.6%2C0%0AItaly%2C11.9%2C0%0AJapan%2C0.6%2C0%0ALuxembourg%2C15.3%2C0%0ANew%20Zealand%2C22.6%2C3%0ANorway%2C31.3%2C1%0APoland%2C1.3%2C0%0APortugal%2C8.5%2C1%0ASpain%2C10.4%2C1%0ASweden%2C31.6%2C2%0ASwitzerland%2C45.7%2C2%0AUnited%20Kingdom%2C6.2%2C3%0AUnited%20States%2C88.8%2C78\", \"file1.csv\")\n"
   ]
  },
  {
   "cell_type": "code",
   "execution_count": 11,
   "metadata": {},
   "outputs": [
    {
     "data": {
      "text/html": [
       "<div>\n",
       "<style scoped>\n",
       "    .dataframe tbody tr th:only-of-type {\n",
       "        vertical-align: middle;\n",
       "    }\n",
       "\n",
       "    .dataframe tbody tr th {\n",
       "        vertical-align: top;\n",
       "    }\n",
       "\n",
       "    .dataframe thead th {\n",
       "        text-align: right;\n",
       "    }\n",
       "</style>\n",
       "<table border=\"1\" class=\"dataframe\">\n",
       "  <thead>\n",
       "    <tr style=\"text-align: right;\">\n",
       "      <th></th>\n",
       "      <th>Country</th>\n",
       "      <th>Guns per 100 inhabitants</th>\n",
       "      <th>Number of mass shootings</th>\n",
       "    </tr>\n",
       "  </thead>\n",
       "  <tbody>\n",
       "    <tr>\n",
       "      <th>0</th>\n",
       "      <td>Australia</td>\n",
       "      <td>15.0</td>\n",
       "      <td>4</td>\n",
       "    </tr>\n",
       "    <tr>\n",
       "      <th>1</th>\n",
       "      <td>Austria</td>\n",
       "      <td>30.4</td>\n",
       "      <td>1</td>\n",
       "    </tr>\n",
       "    <tr>\n",
       "      <th>2</th>\n",
       "      <td>Belgium</td>\n",
       "      <td>17.2</td>\n",
       "      <td>2</td>\n",
       "    </tr>\n",
       "    <tr>\n",
       "      <th>3</th>\n",
       "      <td>Canada</td>\n",
       "      <td>30.8</td>\n",
       "      <td>4</td>\n",
       "    </tr>\n",
       "    <tr>\n",
       "      <th>4</th>\n",
       "      <td>Denmark</td>\n",
       "      <td>12.0</td>\n",
       "      <td>0</td>\n",
       "    </tr>\n",
       "    <tr>\n",
       "      <th>5</th>\n",
       "      <td>Finland</td>\n",
       "      <td>45.3</td>\n",
       "      <td>2</td>\n",
       "    </tr>\n",
       "    <tr>\n",
       "      <th>6</th>\n",
       "      <td>France</td>\n",
       "      <td>31.2</td>\n",
       "      <td>6</td>\n",
       "    </tr>\n",
       "    <tr>\n",
       "      <th>7</th>\n",
       "      <td>Germany</td>\n",
       "      <td>30.3</td>\n",
       "      <td>7</td>\n",
       "    </tr>\n",
       "    <tr>\n",
       "      <th>8</th>\n",
       "      <td>Greece</td>\n",
       "      <td>22.5</td>\n",
       "      <td>0</td>\n",
       "    </tr>\n",
       "    <tr>\n",
       "      <th>9</th>\n",
       "      <td>Holland</td>\n",
       "      <td>3.9</td>\n",
       "      <td>2</td>\n",
       "    </tr>\n",
       "    <tr>\n",
       "      <th>10</th>\n",
       "      <td>Hungary</td>\n",
       "      <td>5.5</td>\n",
       "      <td>0</td>\n",
       "    </tr>\n",
       "    <tr>\n",
       "      <th>11</th>\n",
       "      <td>Iceland</td>\n",
       "      <td>30.3</td>\n",
       "      <td>0</td>\n",
       "    </tr>\n",
       "    <tr>\n",
       "      <th>12</th>\n",
       "      <td>Ireland</td>\n",
       "      <td>8.6</td>\n",
       "      <td>0</td>\n",
       "    </tr>\n",
       "    <tr>\n",
       "      <th>13</th>\n",
       "      <td>Italy</td>\n",
       "      <td>11.9</td>\n",
       "      <td>0</td>\n",
       "    </tr>\n",
       "    <tr>\n",
       "      <th>14</th>\n",
       "      <td>Japan</td>\n",
       "      <td>0.6</td>\n",
       "      <td>0</td>\n",
       "    </tr>\n",
       "    <tr>\n",
       "      <th>15</th>\n",
       "      <td>Luxembourg</td>\n",
       "      <td>15.3</td>\n",
       "      <td>0</td>\n",
       "    </tr>\n",
       "    <tr>\n",
       "      <th>16</th>\n",
       "      <td>New Zealand</td>\n",
       "      <td>22.6</td>\n",
       "      <td>3</td>\n",
       "    </tr>\n",
       "    <tr>\n",
       "      <th>17</th>\n",
       "      <td>Norway</td>\n",
       "      <td>31.3</td>\n",
       "      <td>1</td>\n",
       "    </tr>\n",
       "    <tr>\n",
       "      <th>18</th>\n",
       "      <td>Poland</td>\n",
       "      <td>1.3</td>\n",
       "      <td>0</td>\n",
       "    </tr>\n",
       "    <tr>\n",
       "      <th>19</th>\n",
       "      <td>Portugal</td>\n",
       "      <td>8.5</td>\n",
       "      <td>1</td>\n",
       "    </tr>\n",
       "    <tr>\n",
       "      <th>20</th>\n",
       "      <td>Spain</td>\n",
       "      <td>10.4</td>\n",
       "      <td>1</td>\n",
       "    </tr>\n",
       "    <tr>\n",
       "      <th>21</th>\n",
       "      <td>Sweden</td>\n",
       "      <td>31.6</td>\n",
       "      <td>2</td>\n",
       "    </tr>\n",
       "    <tr>\n",
       "      <th>22</th>\n",
       "      <td>Switzerland</td>\n",
       "      <td>45.7</td>\n",
       "      <td>2</td>\n",
       "    </tr>\n",
       "    <tr>\n",
       "      <th>23</th>\n",
       "      <td>United Kingdom</td>\n",
       "      <td>6.2</td>\n",
       "      <td>3</td>\n",
       "    </tr>\n",
       "    <tr>\n",
       "      <th>24</th>\n",
       "      <td>United States</td>\n",
       "      <td>88.8</td>\n",
       "      <td>78</td>\n",
       "    </tr>\n",
       "  </tbody>\n",
       "</table>\n",
       "</div>"
      ],
      "text/plain": [
       "           Country  Guns per 100 inhabitants  Number of mass shootings\n",
       "0        Australia                      15.0                         4\n",
       "1          Austria                      30.4                         1\n",
       "2          Belgium                      17.2                         2\n",
       "3           Canada                      30.8                         4\n",
       "4          Denmark                      12.0                         0\n",
       "5          Finland                      45.3                         2\n",
       "6           France                      31.2                         6\n",
       "7          Germany                      30.3                         7\n",
       "8           Greece                      22.5                         0\n",
       "9          Holland                       3.9                         2\n",
       "10         Hungary                       5.5                         0\n",
       "11         Iceland                      30.3                         0\n",
       "12         Ireland                       8.6                         0\n",
       "13           Italy                      11.9                         0\n",
       "14           Japan                       0.6                         0\n",
       "15      Luxembourg                      15.3                         0\n",
       "16     New Zealand                      22.6                         3\n",
       "17          Norway                      31.3                         1\n",
       "18          Poland                       1.3                         0\n",
       "19        Portugal                       8.5                         1\n",
       "20           Spain                      10.4                         1\n",
       "21          Sweden                      31.6                         2\n",
       "22     Switzerland                      45.7                         2\n",
       "23  United Kingdom                       6.2                         3\n",
       "24   United States                      88.8                        78"
      ]
     },
     "execution_count": 11,
     "metadata": {},
     "output_type": "execute_result"
    }
   ],
   "source": [
    "df1= pd.read_csv('file1.csv')\n",
    "df1.rename(columns={'Number of mass shootings (1983-2013)': 'Number of mass shootings'},inplace=True)\n",
    "\n",
    "df1"
   ]
  },
  {
   "cell_type": "code",
   "execution_count": 12,
   "metadata": {},
   "outputs": [
    {
     "data": {
      "text/plain": [
       "('worldbank.zip', <http.client.HTTPMessage at 0x7fe50a22fc88>)"
      ]
     },
     "execution_count": 12,
     "metadata": {},
     "output_type": "execute_result"
    }
   ],
   "source": [
    "url = \"http://api.worldbank.org/v2/en/indicator/SP.POP.TOTL?downloadformat=csv\" \n",
    "urllib.request.urlretrieve(url, \"worldbank.zip\")"
   ]
  },
  {
   "cell_type": "code",
   "execution_count": 13,
   "metadata": {},
   "outputs": [
    {
     "data": {
      "text/plain": [
       "256"
      ]
     },
     "execution_count": 13,
     "metadata": {},
     "output_type": "execute_result"
    }
   ],
   "source": [
    "os.system(\"unzip \" + os.getenv(\"PUIDATA\") + \"/\" + \"worldbank.zip\")"
   ]
  },
  {
   "cell_type": "code",
   "execution_count": 14,
   "metadata": {},
   "outputs": [],
   "source": [
    "a = glob.glob('API_SP*.csv')\n",
    "os.rename(a[0], 'worldbank.csv')\n"
   ]
  },
  {
   "cell_type": "code",
   "execution_count": 15,
   "metadata": {},
   "outputs": [
    {
     "name": "stderr",
     "output_type": "stream",
     "text": [
      "/nfshome/ku373/.conda/envs/myenv3.7/lib/python3.7/site-packages/pandas/core/frame.py:3781: SettingWithCopyWarning: \n",
      "A value is trying to be set on a copy of a slice from a DataFrame\n",
      "\n",
      "See the caveats in the documentation: http://pandas.pydata.org/pandas-docs/stable/indexing.html#indexing-view-versus-copy\n",
      "  return super(DataFrame, self).rename(**kwargs)\n"
     ]
    },
    {
     "data": {
      "text/html": [
       "<div>\n",
       "<style scoped>\n",
       "    .dataframe tbody tr th:only-of-type {\n",
       "        vertical-align: middle;\n",
       "    }\n",
       "\n",
       "    .dataframe tbody tr th {\n",
       "        vertical-align: top;\n",
       "    }\n",
       "\n",
       "    .dataframe thead th {\n",
       "        text-align: right;\n",
       "    }\n",
       "</style>\n",
       "<table border=\"1\" class=\"dataframe\">\n",
       "  <thead>\n",
       "    <tr style=\"text-align: right;\">\n",
       "      <th></th>\n",
       "      <th>Country</th>\n",
       "      <th>pop</th>\n",
       "    </tr>\n",
       "  </thead>\n",
       "  <tbody>\n",
       "    <tr>\n",
       "      <th>0</th>\n",
       "      <td>Aruba</td>\n",
       "      <td>103187.0</td>\n",
       "    </tr>\n",
       "    <tr>\n",
       "      <th>1</th>\n",
       "      <td>Afghanistan</td>\n",
       "      <td>31731688.0</td>\n",
       "    </tr>\n",
       "    <tr>\n",
       "      <th>2</th>\n",
       "      <td>Angola</td>\n",
       "      <td>25998340.0</td>\n",
       "    </tr>\n",
       "    <tr>\n",
       "      <th>3</th>\n",
       "      <td>Albania</td>\n",
       "      <td>2895092.0</td>\n",
       "    </tr>\n",
       "    <tr>\n",
       "      <th>4</th>\n",
       "      <td>Andorra</td>\n",
       "      <td>80788.0</td>\n",
       "    </tr>\n",
       "  </tbody>\n",
       "</table>\n",
       "</div>"
      ],
      "text/plain": [
       "       Country         pop\n",
       "0        Aruba    103187.0\n",
       "1  Afghanistan  31731688.0\n",
       "2       Angola  25998340.0\n",
       "3      Albania   2895092.0\n",
       "4      Andorra     80788.0"
      ]
     },
     "execution_count": 15,
     "metadata": {},
     "output_type": "execute_result"
    }
   ],
   "source": [
    "worldbank = pd.read_csv('worldbank.csv',skiprows=1,header=1)#, header=None\n",
    "df2 = worldbank[['Country Name','2013']]\n",
    "df2.rename(columns={'Country Name': 'Country','2013': 'pop'},inplace=True)\n",
    "\n",
    "df2.head()"
   ]
  },
  {
   "cell_type": "code",
   "execution_count": 16,
   "metadata": {},
   "outputs": [
    {
     "data": {
      "text/plain": [
       "('worldbankGDP.zip', <http.client.HTTPMessage at 0x7fe50a1e2588>)"
      ]
     },
     "execution_count": 16,
     "metadata": {},
     "output_type": "execute_result"
    }
   ],
   "source": [
    "url = \"http://api.worldbank.org/v2/en/indicator/NY.GDP.MKTP.CD?downloadformat=csv\" \n",
    "urllib.request.urlretrieve(url, \"worldbankGDP.zip\")"
   ]
  },
  {
   "cell_type": "code",
   "execution_count": 17,
   "metadata": {},
   "outputs": [
    {
     "data": {
      "text/plain": [
       "256"
      ]
     },
     "execution_count": 17,
     "metadata": {},
     "output_type": "execute_result"
    }
   ],
   "source": [
    "os.system(\"unzip \" + os.getenv(\"PUIDATA\") + \"/\" + \"worldbankGDP.zip\")"
   ]
  },
  {
   "cell_type": "code",
   "execution_count": 18,
   "metadata": {},
   "outputs": [],
   "source": [
    "b = glob.glob('API_NY*.csv')\n",
    "os.rename(b[0], 'worldbankGDP.csv')\n"
   ]
  },
  {
   "cell_type": "code",
   "execution_count": 19,
   "metadata": {},
   "outputs": [
    {
     "data": {
      "text/html": [
       "<div>\n",
       "<style scoped>\n",
       "    .dataframe tbody tr th:only-of-type {\n",
       "        vertical-align: middle;\n",
       "    }\n",
       "\n",
       "    .dataframe tbody tr th {\n",
       "        vertical-align: top;\n",
       "    }\n",
       "\n",
       "    .dataframe thead th {\n",
       "        text-align: right;\n",
       "    }\n",
       "</style>\n",
       "<table border=\"1\" class=\"dataframe\">\n",
       "  <thead>\n",
       "    <tr style=\"text-align: right;\">\n",
       "      <th></th>\n",
       "      <th>Country</th>\n",
       "      <th>GDP</th>\n",
       "    </tr>\n",
       "  </thead>\n",
       "  <tbody>\n",
       "    <tr>\n",
       "      <th>0</th>\n",
       "      <td>Aruba</td>\n",
       "      <td>NaN</td>\n",
       "    </tr>\n",
       "    <tr>\n",
       "      <th>1</th>\n",
       "      <td>Afghanistan</td>\n",
       "      <td>2.026425e+10</td>\n",
       "    </tr>\n",
       "    <tr>\n",
       "      <th>2</th>\n",
       "      <td>Angola</td>\n",
       "      <td>1.249125e+11</td>\n",
       "    </tr>\n",
       "    <tr>\n",
       "      <th>3</th>\n",
       "      <td>Albania</td>\n",
       "      <td>1.277628e+10</td>\n",
       "    </tr>\n",
       "    <tr>\n",
       "      <th>4</th>\n",
       "      <td>Andorra</td>\n",
       "      <td>3.281585e+09</td>\n",
       "    </tr>\n",
       "  </tbody>\n",
       "</table>\n",
       "</div>"
      ],
      "text/plain": [
       "       Country           GDP\n",
       "0        Aruba           NaN\n",
       "1  Afghanistan  2.026425e+10\n",
       "2       Angola  1.249125e+11\n",
       "3      Albania  1.277628e+10\n",
       "4      Andorra  3.281585e+09"
      ]
     },
     "execution_count": 19,
     "metadata": {},
     "output_type": "execute_result"
    }
   ],
   "source": [
    "worldbankGDP =pd.read_csv('worldbankGDP.csv',skiprows=1,header=1)\n",
    "df5 = worldbankGDP[['Country Name','2013']]\n",
    "df5.rename(columns={'Country Name': 'Country','2013': 'GDP'},inplace=True)\n",
    "\n",
    "df5.head()"
   ]
  },
  {
   "cell_type": "code",
   "execution_count": 20,
   "metadata": {},
   "outputs": [],
   "source": [
    "df3 = pd.merge(df, df1, on='Country')\n"
   ]
  },
  {
   "cell_type": "code",
   "execution_count": 21,
   "metadata": {},
   "outputs": [
    {
     "data": {
      "text/html": [
       "<div>\n",
       "<style scoped>\n",
       "    .dataframe tbody tr th:only-of-type {\n",
       "        vertical-align: middle;\n",
       "    }\n",
       "\n",
       "    .dataframe tbody tr th {\n",
       "        vertical-align: top;\n",
       "    }\n",
       "\n",
       "    .dataframe thead th {\n",
       "        text-align: right;\n",
       "    }\n",
       "</style>\n",
       "<table border=\"1\" class=\"dataframe\">\n",
       "  <thead>\n",
       "    <tr style=\"text-align: right;\">\n",
       "      <th></th>\n",
       "      <th>Country</th>\n",
       "      <th>ISO code</th>\n",
       "      <th>Source</th>\n",
       "      <th>% of homicides by firearm</th>\n",
       "      <th>Number of homicides by firearm</th>\n",
       "      <th>Homicide by firearm rate per 100,000 pop</th>\n",
       "      <th>Rank by rate of ownership</th>\n",
       "      <th>Average firearms per 100 people</th>\n",
       "      <th>Average total all civilian firearms</th>\n",
       "      <th>Guns per 100 inhabitants</th>\n",
       "      <th>Number of mass shootings</th>\n",
       "      <th>pop</th>\n",
       "    </tr>\n",
       "  </thead>\n",
       "  <tbody>\n",
       "    <tr>\n",
       "      <th>0</th>\n",
       "      <td>Australia</td>\n",
       "      <td>AU</td>\n",
       "      <td>NSO</td>\n",
       "      <td>11.5</td>\n",
       "      <td>30</td>\n",
       "      <td>0.14</td>\n",
       "      <td>42</td>\n",
       "      <td>15</td>\n",
       "      <td>3050000</td>\n",
       "      <td>15.0</td>\n",
       "      <td>4</td>\n",
       "      <td>23145901.0</td>\n",
       "    </tr>\n",
       "    <tr>\n",
       "      <th>1</th>\n",
       "      <td>Austria</td>\n",
       "      <td>AT</td>\n",
       "      <td>CTS</td>\n",
       "      <td>29.5</td>\n",
       "      <td>18</td>\n",
       "      <td>0.22</td>\n",
       "      <td>14</td>\n",
       "      <td>30.4</td>\n",
       "      <td>2500000</td>\n",
       "      <td>30.4</td>\n",
       "      <td>1</td>\n",
       "      <td>8479823.0</td>\n",
       "    </tr>\n",
       "    <tr>\n",
       "      <th>2</th>\n",
       "      <td>Belgium</td>\n",
       "      <td>BE</td>\n",
       "      <td>WHO-MDB</td>\n",
       "      <td>39.5</td>\n",
       "      <td>70</td>\n",
       "      <td>0.68</td>\n",
       "      <td>34</td>\n",
       "      <td>17.2</td>\n",
       "      <td>1800000</td>\n",
       "      <td>17.2</td>\n",
       "      <td>2</td>\n",
       "      <td>11182817.0</td>\n",
       "    </tr>\n",
       "    <tr>\n",
       "      <th>3</th>\n",
       "      <td>Canada</td>\n",
       "      <td>CA</td>\n",
       "      <td>CTS</td>\n",
       "      <td>32</td>\n",
       "      <td>173</td>\n",
       "      <td>0.51</td>\n",
       "      <td>13</td>\n",
       "      <td>30.8</td>\n",
       "      <td>9950000</td>\n",
       "      <td>30.8</td>\n",
       "      <td>4</td>\n",
       "      <td>35152370.0</td>\n",
       "    </tr>\n",
       "    <tr>\n",
       "      <th>4</th>\n",
       "      <td>Denmark</td>\n",
       "      <td>DK</td>\n",
       "      <td>CTS</td>\n",
       "      <td>31.9</td>\n",
       "      <td>15</td>\n",
       "      <td>0.27</td>\n",
       "      <td>54</td>\n",
       "      <td>12</td>\n",
       "      <td>650000</td>\n",
       "      <td>12.0</td>\n",
       "      <td>0</td>\n",
       "      <td>5614932.0</td>\n",
       "    </tr>\n",
       "    <tr>\n",
       "      <th>5</th>\n",
       "      <td>Finland</td>\n",
       "      <td>FI</td>\n",
       "      <td>CTS</td>\n",
       "      <td>19.8</td>\n",
       "      <td>24</td>\n",
       "      <td>0.45</td>\n",
       "      <td>4</td>\n",
       "      <td>45.3</td>\n",
       "      <td>2400000</td>\n",
       "      <td>45.3</td>\n",
       "      <td>2</td>\n",
       "      <td>5438972.0</td>\n",
       "    </tr>\n",
       "    <tr>\n",
       "      <th>6</th>\n",
       "      <td>France</td>\n",
       "      <td>FR</td>\n",
       "      <td>WHO-MDB</td>\n",
       "      <td>9.6</td>\n",
       "      <td>35</td>\n",
       "      <td>0.06</td>\n",
       "      <td>12</td>\n",
       "      <td>31.2</td>\n",
       "      <td>19000000</td>\n",
       "      <td>31.2</td>\n",
       "      <td>6</td>\n",
       "      <td>65998660.0</td>\n",
       "    </tr>\n",
       "    <tr>\n",
       "      <th>7</th>\n",
       "      <td>Germany</td>\n",
       "      <td>DE</td>\n",
       "      <td>CTS/National police</td>\n",
       "      <td>26.3</td>\n",
       "      <td>158</td>\n",
       "      <td>0.19</td>\n",
       "      <td>15</td>\n",
       "      <td>30.3</td>\n",
       "      <td>25000000</td>\n",
       "      <td>30.3</td>\n",
       "      <td>7</td>\n",
       "      <td>80645605.0</td>\n",
       "    </tr>\n",
       "    <tr>\n",
       "      <th>8</th>\n",
       "      <td>Greece</td>\n",
       "      <td>GR</td>\n",
       "      <td>WHO-MDB</td>\n",
       "      <td>34.9</td>\n",
       "      <td>29</td>\n",
       "      <td>0.26</td>\n",
       "      <td>23</td>\n",
       "      <td>22.5</td>\n",
       "      <td>2500000</td>\n",
       "      <td>22.5</td>\n",
       "      <td>0</td>\n",
       "      <td>10965211.0</td>\n",
       "    </tr>\n",
       "    <tr>\n",
       "      <th>9</th>\n",
       "      <td>Hungary</td>\n",
       "      <td>HU</td>\n",
       "      <td>CTS</td>\n",
       "      <td>5</td>\n",
       "      <td>7</td>\n",
       "      <td>0.07</td>\n",
       "      <td>93</td>\n",
       "      <td>5.5</td>\n",
       "      <td>560000</td>\n",
       "      <td>5.5</td>\n",
       "      <td>0</td>\n",
       "      <td>9893082.0</td>\n",
       "    </tr>\n",
       "    <tr>\n",
       "      <th>10</th>\n",
       "      <td>Iceland</td>\n",
       "      <td>IS</td>\n",
       "      <td>CTS</td>\n",
       "      <td>0</td>\n",
       "      <td>0</td>\n",
       "      <td>0</td>\n",
       "      <td>15</td>\n",
       "      <td>30.3</td>\n",
       "      <td>90000</td>\n",
       "      <td>30.3</td>\n",
       "      <td>0</td>\n",
       "      <td>323764.0</td>\n",
       "    </tr>\n",
       "    <tr>\n",
       "      <th>11</th>\n",
       "      <td>Ireland</td>\n",
       "      <td>IE</td>\n",
       "      <td>CTS</td>\n",
       "      <td>42</td>\n",
       "      <td>21</td>\n",
       "      <td>0.48</td>\n",
       "      <td>70</td>\n",
       "      <td>8.6</td>\n",
       "      <td>360000</td>\n",
       "      <td>8.6</td>\n",
       "      <td>0</td>\n",
       "      <td>4623816.0</td>\n",
       "    </tr>\n",
       "    <tr>\n",
       "      <th>12</th>\n",
       "      <td>Italy</td>\n",
       "      <td>IT</td>\n",
       "      <td>NSO</td>\n",
       "      <td>66.7</td>\n",
       "      <td>417</td>\n",
       "      <td>0.71</td>\n",
       "      <td>55</td>\n",
       "      <td>11.9</td>\n",
       "      <td>7000000</td>\n",
       "      <td>11.9</td>\n",
       "      <td>0</td>\n",
       "      <td>60233948.0</td>\n",
       "    </tr>\n",
       "    <tr>\n",
       "      <th>13</th>\n",
       "      <td>Japan</td>\n",
       "      <td>JP</td>\n",
       "      <td>WHO-MDB</td>\n",
       "      <td>1.8</td>\n",
       "      <td>11</td>\n",
       "      <td>0.01</td>\n",
       "      <td>164</td>\n",
       "      <td>0.6</td>\n",
       "      <td>710000</td>\n",
       "      <td>0.6</td>\n",
       "      <td>0</td>\n",
       "      <td>127445000.0</td>\n",
       "    </tr>\n",
       "    <tr>\n",
       "      <th>14</th>\n",
       "      <td>Luxembourg</td>\n",
       "      <td>LU</td>\n",
       "      <td>CTS</td>\n",
       "      <td>42.9</td>\n",
       "      <td>3</td>\n",
       "      <td>0.62</td>\n",
       "      <td>41</td>\n",
       "      <td>15.3</td>\n",
       "      <td>70000</td>\n",
       "      <td>15.3</td>\n",
       "      <td>0</td>\n",
       "      <td>543360.0</td>\n",
       "    </tr>\n",
       "    <tr>\n",
       "      <th>15</th>\n",
       "      <td>New Zealand</td>\n",
       "      <td>NZ</td>\n",
       "      <td>CTS</td>\n",
       "      <td>13.5</td>\n",
       "      <td>7</td>\n",
       "      <td>0.16</td>\n",
       "      <td>22</td>\n",
       "      <td>22.6</td>\n",
       "      <td>925000</td>\n",
       "      <td>22.6</td>\n",
       "      <td>3</td>\n",
       "      <td>4442100.0</td>\n",
       "    </tr>\n",
       "    <tr>\n",
       "      <th>16</th>\n",
       "      <td>Norway</td>\n",
       "      <td>NO</td>\n",
       "      <td>WHO-HFA</td>\n",
       "      <td>8.1</td>\n",
       "      <td>2</td>\n",
       "      <td>0.05</td>\n",
       "      <td>11</td>\n",
       "      <td>31.3</td>\n",
       "      <td>1400000</td>\n",
       "      <td>31.3</td>\n",
       "      <td>1</td>\n",
       "      <td>5079623.0</td>\n",
       "    </tr>\n",
       "    <tr>\n",
       "      <th>17</th>\n",
       "      <td>Poland</td>\n",
       "      <td>PL</td>\n",
       "      <td>CTS</td>\n",
       "      <td>7.1</td>\n",
       "      <td>35</td>\n",
       "      <td>0.09</td>\n",
       "      <td>142</td>\n",
       "      <td>1.3</td>\n",
       "      <td>510000</td>\n",
       "      <td>1.3</td>\n",
       "      <td>0</td>\n",
       "      <td>38040196.0</td>\n",
       "    </tr>\n",
       "    <tr>\n",
       "      <th>18</th>\n",
       "      <td>Portugal</td>\n",
       "      <td>PT</td>\n",
       "      <td>CTS</td>\n",
       "      <td>33.8</td>\n",
       "      <td>44</td>\n",
       "      <td>0.41</td>\n",
       "      <td>72</td>\n",
       "      <td>8.5</td>\n",
       "      <td>900000</td>\n",
       "      <td>8.5</td>\n",
       "      <td>1</td>\n",
       "      <td>10457295.0</td>\n",
       "    </tr>\n",
       "    <tr>\n",
       "      <th>19</th>\n",
       "      <td>Spain</td>\n",
       "      <td>ES</td>\n",
       "      <td>CTS</td>\n",
       "      <td>21.8</td>\n",
       "      <td>90</td>\n",
       "      <td>0.2</td>\n",
       "      <td>61</td>\n",
       "      <td>10.4</td>\n",
       "      <td>4500000</td>\n",
       "      <td>10.4</td>\n",
       "      <td>1</td>\n",
       "      <td>46620045.0</td>\n",
       "    </tr>\n",
       "    <tr>\n",
       "      <th>20</th>\n",
       "      <td>Sweden</td>\n",
       "      <td>SE</td>\n",
       "      <td>CTS</td>\n",
       "      <td>33.9</td>\n",
       "      <td>37</td>\n",
       "      <td>0.41</td>\n",
       "      <td>10</td>\n",
       "      <td>31.6</td>\n",
       "      <td>2800000</td>\n",
       "      <td>31.6</td>\n",
       "      <td>2</td>\n",
       "      <td>9600379.0</td>\n",
       "    </tr>\n",
       "    <tr>\n",
       "      <th>21</th>\n",
       "      <td>Switzerland</td>\n",
       "      <td>CH</td>\n",
       "      <td>CTS</td>\n",
       "      <td>72.2</td>\n",
       "      <td>57</td>\n",
       "      <td>0.77</td>\n",
       "      <td>3</td>\n",
       "      <td>45.7</td>\n",
       "      <td>3400000</td>\n",
       "      <td>45.7</td>\n",
       "      <td>2</td>\n",
       "      <td>8089346.0</td>\n",
       "    </tr>\n",
       "    <tr>\n",
       "      <th>22</th>\n",
       "      <td>United States</td>\n",
       "      <td>US</td>\n",
       "      <td>CTS</td>\n",
       "      <td>60</td>\n",
       "      <td>9146</td>\n",
       "      <td>2.97</td>\n",
       "      <td>1</td>\n",
       "      <td>88.8</td>\n",
       "      <td>270000000</td>\n",
       "      <td>88.8</td>\n",
       "      <td>78</td>\n",
       "      <td>316234505.0</td>\n",
       "    </tr>\n",
       "  </tbody>\n",
       "</table>\n",
       "</div>"
      ],
      "text/plain": [
       "          Country ISO code               Source % of homicides by firearm  \\\n",
       "0       Australia       AU                  NSO                      11.5   \n",
       "1         Austria       AT                  CTS                      29.5   \n",
       "2         Belgium       BE              WHO-MDB                      39.5   \n",
       "3          Canada       CA                  CTS                        32   \n",
       "4         Denmark       DK                  CTS                      31.9   \n",
       "5         Finland       FI                  CTS                      19.8   \n",
       "6          France       FR              WHO-MDB                       9.6   \n",
       "7         Germany       DE  CTS/National police                      26.3   \n",
       "8          Greece       GR              WHO-MDB                      34.9   \n",
       "9         Hungary       HU                  CTS                         5   \n",
       "10        Iceland       IS                  CTS                         0   \n",
       "11        Ireland       IE                  CTS                        42   \n",
       "12          Italy       IT                  NSO                      66.7   \n",
       "13          Japan       JP              WHO-MDB                       1.8   \n",
       "14     Luxembourg       LU                  CTS                      42.9   \n",
       "15    New Zealand       NZ                  CTS                      13.5   \n",
       "16         Norway       NO              WHO-HFA                       8.1   \n",
       "17         Poland       PL                  CTS                       7.1   \n",
       "18       Portugal       PT                  CTS                      33.8   \n",
       "19          Spain       ES                  CTS                      21.8   \n",
       "20         Sweden       SE                  CTS                      33.9   \n",
       "21    Switzerland       CH                  CTS                      72.2   \n",
       "22  United States       US                  CTS                        60   \n",
       "\n",
       "   Number of homicides by firearm Homicide by firearm rate per 100,000 pop  \\\n",
       "0                              30                                     0.14   \n",
       "1                              18                                     0.22   \n",
       "2                              70                                     0.68   \n",
       "3                             173                                     0.51   \n",
       "4                              15                                     0.27   \n",
       "5                              24                                     0.45   \n",
       "6                              35                                     0.06   \n",
       "7                             158                                     0.19   \n",
       "8                              29                                     0.26   \n",
       "9                               7                                     0.07   \n",
       "10                              0                                        0   \n",
       "11                             21                                     0.48   \n",
       "12                            417                                     0.71   \n",
       "13                             11                                     0.01   \n",
       "14                              3                                     0.62   \n",
       "15                              7                                     0.16   \n",
       "16                              2                                     0.05   \n",
       "17                             35                                     0.09   \n",
       "18                             44                                     0.41   \n",
       "19                             90                                      0.2   \n",
       "20                             37                                     0.41   \n",
       "21                             57                                     0.77   \n",
       "22                           9146                                     2.97   \n",
       "\n",
       "   Rank by rate of ownership Average firearms per 100 people  \\\n",
       "0                         42                              15   \n",
       "1                         14                            30.4   \n",
       "2                         34                            17.2   \n",
       "3                         13                            30.8   \n",
       "4                         54                              12   \n",
       "5                          4                            45.3   \n",
       "6                         12                            31.2   \n",
       "7                         15                            30.3   \n",
       "8                         23                            22.5   \n",
       "9                         93                             5.5   \n",
       "10                        15                            30.3   \n",
       "11                        70                             8.6   \n",
       "12                        55                            11.9   \n",
       "13                       164                             0.6   \n",
       "14                        41                            15.3   \n",
       "15                        22                            22.6   \n",
       "16                        11                            31.3   \n",
       "17                       142                             1.3   \n",
       "18                        72                             8.5   \n",
       "19                        61                            10.4   \n",
       "20                        10                            31.6   \n",
       "21                         3                            45.7   \n",
       "22                         1                            88.8   \n",
       "\n",
       "   Average total all civilian firearms  Guns per 100 inhabitants  \\\n",
       "0                              3050000                      15.0   \n",
       "1                              2500000                      30.4   \n",
       "2                              1800000                      17.2   \n",
       "3                              9950000                      30.8   \n",
       "4                               650000                      12.0   \n",
       "5                              2400000                      45.3   \n",
       "6                             19000000                      31.2   \n",
       "7                             25000000                      30.3   \n",
       "8                              2500000                      22.5   \n",
       "9                               560000                       5.5   \n",
       "10                               90000                      30.3   \n",
       "11                              360000                       8.6   \n",
       "12                             7000000                      11.9   \n",
       "13                              710000                       0.6   \n",
       "14                               70000                      15.3   \n",
       "15                              925000                      22.6   \n",
       "16                             1400000                      31.3   \n",
       "17                              510000                       1.3   \n",
       "18                              900000                       8.5   \n",
       "19                             4500000                      10.4   \n",
       "20                             2800000                      31.6   \n",
       "21                             3400000                      45.7   \n",
       "22                           270000000                      88.8   \n",
       "\n",
       "    Number of mass shootings          pop  \n",
       "0                          4   23145901.0  \n",
       "1                          1    8479823.0  \n",
       "2                          2   11182817.0  \n",
       "3                          4   35152370.0  \n",
       "4                          0    5614932.0  \n",
       "5                          2    5438972.0  \n",
       "6                          6   65998660.0  \n",
       "7                          7   80645605.0  \n",
       "8                          0   10965211.0  \n",
       "9                          0    9893082.0  \n",
       "10                         0     323764.0  \n",
       "11                         0    4623816.0  \n",
       "12                         0   60233948.0  \n",
       "13                         0  127445000.0  \n",
       "14                         0     543360.0  \n",
       "15                         3    4442100.0  \n",
       "16                         1    5079623.0  \n",
       "17                         0   38040196.0  \n",
       "18                         1   10457295.0  \n",
       "19                         1   46620045.0  \n",
       "20                         2    9600379.0  \n",
       "21                         2    8089346.0  \n",
       "22                        78  316234505.0  "
      ]
     },
     "execution_count": 21,
     "metadata": {},
     "output_type": "execute_result"
    }
   ],
   "source": [
    "df4 = pd.merge(df3, df2, on='Country')\n",
    "df4"
   ]
  },
  {
   "cell_type": "code",
   "execution_count": 22,
   "metadata": {},
   "outputs": [
    {
     "data": {
      "text/html": [
       "<div>\n",
       "<style scoped>\n",
       "    .dataframe tbody tr th:only-of-type {\n",
       "        vertical-align: middle;\n",
       "    }\n",
       "\n",
       "    .dataframe tbody tr th {\n",
       "        vertical-align: top;\n",
       "    }\n",
       "\n",
       "    .dataframe thead th {\n",
       "        text-align: right;\n",
       "    }\n",
       "</style>\n",
       "<table border=\"1\" class=\"dataframe\">\n",
       "  <thead>\n",
       "    <tr style=\"text-align: right;\">\n",
       "      <th></th>\n",
       "      <th>Country</th>\n",
       "      <th>ISO code</th>\n",
       "      <th>Source</th>\n",
       "      <th>% of homicides by firearm</th>\n",
       "      <th>Number of homicides by firearm</th>\n",
       "      <th>Homicide by firearm rate per 100,000 pop</th>\n",
       "      <th>Rank by rate of ownership</th>\n",
       "      <th>Average firearms per 100 people</th>\n",
       "      <th>Average total all civilian firearms</th>\n",
       "      <th>Guns per 100 inhabitants</th>\n",
       "      <th>Number of mass shootings</th>\n",
       "      <th>pop</th>\n",
       "      <th>GDP</th>\n",
       "    </tr>\n",
       "  </thead>\n",
       "  <tbody>\n",
       "    <tr>\n",
       "      <th>0</th>\n",
       "      <td>Australia</td>\n",
       "      <td>AU</td>\n",
       "      <td>NSO</td>\n",
       "      <td>11.5</td>\n",
       "      <td>30</td>\n",
       "      <td>0.14</td>\n",
       "      <td>42</td>\n",
       "      <td>15</td>\n",
       "      <td>3050000</td>\n",
       "      <td>15.0</td>\n",
       "      <td>4</td>\n",
       "      <td>23145901.0</td>\n",
       "      <td>1.573697e+12</td>\n",
       "    </tr>\n",
       "    <tr>\n",
       "      <th>1</th>\n",
       "      <td>Austria</td>\n",
       "      <td>AT</td>\n",
       "      <td>CTS</td>\n",
       "      <td>29.5</td>\n",
       "      <td>18</td>\n",
       "      <td>0.22</td>\n",
       "      <td>14</td>\n",
       "      <td>30.4</td>\n",
       "      <td>2500000</td>\n",
       "      <td>30.4</td>\n",
       "      <td>1</td>\n",
       "      <td>8479823.0</td>\n",
       "      <td>4.300687e+11</td>\n",
       "    </tr>\n",
       "    <tr>\n",
       "      <th>2</th>\n",
       "      <td>Belgium</td>\n",
       "      <td>BE</td>\n",
       "      <td>WHO-MDB</td>\n",
       "      <td>39.5</td>\n",
       "      <td>70</td>\n",
       "      <td>0.68</td>\n",
       "      <td>34</td>\n",
       "      <td>17.2</td>\n",
       "      <td>1800000</td>\n",
       "      <td>17.2</td>\n",
       "      <td>2</td>\n",
       "      <td>11182817.0</td>\n",
       "      <td>5.209255e+11</td>\n",
       "    </tr>\n",
       "    <tr>\n",
       "      <th>3</th>\n",
       "      <td>Canada</td>\n",
       "      <td>CA</td>\n",
       "      <td>CTS</td>\n",
       "      <td>32</td>\n",
       "      <td>173</td>\n",
       "      <td>0.51</td>\n",
       "      <td>13</td>\n",
       "      <td>30.8</td>\n",
       "      <td>9950000</td>\n",
       "      <td>30.8</td>\n",
       "      <td>4</td>\n",
       "      <td>35152370.0</td>\n",
       "      <td>1.842628e+12</td>\n",
       "    </tr>\n",
       "    <tr>\n",
       "      <th>4</th>\n",
       "      <td>Denmark</td>\n",
       "      <td>DK</td>\n",
       "      <td>CTS</td>\n",
       "      <td>31.9</td>\n",
       "      <td>15</td>\n",
       "      <td>0.27</td>\n",
       "      <td>54</td>\n",
       "      <td>12</td>\n",
       "      <td>650000</td>\n",
       "      <td>12.0</td>\n",
       "      <td>0</td>\n",
       "      <td>5614932.0</td>\n",
       "      <td>3.435844e+11</td>\n",
       "    </tr>\n",
       "  </tbody>\n",
       "</table>\n",
       "</div>"
      ],
      "text/plain": [
       "     Country ISO code   Source % of homicides by firearm  \\\n",
       "0  Australia       AU      NSO                      11.5   \n",
       "1    Austria       AT      CTS                      29.5   \n",
       "2    Belgium       BE  WHO-MDB                      39.5   \n",
       "3     Canada       CA      CTS                        32   \n",
       "4    Denmark       DK      CTS                      31.9   \n",
       "\n",
       "  Number of homicides by firearm Homicide by firearm rate per 100,000 pop  \\\n",
       "0                             30                                     0.14   \n",
       "1                             18                                     0.22   \n",
       "2                             70                                     0.68   \n",
       "3                            173                                     0.51   \n",
       "4                             15                                     0.27   \n",
       "\n",
       "  Rank by rate of ownership Average firearms per 100 people  \\\n",
       "0                        42                              15   \n",
       "1                        14                            30.4   \n",
       "2                        34                            17.2   \n",
       "3                        13                            30.8   \n",
       "4                        54                              12   \n",
       "\n",
       "  Average total all civilian firearms  Guns per 100 inhabitants  \\\n",
       "0                             3050000                      15.0   \n",
       "1                             2500000                      30.4   \n",
       "2                             1800000                      17.2   \n",
       "3                             9950000                      30.8   \n",
       "4                              650000                      12.0   \n",
       "\n",
       "   Number of mass shootings         pop           GDP  \n",
       "0                         4  23145901.0  1.573697e+12  \n",
       "1                         1   8479823.0  4.300687e+11  \n",
       "2                         2  11182817.0  5.209255e+11  \n",
       "3                         4  35152370.0  1.842628e+12  \n",
       "4                         0   5614932.0  3.435844e+11  "
      ]
     },
     "execution_count": 22,
     "metadata": {},
     "output_type": "execute_result"
    }
   ],
   "source": [
    "df6 = pd.merge(df4, df5, on='Country')\n",
    "df6.head()"
   ]
  },
  {
   "cell_type": "markdown",
   "metadata": {},
   "source": [
    "## df7 is the cleaned version."
   ]
  },
  {
   "cell_type": "code",
   "execution_count": 39,
   "metadata": {},
   "outputs": [
    {
     "data": {
      "text/html": [
       "<div>\n",
       "<style scoped>\n",
       "    .dataframe tbody tr th:only-of-type {\n",
       "        vertical-align: middle;\n",
       "    }\n",
       "\n",
       "    .dataframe tbody tr th {\n",
       "        vertical-align: top;\n",
       "    }\n",
       "\n",
       "    .dataframe thead th {\n",
       "        text-align: right;\n",
       "    }\n",
       "</style>\n",
       "<table border=\"1\" class=\"dataframe\">\n",
       "  <thead>\n",
       "    <tr style=\"text-align: right;\">\n",
       "      <th></th>\n",
       "      <th>Country</th>\n",
       "      <th>Number of homicides by firearm</th>\n",
       "      <th>Average total all civilian firearms</th>\n",
       "      <th>Guns per 100 inhabitants</th>\n",
       "      <th>Number of mass shootings</th>\n",
       "      <th>pop</th>\n",
       "      <th>GDP</th>\n",
       "    </tr>\n",
       "  </thead>\n",
       "  <tbody>\n",
       "    <tr>\n",
       "      <th>0</th>\n",
       "      <td>Australia</td>\n",
       "      <td>30</td>\n",
       "      <td>3050000</td>\n",
       "      <td>15.0</td>\n",
       "      <td>4</td>\n",
       "      <td>23145901.0</td>\n",
       "      <td>1.573697e+12</td>\n",
       "    </tr>\n",
       "    <tr>\n",
       "      <th>1</th>\n",
       "      <td>Austria</td>\n",
       "      <td>18</td>\n",
       "      <td>2500000</td>\n",
       "      <td>30.4</td>\n",
       "      <td>1</td>\n",
       "      <td>8479823.0</td>\n",
       "      <td>4.300687e+11</td>\n",
       "    </tr>\n",
       "    <tr>\n",
       "      <th>2</th>\n",
       "      <td>Belgium</td>\n",
       "      <td>70</td>\n",
       "      <td>1800000</td>\n",
       "      <td>17.2</td>\n",
       "      <td>2</td>\n",
       "      <td>11182817.0</td>\n",
       "      <td>5.209255e+11</td>\n",
       "    </tr>\n",
       "    <tr>\n",
       "      <th>3</th>\n",
       "      <td>Canada</td>\n",
       "      <td>173</td>\n",
       "      <td>9950000</td>\n",
       "      <td>30.8</td>\n",
       "      <td>4</td>\n",
       "      <td>35152370.0</td>\n",
       "      <td>1.842628e+12</td>\n",
       "    </tr>\n",
       "    <tr>\n",
       "      <th>4</th>\n",
       "      <td>Denmark</td>\n",
       "      <td>15</td>\n",
       "      <td>650000</td>\n",
       "      <td>12.0</td>\n",
       "      <td>0</td>\n",
       "      <td>5614932.0</td>\n",
       "      <td>3.435844e+11</td>\n",
       "    </tr>\n",
       "    <tr>\n",
       "      <th>5</th>\n",
       "      <td>Finland</td>\n",
       "      <td>24</td>\n",
       "      <td>2400000</td>\n",
       "      <td>45.3</td>\n",
       "      <td>2</td>\n",
       "      <td>5438972.0</td>\n",
       "      <td>2.699801e+11</td>\n",
       "    </tr>\n",
       "    <tr>\n",
       "      <th>6</th>\n",
       "      <td>France</td>\n",
       "      <td>35</td>\n",
       "      <td>19000000</td>\n",
       "      <td>31.2</td>\n",
       "      <td>6</td>\n",
       "      <td>65998660.0</td>\n",
       "      <td>2.811078e+12</td>\n",
       "    </tr>\n",
       "    <tr>\n",
       "      <th>7</th>\n",
       "      <td>Germany</td>\n",
       "      <td>158</td>\n",
       "      <td>25000000</td>\n",
       "      <td>30.3</td>\n",
       "      <td>7</td>\n",
       "      <td>80645605.0</td>\n",
       "      <td>3.752514e+12</td>\n",
       "    </tr>\n",
       "    <tr>\n",
       "      <th>8</th>\n",
       "      <td>Greece</td>\n",
       "      <td>29</td>\n",
       "      <td>2500000</td>\n",
       "      <td>22.5</td>\n",
       "      <td>0</td>\n",
       "      <td>10965211.0</td>\n",
       "      <td>2.398620e+11</td>\n",
       "    </tr>\n",
       "    <tr>\n",
       "      <th>9</th>\n",
       "      <td>Hungary</td>\n",
       "      <td>7</td>\n",
       "      <td>560000</td>\n",
       "      <td>5.5</td>\n",
       "      <td>0</td>\n",
       "      <td>9893082.0</td>\n",
       "      <td>1.352157e+11</td>\n",
       "    </tr>\n",
       "    <tr>\n",
       "      <th>10</th>\n",
       "      <td>Iceland</td>\n",
       "      <td>0</td>\n",
       "      <td>90000</td>\n",
       "      <td>30.3</td>\n",
       "      <td>0</td>\n",
       "      <td>323764.0</td>\n",
       "      <td>1.554832e+10</td>\n",
       "    </tr>\n",
       "    <tr>\n",
       "      <th>11</th>\n",
       "      <td>Ireland</td>\n",
       "      <td>21</td>\n",
       "      <td>360000</td>\n",
       "      <td>8.6</td>\n",
       "      <td>0</td>\n",
       "      <td>4623816.0</td>\n",
       "      <td>2.393893e+11</td>\n",
       "    </tr>\n",
       "    <tr>\n",
       "      <th>12</th>\n",
       "      <td>Italy</td>\n",
       "      <td>417</td>\n",
       "      <td>7000000</td>\n",
       "      <td>11.9</td>\n",
       "      <td>0</td>\n",
       "      <td>60233948.0</td>\n",
       "      <td>2.130491e+12</td>\n",
       "    </tr>\n",
       "    <tr>\n",
       "      <th>13</th>\n",
       "      <td>Japan</td>\n",
       "      <td>11</td>\n",
       "      <td>710000</td>\n",
       "      <td>0.6</td>\n",
       "      <td>0</td>\n",
       "      <td>127445000.0</td>\n",
       "      <td>5.155717e+12</td>\n",
       "    </tr>\n",
       "    <tr>\n",
       "      <th>14</th>\n",
       "      <td>Luxembourg</td>\n",
       "      <td>3</td>\n",
       "      <td>70000</td>\n",
       "      <td>15.3</td>\n",
       "      <td>0</td>\n",
       "      <td>543360.0</td>\n",
       "      <td>6.173935e+10</td>\n",
       "    </tr>\n",
       "    <tr>\n",
       "      <th>15</th>\n",
       "      <td>New Zealand</td>\n",
       "      <td>7</td>\n",
       "      <td>925000</td>\n",
       "      <td>22.6</td>\n",
       "      <td>3</td>\n",
       "      <td>4442100.0</td>\n",
       "      <td>1.907852e+11</td>\n",
       "    </tr>\n",
       "    <tr>\n",
       "      <th>16</th>\n",
       "      <td>Norway</td>\n",
       "      <td>2</td>\n",
       "      <td>1400000</td>\n",
       "      <td>31.3</td>\n",
       "      <td>1</td>\n",
       "      <td>5079623.0</td>\n",
       "      <td>5.235021e+11</td>\n",
       "    </tr>\n",
       "    <tr>\n",
       "      <th>17</th>\n",
       "      <td>Poland</td>\n",
       "      <td>35</td>\n",
       "      <td>510000</td>\n",
       "      <td>1.3</td>\n",
       "      <td>0</td>\n",
       "      <td>38040196.0</td>\n",
       "      <td>5.242343e+11</td>\n",
       "    </tr>\n",
       "    <tr>\n",
       "      <th>18</th>\n",
       "      <td>Portugal</td>\n",
       "      <td>44</td>\n",
       "      <td>900000</td>\n",
       "      <td>8.5</td>\n",
       "      <td>1</td>\n",
       "      <td>10457295.0</td>\n",
       "      <td>2.260735e+11</td>\n",
       "    </tr>\n",
       "    <tr>\n",
       "      <th>19</th>\n",
       "      <td>Spain</td>\n",
       "      <td>90</td>\n",
       "      <td>4500000</td>\n",
       "      <td>10.4</td>\n",
       "      <td>1</td>\n",
       "      <td>46620045.0</td>\n",
       "      <td>1.361854e+12</td>\n",
       "    </tr>\n",
       "    <tr>\n",
       "      <th>20</th>\n",
       "      <td>Sweden</td>\n",
       "      <td>37</td>\n",
       "      <td>2800000</td>\n",
       "      <td>31.6</td>\n",
       "      <td>2</td>\n",
       "      <td>9600379.0</td>\n",
       "      <td>5.787420e+11</td>\n",
       "    </tr>\n",
       "    <tr>\n",
       "      <th>21</th>\n",
       "      <td>Switzerland</td>\n",
       "      <td>57</td>\n",
       "      <td>3400000</td>\n",
       "      <td>45.7</td>\n",
       "      <td>2</td>\n",
       "      <td>8089346.0</td>\n",
       "      <td>6.885042e+11</td>\n",
       "    </tr>\n",
       "    <tr>\n",
       "      <th>22</th>\n",
       "      <td>United States</td>\n",
       "      <td>9146</td>\n",
       "      <td>270000000</td>\n",
       "      <td>88.8</td>\n",
       "      <td>78</td>\n",
       "      <td>316234505.0</td>\n",
       "      <td>1.669152e+13</td>\n",
       "    </tr>\n",
       "  </tbody>\n",
       "</table>\n",
       "</div>"
      ],
      "text/plain": [
       "          Country Number of homicides by firearm  \\\n",
       "0       Australia                             30   \n",
       "1         Austria                             18   \n",
       "2         Belgium                             70   \n",
       "3          Canada                            173   \n",
       "4         Denmark                             15   \n",
       "5         Finland                             24   \n",
       "6          France                             35   \n",
       "7         Germany                            158   \n",
       "8          Greece                             29   \n",
       "9         Hungary                              7   \n",
       "10        Iceland                              0   \n",
       "11        Ireland                             21   \n",
       "12          Italy                            417   \n",
       "13          Japan                             11   \n",
       "14     Luxembourg                              3   \n",
       "15    New Zealand                              7   \n",
       "16         Norway                              2   \n",
       "17         Poland                             35   \n",
       "18       Portugal                             44   \n",
       "19          Spain                             90   \n",
       "20         Sweden                             37   \n",
       "21    Switzerland                             57   \n",
       "22  United States                           9146   \n",
       "\n",
       "   Average total all civilian firearms  Guns per 100 inhabitants  \\\n",
       "0                              3050000                      15.0   \n",
       "1                              2500000                      30.4   \n",
       "2                              1800000                      17.2   \n",
       "3                              9950000                      30.8   \n",
       "4                               650000                      12.0   \n",
       "5                              2400000                      45.3   \n",
       "6                             19000000                      31.2   \n",
       "7                             25000000                      30.3   \n",
       "8                              2500000                      22.5   \n",
       "9                               560000                       5.5   \n",
       "10                               90000                      30.3   \n",
       "11                              360000                       8.6   \n",
       "12                             7000000                      11.9   \n",
       "13                              710000                       0.6   \n",
       "14                               70000                      15.3   \n",
       "15                              925000                      22.6   \n",
       "16                             1400000                      31.3   \n",
       "17                              510000                       1.3   \n",
       "18                              900000                       8.5   \n",
       "19                             4500000                      10.4   \n",
       "20                             2800000                      31.6   \n",
       "21                             3400000                      45.7   \n",
       "22                           270000000                      88.8   \n",
       "\n",
       "    Number of mass shootings          pop           GDP  \n",
       "0                          4   23145901.0  1.573697e+12  \n",
       "1                          1    8479823.0  4.300687e+11  \n",
       "2                          2   11182817.0  5.209255e+11  \n",
       "3                          4   35152370.0  1.842628e+12  \n",
       "4                          0    5614932.0  3.435844e+11  \n",
       "5                          2    5438972.0  2.699801e+11  \n",
       "6                          6   65998660.0  2.811078e+12  \n",
       "7                          7   80645605.0  3.752514e+12  \n",
       "8                          0   10965211.0  2.398620e+11  \n",
       "9                          0    9893082.0  1.352157e+11  \n",
       "10                         0     323764.0  1.554832e+10  \n",
       "11                         0    4623816.0  2.393893e+11  \n",
       "12                         0   60233948.0  2.130491e+12  \n",
       "13                         0  127445000.0  5.155717e+12  \n",
       "14                         0     543360.0  6.173935e+10  \n",
       "15                         3    4442100.0  1.907852e+11  \n",
       "16                         1    5079623.0  5.235021e+11  \n",
       "17                         0   38040196.0  5.242343e+11  \n",
       "18                         1   10457295.0  2.260735e+11  \n",
       "19                         1   46620045.0  1.361854e+12  \n",
       "20                         2    9600379.0  5.787420e+11  \n",
       "21                         2    8089346.0  6.885042e+11  \n",
       "22                        78  316234505.0  1.669152e+13  "
      ]
     },
     "execution_count": 39,
     "metadata": {},
     "output_type": "execute_result"
    }
   ],
   "source": [
    "df7 = df6.drop(['ISO code','Source','% of homicides by firearm','Rank by rate of ownership',\n",
    "                'Average firearms per 100 people','Homicide by firearm rate per 100,000 pop'],axis=1)\n",
    "df7"
   ]
  },
  {
   "cell_type": "code",
   "execution_count": 24,
   "metadata": {},
   "outputs": [
    {
     "data": {
      "text/plain": [
       "Country                                 object\n",
       "Number of homicides by firearm           int64\n",
       "Average total all civilian firearms      int64\n",
       "Guns per 100 inhabitants               float64\n",
       "Number of mass shootings                 int64\n",
       "pop                                    float64\n",
       "GDP                                    float64\n",
       "dtype: object"
      ]
     },
     "execution_count": 24,
     "metadata": {},
     "output_type": "execute_result"
    }
   ],
   "source": [
    "df_=df7\n",
    "df_['Number of homicides by firearm'] = df_['Number of homicides by firearm'].astype(np.int64)\n",
    "df_['Average total all civilian firearms'] = df_['Average total all civilian firearms'].astype(np.int64)\n",
    "df_.dtypes\n"
   ]
  },
  {
   "cell_type": "markdown",
   "metadata": {
    "run_control": {
     "frozen": false,
     "read_only": false
    }
   },
   "source": [
    "# exploration\n",
    "\n",
    "## plot mass shooting vs gdp in absolute numbers, and per person. Show the errorbars (y errors)\n",
    "\n",
    "Use Poisson statistics for the errorbars on the number of mass shootings (optional: include errors on the population, also as Poisson statistics)\n",
    "\n",
    "Are there any points that look like they may be outilers?\n"
   ]
  },
  {
   "cell_type": "code",
   "execution_count": 25,
   "metadata": {
    "ExecuteTime": {
     "end_time": "2017-10-12T11:24:38.210994",
     "start_time": "2017-10-12T11:24:37.927232"
    },
    "run_control": {
     "frozen": false,
     "read_only": false
    }
   },
   "outputs": [
    {
     "data": {
      "image/png": "[encoded data removed]",
      "text/plain": [
       "<Figure size 720x360 with 1 Axes>"
      ]
     },
     "metadata": {
      "needs_background": "light"
     },
     "output_type": "display_data"
    },
    {
     "name": "stdout",
     "output_type": "stream",
     "text": [
      "Number of mass shooting vs GDP, errors represent Poisson statistics.\n",
      "The datapoint to the top right of the plot is the USA, which has noth the highest GDP and the highest number of mass shootings\n"
     ]
    }
   ],
   "source": [
    "fig = pl.figure(figsize=(10,5)) \n",
    "ax = fig.add_subplot(111)\n",
    "\n",
    "scatter = ax.scatter(df_.GDP / 1e9, df_['Number of mass shootings'])\n",
    "ax.errorbar(df_.GDP / 1e9, df_['Number of mass shootings'], \n",
    "            yerr = np.sqrt(df_['Number of mass shootings'] * 1.0), fmt = '.')\n",
    "ax.set_xlabel(\"GDP (in billions)\")\n",
    "ax.set_ylabel(\"Number of mass shooting per person\")\n",
    "ax.set_ylim()\n",
    "pl.title('GDP vs Number of mass shooting')\n",
    "pl.show()\n",
    "print (\"Number of mass shooting vs GDP, \" + \n",
    "       \"errors represent Poisson statistics.\\n\" + \n",
    "       \"The datapoint to the top right of the plot is the USA, \" + \n",
    "       \"which has noth the highest GDP and the highest number of mass shootings\")\n"
   ]
  },
  {
   "cell_type": "markdown",
   "metadata": {
    "run_control": {
     "frozen": false,
     "read_only": false
    }
   },
   "source": [
    "## plot the average number of civilian fire arms per person\n",
    "first without errors, then with errors. are there  points that look like outliers?"
   ]
  },
  {
   "cell_type": "code",
   "execution_count": 26,
   "metadata": {
    "ExecuteTime": {
     "end_time": "2017-10-12T07:17:52.778486",
     "start_time": "2017-10-12T07:17:52.768299"
    },
    "run_control": {
     "frozen": false,
     "read_only": false
    }
   },
   "outputs": [
    {
     "data": {
      "text/html": [
       "<div>\n",
       "<style scoped>\n",
       "    .dataframe tbody tr th:only-of-type {\n",
       "        vertical-align: middle;\n",
       "    }\n",
       "\n",
       "    .dataframe tbody tr th {\n",
       "        vertical-align: top;\n",
       "    }\n",
       "\n",
       "    .dataframe thead th {\n",
       "        text-align: right;\n",
       "    }\n",
       "</style>\n",
       "<table border=\"1\" class=\"dataframe\">\n",
       "  <thead>\n",
       "    <tr style=\"text-align: right;\">\n",
       "      <th></th>\n",
       "      <th>Country</th>\n",
       "      <th>Number of homicides by firearm</th>\n",
       "      <th>Average total all civilian firearms</th>\n",
       "      <th>Guns per 100 inhabitants</th>\n",
       "      <th>Number of mass shootings</th>\n",
       "      <th>pop</th>\n",
       "      <th>GDP</th>\n",
       "      <th>shootingspp</th>\n",
       "    </tr>\n",
       "  </thead>\n",
       "  <tbody>\n",
       "    <tr>\n",
       "      <th>0</th>\n",
       "      <td>Australia</td>\n",
       "      <td>30</td>\n",
       "      <td>3050000</td>\n",
       "      <td>15.0</td>\n",
       "      <td>4</td>\n",
       "      <td>23145901.0</td>\n",
       "      <td>1.573697e+12</td>\n",
       "      <td>0.000173</td>\n",
       "    </tr>\n",
       "    <tr>\n",
       "      <th>1</th>\n",
       "      <td>Austria</td>\n",
       "      <td>18</td>\n",
       "      <td>2500000</td>\n",
       "      <td>30.4</td>\n",
       "      <td>1</td>\n",
       "      <td>8479823.0</td>\n",
       "      <td>4.300687e+11</td>\n",
       "      <td>0.000118</td>\n",
       "    </tr>\n",
       "    <tr>\n",
       "      <th>2</th>\n",
       "      <td>Belgium</td>\n",
       "      <td>70</td>\n",
       "      <td>1800000</td>\n",
       "      <td>17.2</td>\n",
       "      <td>2</td>\n",
       "      <td>11182817.0</td>\n",
       "      <td>5.209255e+11</td>\n",
       "      <td>0.000179</td>\n",
       "    </tr>\n",
       "    <tr>\n",
       "      <th>3</th>\n",
       "      <td>Canada</td>\n",
       "      <td>173</td>\n",
       "      <td>9950000</td>\n",
       "      <td>30.8</td>\n",
       "      <td>4</td>\n",
       "      <td>35152370.0</td>\n",
       "      <td>1.842628e+12</td>\n",
       "      <td>0.000114</td>\n",
       "    </tr>\n",
       "    <tr>\n",
       "      <th>4</th>\n",
       "      <td>Denmark</td>\n",
       "      <td>15</td>\n",
       "      <td>650000</td>\n",
       "      <td>12.0</td>\n",
       "      <td>0</td>\n",
       "      <td>5614932.0</td>\n",
       "      <td>3.435844e+11</td>\n",
       "      <td>0.000000</td>\n",
       "    </tr>\n",
       "  </tbody>\n",
       "</table>\n",
       "</div>"
      ],
      "text/plain": [
       "     Country  Number of homicides by firearm  \\\n",
       "0  Australia                              30   \n",
       "1    Austria                              18   \n",
       "2    Belgium                              70   \n",
       "3     Canada                             173   \n",
       "4    Denmark                              15   \n",
       "\n",
       "   Average total all civilian firearms  Guns per 100 inhabitants  \\\n",
       "0                              3050000                      15.0   \n",
       "1                              2500000                      30.4   \n",
       "2                              1800000                      17.2   \n",
       "3                              9950000                      30.8   \n",
       "4                               650000                      12.0   \n",
       "\n",
       "   Number of mass shootings         pop           GDP  shootingspp  \n",
       "0                         4  23145901.0  1.573697e+12     0.000173  \n",
       "1                         1   8479823.0  4.300687e+11     0.000118  \n",
       "2                         2  11182817.0  5.209255e+11     0.000179  \n",
       "3                         4  35152370.0  1.842628e+12     0.000114  \n",
       "4                         0   5614932.0  3.435844e+11     0.000000  "
      ]
     },
     "execution_count": 26,
     "metadata": {},
     "output_type": "execute_result"
    }
   ],
   "source": [
    "df_['shootingspp'] = df_[\"Number of mass shootings\"] / df_['pop'] * 1e3\n",
    "df_.head()"
   ]
  },
  {
   "cell_type": "code",
   "execution_count": 27,
   "metadata": {},
   "outputs": [
    {
     "data": {
      "image/png": "[encoded data removed]",
      "text/plain": [
       "<Figure size 720x360 with 1 Axes>"
      ]
     },
     "metadata": {
      "needs_background": "light"
     },
     "output_type": "display_data"
    }
   ],
   "source": [
    "fig = pl.figure(figsize=(10,5)) \n",
    "ax = fig.add_subplot(111)\n",
    "\n",
    "scatter = ax.scatter(df_.GDP / 1e9, df_['Average total all civilian firearms'])\n",
    "\n",
    "ax.set_xlabel(\"GDP (in billions)\")\n",
    "ax.set_ylabel(\"Average total all civilian firearms\")\n",
    "ax.set_ylim()\n",
    "pl.title('Average total all civilian firearms vs GDP')\n",
    "pl.show()\n"
   ]
  },
  {
   "cell_type": "markdown",
   "metadata": {},
   "source": [
    "#### Average total all civilian firearms vs GDP. The datapoint to the top right of the plot is the USA which has both the highest GDP and the highest average total all civilian firearms"
   ]
  },
  {
   "cell_type": "code",
   "execution_count": 28,
   "metadata": {},
   "outputs": [
    {
     "data": {
      "image/png": "[encoded data removed]",
      "text/plain": [
       "<Figure size 720x360 with 1 Axes>"
      ]
     },
     "metadata": {
      "needs_background": "light"
     },
     "output_type": "display_data"
    }
   ],
   "source": [
    "fig = pl.figure(figsize=(10,5)) \n",
    "ax = fig.add_subplot(111)\n",
    "\n",
    "scatter = ax.scatter(df_.GDP / 1e9, df_['Average total all civilian firearms'])\n",
    "ax.errorbar(df_.GDP / 1e9, df_['Average total all civilian firearms'], \n",
    "            yerr = np.sqrt(df_['Average total all civilian firearms'] * 1.0), fmt = '.')\n",
    "ax.set_xlabel(\"GDP (in billions)\")\n",
    "ax.set_ylabel(\"Average total all civilian firearms\")\n",
    "ax.set_ylim()\n",
    "pl.title('Average total all civilian firearms vs GDP')\n",
    "pl.show()\n"
   ]
  },
  {
   "cell_type": "markdown",
   "metadata": {},
   "source": [
    "#### Average total all civilian firearms vs GDP. Errors represent Poisson statistics. The datapoint to the top right of the plot is the USA which has both the highest GDP and the highest average total all civilian firearms"
   ]
  },
  {
   "cell_type": "markdown",
   "metadata": {},
   "source": [
    "#### US is an outlier. We can't see the error bars because of the scale."
   ]
  },
  {
   "cell_type": "markdown",
   "metadata": {
    "run_control": {
     "frozen": false,
     "read_only": false
    }
   },
   "source": [
    "## plot the average number of homicide by fire arms per person\n",
    "first as a histogram\n",
    "\n",
    "then against the country GDP, with statistical errors. are there  points that look like outliers?"
   ]
  },
  {
   "cell_type": "code",
   "execution_count": 29,
   "metadata": {},
   "outputs": [
    {
     "data": {
      "image/png": "[encoded data removed]",
      "text/plain": [
       "<Figure size 432x288 with 1 Axes>"
      ]
     },
     "metadata": {
      "needs_background": "light"
     },
     "output_type": "display_data"
    }
   ],
   "source": [
    "fig, ax = plt.subplots()\n",
    "ax.hist(df_['Number of homicides by firearm'] / df_['pop'] * 1000)\n",
    "ax.set_xlabel('homicides by firearm per 1000 people');"
   ]
  },
  {
   "cell_type": "code",
   "execution_count": 30,
   "metadata": {},
   "outputs": [
    {
     "data": {
      "image/png": "[encoded data removed]",
      "text/plain": [
       "<Figure size 720x360 with 1 Axes>"
      ]
     },
     "metadata": {
      "needs_background": "light"
     },
     "output_type": "display_data"
    }
   ],
   "source": [
    "fig = pl.figure(figsize=(10,5)) \n",
    "ax = fig.add_subplot(111)\n",
    "\n",
    "scatter = ax.scatter(df_.GDP / 1e9, df_['Number of homicides by firearm'] / df_['pop'] * 1000)\n",
    "ax.errorbar(df_.GDP / 1e9, df_['Number of homicides by firearm'] / df_['pop'] * 1000, \n",
    "            yerr = np.sqrt(df_['Number of homicides by firearm'] / df_['pop'] * 1000 * 1.0), fmt = '.')\n",
    "ax.set_xlabel(\"GDP (in billions)\")\n",
    "ax.set_ylabel(\"Number of homicides by firearm / 1000 people\")\n",
    "ax.set_ylim(0,0.3)\n",
    "pl.title('Number of homicides by firearm vs GDP')\n",
    "pl.show()\n"
   ]
  },
  {
   "cell_type": "markdown",
   "metadata": {},
   "source": [
    "#### Number of homicides by firearm vs GDP. Errors represent Poisson statistics. The datapoint to the right of the plot is the USA which has both the highest GDP and the highest number of homicides by firearm"
   ]
  },
  {
   "cell_type": "markdown",
   "metadata": {
    "ExecuteTime": {
     "end_time": "2017-10-12T07:53:17.910541",
     "start_time": "2017-10-12T07:53:17.506477"
    },
    "run_control": {
     "frozen": false,
     "read_only": false
    }
   },
   "source": [
    "#### Again, US is an outlier. "
   ]
  },
  {
   "cell_type": "markdown",
   "metadata": {
    "run_control": {
     "frozen": false,
     "read_only": false
    }
   },
   "source": [
    "## plot the number of  homicides by fire arm against the number of civilian firearms. plot the  US in a different color\n",
    "with and without errorbars\n"
   ]
  },
  {
   "cell_type": "code",
   "execution_count": 44,
   "metadata": {},
   "outputs": [
    {
     "data": {
      "image/png": "[encoded data removed]",
      "text/plain": [
       "<Figure size 720x360 with 1 Axes>"
      ]
     },
     "metadata": {
      "needs_background": "light"
     },
     "output_type": "display_data"
    }
   ],
   "source": [
    "fig = pl.figure(figsize=(10,5)) \n",
    "ax = fig.add_subplot(111)\n",
    "\n",
    "scatter = ax.scatter(df_['Average total all civilian firearms'][22] , df_['Number of homicides by firearm'][22] / df_['pop'][22] * 1000,c='red')\n",
    "ax.errorbar(df_['Average total all civilian firearms'][22] , df_['Number of homicides by firearm'][22] / df_['pop'][22] * 1000, \n",
    "            yerr = np.sqrt(df_['Number of homicides by firearm'][22] / df_['pop'][22] * 1000 * 1.0), fmt = '.',c='red')\n",
    "\n",
    "scatter = ax.scatter(df_['Average total all civilian firearms'][0:22] , df_['Number of homicides by firearm'][0:22] / df_['pop'][0:22] * 1000)\n",
    "ax.errorbar(df_['Average total all civilian firearms'][0:22] , df_['Number of homicides by firearm'][0:22] / df_['pop'][0:22] * 1000, \n",
    "            yerr = np.sqrt(df_['Number of homicides by firearm'][0:22] / df_['pop'][0:22] * 1000 * 1.0), fmt = '.')\n",
    "\n",
    "\n",
    "ax.set_xlabel(\"Average total all civilian firearms\")\n",
    "ax.set_ylabel(\"Number of homicides by firearm / 1000 people\")\n",
    "ax.set_ylim(0,0.3)\n",
    "pl.title('Number of homicides by firearm vs Average total all civilian firearms')\n",
    "pl.show()"
   ]
  },
  {
   "cell_type": "markdown",
   "metadata": {},
   "source": [
    "#### Number of homicides by firearm vs Average total all civilian firearms. Errors represent Poisson statistics. The datapoint to the right of the plot is the USA which has both the highest number of homicides by firearm and the highest total all civilian firearms"
   ]
  },
  {
   "cell_type": "code",
   "execution_count": 41,
   "metadata": {},
   "outputs": [
    {
     "data": {
      "image/png": "[encoded data removed]",
      "text/plain": [
       "<Figure size 720x360 with 1 Axes>"
      ]
     },
     "metadata": {
      "needs_background": "light"
     },
     "output_type": "display_data"
    }
   ],
   "source": [
    "fig = pl.figure(figsize=(10,5)) \n",
    "ax = fig.add_subplot(111)\n",
    "\n",
    "scatter = ax.scatter(df_['Average total all civilian firearms'][0:22], df_['Number of homicides by firearm'][0:22] / df_['pop'][0:22] * 1000)\n",
    "scatter = ax.scatter(df_['Average total all civilian firearms'][22], df_['Number of homicides by firearm'][22] / df_['pop'][22] * 1000,c='red')\n",
    "\n",
    "\n",
    "ax.set_xlabel(\"Average total all civilian firearms\")\n",
    "ax.set_ylabel(\"Number of homicides by firearm / 1000 people\")\n",
    "ax.set_ylim(0,0.03)\n",
    "pl.title('Number of homicides by firearm vs Average total all civilian firearms')\n",
    "pl.show()"
   ]
  },
  {
   "cell_type": "markdown",
   "metadata": {},
   "source": [
    "#### Number of homicides by firearm vs Average total all civilian firearms. The datapoint to the right of the plot is the USA which has both the highest number of homicides by firearm and the highest total all civilian firearms"
   ]
  },
  {
   "cell_type": "code",
   "execution_count": null,
   "metadata": {},
   "outputs": [],
   "source": []
  },
  {
   "cell_type": "markdown",
   "metadata": {
    "run_control": {
     "frozen": false,
     "read_only": false
    }
   },
   "source": [
    "## plot the number of  mass shootings against the number of civilian firearms. plot the  US in a different color\n",
    "with and without errorbars\n"
   ]
  },
  {
   "cell_type": "code",
   "execution_count": 33,
   "metadata": {},
   "outputs": [
    {
     "data": {
      "image/png": "[encoded data removed]",
      "text/plain": [
       "<Figure size 720x360 with 1 Axes>"
      ]
     },
     "metadata": {
      "needs_background": "light"
     },
     "output_type": "display_data"
    }
   ],
   "source": [
    "fig = pl.figure(figsize=(10,5)) \n",
    "ax = fig.add_subplot(111)\n",
    "\n",
    "scatter = ax.scatter(df_['Average total all civilian firearms'][22], df_['Number of mass shootings'][22],c='red' )\n",
    "\n",
    "scatter = ax.scatter(df_['Average total all civilian firearms'][0:22], df_['Number of mass shootings'][0:22] )\n",
    "\n",
    "ax.errorbar(df_['Average total all civilian firearms'][22], df_['Number of mass shootings'][22] , \n",
    "            yerr = np.sqrt(df_['Number of mass shootings'][22] * 1.0), fmt = '.',c='red' )\n",
    "ax.errorbar(df_['Average total all civilian firearms'][0:22], df_['Number of mass shootings'][0:22] , \n",
    "            yerr = np.sqrt(df_['Number of mass shootings'][0:22] * 1.0), fmt = '.' )\n",
    "\n",
    "\n",
    "ax.set_xlabel(\"Average total all civilian firearms\")\n",
    "ax.set_ylabel(\"Number of mass shootings\")\n",
    "ax.set_ylim()\n",
    "pl.title('Number of mass shootings vs Average total all civilian firearms')\n",
    "pl.show()"
   ]
  },
  {
   "cell_type": "markdown",
   "metadata": {},
   "source": [
    "#### Number of mass shootings vs Average total all civilian firearms. Errors represent Poisson statistics. The datapoint to the right of the plot is the USA which has both the highest number of mass shootings and the highest total all civilian firearms"
   ]
  },
  {
   "cell_type": "code",
   "execution_count": 34,
   "metadata": {},
   "outputs": [
    {
     "data": {
      "image/png": "[encoded data removed]",
      "text/plain": [
       "<Figure size 720x360 with 1 Axes>"
      ]
     },
     "metadata": {
      "needs_background": "light"
     },
     "output_type": "display_data"
    }
   ],
   "source": [
    "fig = pl.figure(figsize=(10,5)) \n",
    "ax = fig.add_subplot(111)\n",
    "\n",
    "scatter = ax.scatter(df_['Average total all civilian firearms'], df_['Number of mass shootings'] )\n",
    "scatter = ax.scatter(df_['Average total all civilian firearms'][22], df_['Number of mass shootings'][22],c='red' )\n",
    "ax.set_xlabel(\"Average total all civilian firearms\")\n",
    "ax.set_ylabel(\"Number of mass shootings\")\n",
    "ax.set_ylim(0,100)\n",
    "pl.title('Number of mass shootings vs Average total all civilian firearms')\n",
    "pl.show()"
   ]
  },
  {
   "cell_type": "markdown",
   "metadata": {},
   "source": [
    "#### Number of mass shootings vs Average total all civilian firearms. The datapoint to the right of the plot is the USA which has both the highest number of mass shootings and the highest total all civilian firearms"
   ]
  },
  {
   "cell_type": "code",
   "execution_count": null,
   "metadata": {},
   "outputs": [],
   "source": []
  },
  {
   "cell_type": "markdown",
   "metadata": {
    "run_control": {
     "frozen": false,
     "read_only": false
    }
   },
   "source": [
    "# Modeling\n",
    "\n",
    "## fit a line to the Number of mass shootings  per person as a function of Average total all civilian firearms per person. \n",
    "Before you do it it is a good idea to make sure that both quantities are roughly of the same order of magnitude (unity). (You can simply divide by the order of magnitude of the mean of the sample to obtain this). Use\n",
    "\n",
    "    - statsmodels OLS\n",
    "    - statsmodels WLS\n",
    "    - seaborn\n",
    "    - choose one of\n",
    "        -- creating a function that calculates the residuals and minimizing that function\n",
    "        -- analytical solution http://mathworld.wolfram.com/LeastSquaresFitting.html\n",
    "        -- numpy.polyfit() - https://docs.scipy.org/doc/numpy-1.13.0/reference/generated/numpy.polyfit.html\n",
    "    \n",
    "\n",
    "WLS: that is the weighted square fit. The statsmodel package WLS function allows you to take the uncertainties of each data point into account when you fit your model. It takes the parameter weights, which is the inverse of your errors:\n",
    "weights = 1.0/df.yerror\n",
    "Notice that \n",
    "    a - sqrt(0) = 0\n",
    "    b - 1/0 = infinity\n",
    "    c - you cannot have weight that are infinity in your fit. Please come up with a solution and justify it.\n",
    "\n",
    "\n",
    "the latter three you can learn about in this example: https://github.com/fedhere/PUI2017_fb55/blob/master/Lab5_fb55/genderIncomeBias.ipynb\n",
    "Since we did not discuss these, I will add some notes to the repo in the afternoon.\n",
    "\n",
    "Use the seaborn python package built in regression function  to plot the regression confidence intervals. \n",
    "\n",
    "import seaborn  as sns\n",
    "sns.regplot(x=\"x\", y=\"y\", data=df);\n",
    "\n",
    "\n"
   ]
  },
  {
   "cell_type": "code",
   "execution_count": 45,
   "metadata": {
    "ExecuteTime": {
     "end_time": "2017-10-12T16:35:12.472517",
     "start_time": "2017-10-12T16:35:11.345016"
    },
    "run_control": {
     "frozen": false,
     "read_only": false
    }
   },
   "outputs": [
    {
     "data": {
      "text/plain": [
       "<matplotlib.legend.Legend at 0x7fe509b58d68>"
      ]
     },
     "execution_count": 45,
     "metadata": {},
     "output_type": "execute_result"
    },
    {
     "data": {
      "image/png": "[encoded data removed]",
      "text/plain": [
       "<Figure size 1080x1080 with 3 Axes>"
      ]
     },
     "metadata": {
      "needs_background": "light"
     },
     "output_type": "display_data"
    }
   ],
   "source": [
    "fig = pl.figure(figsize=(15,15)) \n",
    "ax = fig.add_subplot(321)\n",
    "ax1 = fig.add_subplot(322)\n",
    "ax2 = fig.add_subplot(323)\n",
    "\n",
    "scatter = ax.scatter(df_['Average total all civilian firearms']/df_['pop'], \n",
    "                     df_['Number of mass shootings'])\n",
    "ax.set_xlabel('firearms')\n",
    "ax.set_ylabel('mass shootings')\n",
    "ax.set_ylim()\n",
    "\n",
    "\n",
    "\n",
    "#statsmodels OLS\n",
    "x = df_['Average total all civilian firearms']/df_['pop']\n",
    "x1 = sm.add_constant(x)\n",
    "x1\n",
    "smfit = smf.OLS(df_['Number of mass shootings'], x1).fit()\n",
    "c, d = smfit.params\n",
    "\n",
    "scatter = ax1.scatter(df_['Average total all civilian firearms']/df_['pop'], \n",
    "                     df_['Number of mass shootings'] )\n",
    "ax1.set_xlabel('firearms')\n",
    "ax1.set_ylabel('mass shootings')\n",
    "ax1.plot(x, d*x+c, label=\"fitted line\")\n",
    "ax1.legend(loc='upper left')\n",
    "\n",
    "\n",
    "# WLS \n",
    "\n",
    "w = 1. / (np.std(np.sqrt(x))**2)\n",
    "\n",
    "mod_wls = sm.WLS(df_['Average total all civilian firearms']/df_['pop'], x1, weights=w)\n",
    "res_wls = mod_wls.fit()\n",
    "e, f = res_wls.params\n",
    "\n",
    "scatter = ax2.scatter(df_['Average total all civilian firearms']/df_['pop'], \n",
    "                     df_['Number of mass shootings'] )\n",
    "\n",
    "ax2.set_xlabel('firearms')\n",
    "ax2.set_ylabel('mass shootings')\n",
    "ax2.plot(x, d*x+c, label=\"OLS\")\n",
    "ax2.plot(x, f*x+e, label=\"WLS\")\n",
    "ax2.legend(loc='upper left')\n"
   ]
  },
  {
   "cell_type": "code",
   "execution_count": null,
   "metadata": {},
   "outputs": [],
   "source": []
  },
  {
   "cell_type": "code",
   "execution_count": null,
   "metadata": {},
   "outputs": [],
   "source": []
  },
  {
   "cell_type": "code",
   "execution_count": null,
   "metadata": {},
   "outputs": [],
   "source": []
  },
  {
   "cell_type": "markdown",
   "metadata": {},
   "source": [
    "\n",
    "Outlier removal:\n",
    "\n",
    "The concept of outlier is actually rather sophisticated: a point can be an outlier in a context but not in another. If you want to remove outliers and try different fits, here is some info on how to remove data efficiently from a dataset https://gist.github.com/fedhere/89db40a3c9a28335bf5a35d52a52c595\n"
   ]
  },
  {
   "cell_type": "markdown",
   "metadata": {
    "ExecuteTime": {
     "end_time": "2017-10-12T16:21:08.019663",
     "start_time": "2017-10-12T16:21:08.010876"
    },
    "run_control": {
     "frozen": false,
     "read_only": false
    }
   },
   "source": [
    "## Extra credit: calculate the confidence interval by hand and also plot them \n",
    "you can use pylab.fill_between(x, yfit - ci, yfit + ci, alpha=0.5)"
   ]
  },
  {
   "cell_type": "markdown",
   "metadata": {
    "run_control": {
     "frozen": false,
     "read_only": false
    }
   },
   "source": [
    "**Confidence intervals: **\n",
    "there are three type of intervals in a linear regression, plot any one of them all three if you want - how do they compare to the seaborn plot?:\n",
    "\n",
    "1) Confidence intervals for the parameters slope and intercept\n",
    "\n",
    "2) Confidence interval for the average y value\n",
    "\n",
    "3) Prediction interval for a single y value"
   ]
  },
  {
   "cell_type": "markdown",
   "metadata": {
    "run_control": {
     "frozen": false,
     "read_only": false
    }
   },
   "source": [
    "1) __confidence interval of the  model parameters slope and intercept:__\n",
    "define sigma as the sum of the residuals over the square root of number n of observations. \n",
    "\n",
    "sigma: σ̂ =sqrt(Sum((Yoberved_i−Ypredicted_i)^2)/n)\n",
    "\n",
    "where the sum is over all observations\n",
    "\n",
    "Define t_alpha/2,n-2 the t statistics at (1-alpha/2) for a t distribution with n-2 degrees of freedom (you can calculate it with scipy\n",
    "tp = sp.stats.t.ppf(0.975, n-2)\n",
    "\n"
   ]
  },
  {
   "cell_type": "code",
   "execution_count": 36,
   "metadata": {
    "ExecuteTime": {
     "end_time": "2017-10-12T15:42:26.836222",
     "start_time": "2017-10-12T15:42:26.819963"
    },
    "run_control": {
     "frozen": false,
     "read_only": false
    }
   },
   "outputs": [
    {
     "ename": "FileNotFoundError",
     "evalue": "[Errno 2] No such file or directory: '../Lab5_fb55/confidence_intervals_regression.png'",
     "output_type": "error",
     "traceback": [
      "\u001b[0;31m---------------------------------------------------------------------------\u001b[0m",
      "\u001b[0;31mFileNotFoundError\u001b[0m                         Traceback (most recent call last)",
      "\u001b[0;32m<ipython-input-36-b034ca052bfa>\u001b[0m in \u001b[0;36m<module>\u001b[0;34m\u001b[0m\n\u001b[1;32m      1\u001b[0m \u001b[0;32mfrom\u001b[0m \u001b[0mIPython\u001b[0m\u001b[0;34m.\u001b[0m\u001b[0mdisplay\u001b[0m \u001b[0;32mimport\u001b[0m \u001b[0mImage\u001b[0m\u001b[0;34m\u001b[0m\u001b[0m\n\u001b[0;32m----> 2\u001b[0;31m \u001b[0mImage\u001b[0m\u001b[0;34m(\u001b[0m\u001b[0mfilename\u001b[0m\u001b[0;34m=\u001b[0m\u001b[0;34m\"../Lab5_fb55/confidence_intervals_regression.png\"\u001b[0m\u001b[0;34m)\u001b[0m\u001b[0;34m\u001b[0m\u001b[0m\n\u001b[0m",
      "\u001b[0;32m~/.conda/envs/myenv3.7/lib/python3.7/site-packages/IPython/core/display.py\u001b[0m in \u001b[0;36m__init__\u001b[0;34m(self, data, url, filename, format, embed, width, height, retina, unconfined, metadata)\u001b[0m\n\u001b[1;32m   1184\u001b[0m         \u001b[0mself\u001b[0m\u001b[0;34m.\u001b[0m\u001b[0munconfined\u001b[0m \u001b[0;34m=\u001b[0m \u001b[0munconfined\u001b[0m\u001b[0;34m\u001b[0m\u001b[0m\n\u001b[1;32m   1185\u001b[0m         super(Image, self).__init__(data=data, url=url, filename=filename, \n\u001b[0;32m-> 1186\u001b[0;31m                 metadata=metadata)\n\u001b[0m\u001b[1;32m   1187\u001b[0m \u001b[0;34m\u001b[0m\u001b[0m\n\u001b[1;32m   1188\u001b[0m         \u001b[0;32mif\u001b[0m \u001b[0mself\u001b[0m\u001b[0;34m.\u001b[0m\u001b[0mwidth\u001b[0m \u001b[0;32mis\u001b[0m \u001b[0;32mNone\u001b[0m \u001b[0;32mand\u001b[0m \u001b[0mself\u001b[0m\u001b[0;34m.\u001b[0m\u001b[0mmetadata\u001b[0m\u001b[0;34m.\u001b[0m\u001b[0mget\u001b[0m\u001b[0;34m(\u001b[0m\u001b[0;34m'width'\u001b[0m\u001b[0;34m,\u001b[0m \u001b[0;34m{\u001b[0m\u001b[0;34m}\u001b[0m\u001b[0;34m)\u001b[0m\u001b[0;34m:\u001b[0m\u001b[0;34m\u001b[0m\u001b[0m\n",
      "\u001b[0;32m~/.conda/envs/myenv3.7/lib/python3.7/site-packages/IPython/core/display.py\u001b[0m in \u001b[0;36m__init__\u001b[0;34m(self, data, url, filename, metadata)\u001b[0m\n\u001b[1;32m    613\u001b[0m             \u001b[0mself\u001b[0m\u001b[0;34m.\u001b[0m\u001b[0mmetadata\u001b[0m \u001b[0;34m=\u001b[0m \u001b[0;34m{\u001b[0m\u001b[0;34m}\u001b[0m\u001b[0;34m\u001b[0m\u001b[0m\n\u001b[1;32m    614\u001b[0m \u001b[0;34m\u001b[0m\u001b[0m\n\u001b[0;32m--> 615\u001b[0;31m         \u001b[0mself\u001b[0m\u001b[0;34m.\u001b[0m\u001b[0mreload\u001b[0m\u001b[0;34m(\u001b[0m\u001b[0;34m)\u001b[0m\u001b[0;34m\u001b[0m\u001b[0m\n\u001b[0m\u001b[1;32m    616\u001b[0m         \u001b[0mself\u001b[0m\u001b[0;34m.\u001b[0m\u001b[0m_check_data\u001b[0m\u001b[0;34m(\u001b[0m\u001b[0;34m)\u001b[0m\u001b[0;34m\u001b[0m\u001b[0m\n\u001b[1;32m    617\u001b[0m \u001b[0;34m\u001b[0m\u001b[0m\n",
      "\u001b[0;32m~/.conda/envs/myenv3.7/lib/python3.7/site-packages/IPython/core/display.py\u001b[0m in \u001b[0;36mreload\u001b[0;34m(self)\u001b[0m\n\u001b[1;32m   1215\u001b[0m         \u001b[0;34m\"\"\"Reload the raw data from file or URL.\"\"\"\u001b[0m\u001b[0;34m\u001b[0m\u001b[0m\n\u001b[1;32m   1216\u001b[0m         \u001b[0;32mif\u001b[0m \u001b[0mself\u001b[0m\u001b[0;34m.\u001b[0m\u001b[0membed\u001b[0m\u001b[0;34m:\u001b[0m\u001b[0;34m\u001b[0m\u001b[0m\n\u001b[0;32m-> 1217\u001b[0;31m             \u001b[0msuper\u001b[0m\u001b[0;34m(\u001b[0m\u001b[0mImage\u001b[0m\u001b[0;34m,\u001b[0m\u001b[0mself\u001b[0m\u001b[0;34m)\u001b[0m\u001b[0;34m.\u001b[0m\u001b[0mreload\u001b[0m\u001b[0;34m(\u001b[0m\u001b[0;34m)\u001b[0m\u001b[0;34m\u001b[0m\u001b[0m\n\u001b[0m\u001b[1;32m   1218\u001b[0m             \u001b[0;32mif\u001b[0m \u001b[0mself\u001b[0m\u001b[0;34m.\u001b[0m\u001b[0mretina\u001b[0m\u001b[0;34m:\u001b[0m\u001b[0;34m\u001b[0m\u001b[0m\n\u001b[1;32m   1219\u001b[0m                 \u001b[0mself\u001b[0m\u001b[0;34m.\u001b[0m\u001b[0m_retina_shape\u001b[0m\u001b[0;34m(\u001b[0m\u001b[0;34m)\u001b[0m\u001b[0;34m\u001b[0m\u001b[0m\n",
      "\u001b[0;32m~/.conda/envs/myenv3.7/lib/python3.7/site-packages/IPython/core/display.py\u001b[0m in \u001b[0;36mreload\u001b[0;34m(self)\u001b[0m\n\u001b[1;32m    638\u001b[0m         \u001b[0;34m\"\"\"Reload the raw data from file or URL.\"\"\"\u001b[0m\u001b[0;34m\u001b[0m\u001b[0m\n\u001b[1;32m    639\u001b[0m         \u001b[0;32mif\u001b[0m \u001b[0mself\u001b[0m\u001b[0;34m.\u001b[0m\u001b[0mfilename\u001b[0m \u001b[0;32mis\u001b[0m \u001b[0;32mnot\u001b[0m \u001b[0;32mNone\u001b[0m\u001b[0;34m:\u001b[0m\u001b[0;34m\u001b[0m\u001b[0m\n\u001b[0;32m--> 640\u001b[0;31m             \u001b[0;32mwith\u001b[0m \u001b[0mopen\u001b[0m\u001b[0;34m(\u001b[0m\u001b[0mself\u001b[0m\u001b[0;34m.\u001b[0m\u001b[0mfilename\u001b[0m\u001b[0;34m,\u001b[0m \u001b[0mself\u001b[0m\u001b[0;34m.\u001b[0m\u001b[0m_read_flags\u001b[0m\u001b[0;34m)\u001b[0m \u001b[0;32mas\u001b[0m \u001b[0mf\u001b[0m\u001b[0;34m:\u001b[0m\u001b[0;34m\u001b[0m\u001b[0m\n\u001b[0m\u001b[1;32m    641\u001b[0m                 \u001b[0mself\u001b[0m\u001b[0;34m.\u001b[0m\u001b[0mdata\u001b[0m \u001b[0;34m=\u001b[0m \u001b[0mf\u001b[0m\u001b[0;34m.\u001b[0m\u001b[0mread\u001b[0m\u001b[0;34m(\u001b[0m\u001b[0;34m)\u001b[0m\u001b[0;34m\u001b[0m\u001b[0m\n\u001b[1;32m    642\u001b[0m         \u001b[0;32melif\u001b[0m \u001b[0mself\u001b[0m\u001b[0;34m.\u001b[0m\u001b[0murl\u001b[0m \u001b[0;32mis\u001b[0m \u001b[0;32mnot\u001b[0m \u001b[0;32mNone\u001b[0m\u001b[0;34m:\u001b[0m\u001b[0;34m\u001b[0m\u001b[0m\n",
      "\u001b[0;31mFileNotFoundError\u001b[0m: [Errno 2] No such file or directory: '../Lab5_fb55/confidence_intervals_regression.png'"
     ]
    }
   ],
   "source": [
    "from IPython.display import Image\n",
    "Image(filename=\"../Lab5_fb55/confidence_intervals_regression.png\")"
   ]
  },
  {
   "cell_type": "code",
   "execution_count": null,
   "metadata": {
    "ExecuteTime": {
     "end_time": "2017-10-12T15:54:20.748008",
     "start_time": "2017-10-12T15:54:20.736381"
    },
    "run_control": {
     "frozen": false,
     "read_only": false
    }
   },
   "outputs": [],
   "source": [
    "from IPython.display import Image\n",
    "Image(filename=\"../Lab5_fb55/confidence_intervals_regression2.png\")"
   ]
  },
  {
   "cell_type": "markdown",
   "metadata": {
    "run_control": {
     "frozen": false,
     "read_only": false
    }
   },
   "source": [
    "[proof](https://onlinecourses.science.psu.edu/stat414/node/280)"
   ]
  },
  {
   "cell_type": "markdown",
   "metadata": {
    "run_control": {
     "frozen": false,
     "read_only": false
    }
   },
   "source": [
    "2) **A confidence interval for E(y | x) , the expected (average) value of y for a given x_**\n",
    "\n",
    "define s: residual standard error sy = sqrt(Sum((y_observed-y_predicted)^2)/(n-2))\n",
    "\n",
    "(note: n-2 is the degrees of freedom of the problem: observations - number of parameters - 1)\n",
    "\n",
    "the confidence interval for a given y(x*) is: \n",
    "\n",
    "y_predicted(x*) +/- t_(alpha/2)(n-2) * sy * sqrt( 1/n + (x* - mean(x)^2) / sum((x* - mean(x)^2)"
   ]
  },
  {
   "cell_type": "code",
   "execution_count": null,
   "metadata": {
    "ExecuteTime": {
     "end_time": "2017-10-12T16:09:14.173143",
     "start_time": "2017-10-12T16:09:14.161088"
    },
    "run_control": {
     "frozen": false,
     "read_only": false
    }
   },
   "outputs": [],
   "source": [
    "from IPython.display import Image\n",
    "Image(filename=\"../Lab5_fb55/ciY.png\")"
   ]
  },
  {
   "cell_type": "markdown",
   "metadata": {
    "run_control": {
     "frozen": false,
     "read_only": false
    }
   },
   "source": [
    "3) **Confidence intervals for average y (predicted) values**\n",
    "\n",
    "y_predicted(x*) +/- t_(n-2) * sy * sqrt( 1 + 1/n + (x* - mean(x)^2) / sum((x* - mean(x)^2)\n",
    "\n",
    "very similar, but note the +1 in the square root"
   ]
  },
  {
   "cell_type": "code",
   "execution_count": null,
   "metadata": {
    "ExecuteTime": {
     "end_time": "2017-10-12T16:08:46.077157",
     "start_time": "2017-10-12T16:08:46.067407"
    },
    "run_control": {
     "frozen": false,
     "read_only": false
    }
   },
   "outputs": [],
   "source": [
    "from IPython.display import Image\n",
    "Image(filename=\"../Lab5_fb55/ciYaverage.png\")"
   ]
  },
  {
   "cell_type": "code",
   "execution_count": null,
   "metadata": {
    "ExecuteTime": {
     "end_time": "2017-10-12T16:36:39.238967",
     "start_time": "2017-10-12T16:36:38.688004"
    },
    "run_control": {
     "frozen": false,
     "read_only": false
    }
   },
   "outputs": [],
   "source": [
    "pl.figure()\n",
    "import seaborn  as sns\n",
    "sns.regplot(x=\"x\", y=\"y\", data=df_);\n",
    "\n",
    "pl.ylabel(\"Mass shootings\")\n",
    "pl.xlabel(\"Fire arms\");"
   ]
  },
  {
   "cell_type": "markdown",
   "metadata": {
    "run_control": {
     "frozen": false,
     "read_only": false
    }
   },
   "source": [
    "## Use the stsatsmodels.gaphics package to plot the influence plot. \n",
    "Read the package documentation to learn how to read this plot and extract the countries with the highest influence\n",
    "\n",
    "This is the topic of this week's assigned reading, so make sure you do the reading before you do this step. It will help you interpret the plot."
   ]
  },
  {
   "cell_type": "code",
   "execution_count": null,
   "metadata": {
    "ExecuteTime": {
     "end_time": "2017-10-11T07:46:21.766085",
     "start_time": "2017-10-11T07:46:21.412498"
    },
    "run_control": {
     "frozen": false,
     "read_only": false
    }
   },
   "outputs": [],
   "source": [
    "sm.graphics.influence_plot(modelOLS, alpha  = 0.05, criterion=\"cooks\");"
   ]
  },
  {
   "cell_type": "markdown",
   "metadata": {
    "run_control": {
     "frozen": false,
     "read_only": false
    }
   },
   "source": [
    "## Extra credit: calculate from scratch the stanrdardized residuals and the H leverage for the WLS model and discuss if there are any differences"
   ]
  },
  {
   "cell_type": "markdown",
   "metadata": {
    "run_control": {
     "frozen": false,
     "read_only": false
    }
   },
   "source": [
    "## Discuss your findings"
   ]
  },
  {
   "cell_type": "code",
   "execution_count": null,
   "metadata": {},
   "outputs": [],
   "source": []
  }
 ],
 "metadata": {
  "anaconda-cloud": {},
  "kernelspec": {
   "display_name": "myenv3.7",
   "language": "python",
   "name": "myenv3.7"
  },
  "language_info": {
   "codemirror_mode": {
    "name": "ipython",
    "version": 3
   },
   "file_extension": ".py",
   "mimetype": "text/x-python",
   "name": "python",
   "nbconvert_exporter": "python",
   "pygments_lexer": "ipython3",
   "version": "3.7.0"
  },
  "latex_envs": {
   "LaTeX_envs_menu_present": true,
   "bibliofile": "biblio.bib",
   "cite_by": "apalike",
   "current_citInitial": 1,
   "eqLabelWithNumbers": true,
   "eqNumInitial": 1,
   "hotkeys": {
    "equation": "Ctrl-E",
    "itemize": "Ctrl-I"
   },
   "labels_anchors": false,
   "latex_user_defs": false,
   "report_style_numbering": false,
   "user_envs_cfg": false
  },
  "toc": {
   "colors": {
    "hover_highlight": "#DAA520",
    "running_highlight": "#FF0000",
    "selected_highlight": "#FFD700"
   },
   "moveMenuLeft": true,
   "nav_menu": {
    "height": "13px",
    "width": "251px"
   },
   "navigate_menu": true,
   "number_sections": true,
   "sideBar": true,
   "threshold": 4,
   "toc_cell": true,
   "toc_section_display": "block",
   "toc_window_display": true
  }
 },
 "nbformat": 4,
 "nbformat_minor": 1
}
